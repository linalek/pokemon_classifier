{
 "cells": [
  {
   "cell_type": "markdown",
   "metadata": {
    "id": "aIuUgSL1G0d5"
   },
   "source": [
    "# Data Exploration Analysis of the Pokémon Dataset"
   ]
  },
  {
   "cell_type": "markdown",
   "metadata": {
    "id": "1ymgLNayG0d7"
   },
   "source": [
    "## 1. Introduction\n",
    "\n",
    "In this notebook, we perform an **exploratory data analysis** of a Pokémon dataset to prepare for building a **Multi-Layer Perceptron (MLP)** classifier. The dataset consists of **images of Pokémon**, each identified by an ID (corresponding to an image file with png extension) and a label indicating its **type**."
   ]
  },
  {
   "cell_type": "markdown",
   "metadata": {
    "id": "9fpBsI6GG0d7"
   },
   "source": [
    " Objectives:\n",
    "1. **Understand the dataset structure** – Check the number of images and their size (inputs), Pokémon types (outputs), and the overall data quality.\n",
    "2. **Identify class distribution** – Analyze the frequency of each Pokémon type and detect potential **class imbalances**.\n",
    "3. **Visualize the data** – Use representations to gain insights into the dataset (find the best one).\n",
    "4. **Quantify class imbalances** – Provide precise **percentages** for each class to meet the highest evaluation criteria."
   ]
  },
  {
   "cell_type": "markdown",
   "metadata": {
    "id": "eKqyRWulG0d8"
   },
   "source": [
    "Why is this part important?\n",
    "It will help us:\n",
    "- detect **missing values**;\n",
    "- identify **imbalances** that might's affect the model's performance;\n",
    "- make decision about some **pre-processing** or other strategies."
   ]
  },
  {
   "cell_type": "markdown",
   "metadata": {
    "id": "1iOFI8HzG0d8"
   },
   "source": [
    "## 2. Importation of librairies and data"
   ]
  },
  {
   "cell_type": "markdown",
   "metadata": {
    "id": "j4ybAo-qG0d8"
   },
   "source": [
    "**A. Librairies**"
   ]
  },
  {
   "cell_type": "code",
   "execution_count": null,
   "metadata": {
    "ExecuteTime": {
     "end_time": "2025-03-27T10:32:39.304461Z",
     "start_time": "2025-03-27T10:32:39.279812Z"
    },
    "id": "gJPRW0PTG0d8"
   },
   "outputs": [],
   "source": [
    "#basic ones\n",
    "import numpy as np\n",
    "import pandas as pd\n",
    "import random\n",
    "\n",
    "#graph representation\n",
    "import matplotlib.pyplot as plt\n",
    "import seaborn as sns\n",
    "\n",
    "#image printing\n",
    "import matplotlib.image as mpimg\n",
    "import os\n",
    "from PIL import Image"
   ]
  },
  {
   "cell_type": "markdown",
   "metadata": {
    "id": "kogc4TrZG0d9"
   },
   "source": [
    "**B. Data**"
   ]
  },
  {
   "cell_type": "markdown",
   "metadata": {
    "id": "Nc0M2mdeHVZh"
   },
   "source": [
    "**Put the right path here, being your google drive for colab, or the kaggle one for the submissions**"
   ]
  },
  {
   "cell_type": "code",
   "execution_count": null,
   "metadata": {
    "ExecuteTime": {
     "end_time": "2025-03-27T10:32:39.320924Z",
     "start_time": "2025-03-27T10:32:39.304785Z"
    },
    "colab": {
     "base_uri": "https://localhost:8080/"
    },
    "executionInfo": {
     "elapsed": 968,
     "status": "ok",
     "timestamp": 1744038112603,
     "user": {
      "displayName": "Hugo WERCK",
      "userId": "02564599842334010125"
     },
     "user_tz": -60
    },
    "id": "-EbSIaumHi1a",
    "outputId": "211e9224-6aba-4cac-dfde-afe4d6cc80be"
   },
   "outputs": [
    {
     "name": "stdout",
     "output_type": "stream",
     "text": [
      "Drive already mounted at /content/drive; to attempt to forcibly remount, call drive.mount(\"/content/drive\", force_remount=True).\n"
     ]
    }
   ],
   "source": [
    "# # Google Colab of Hugo\n",
    "# from google.colab import drive\n",
    "# drive.mount('/content/drive')\n",
    "# my_path = '/content/drive/MyDrive/AP - Assignement1/'\n",
    "\n",
    "# Kaggle\n",
    "# my_path = '/kaggle/input/the-pokemon-are-out-there-task-1/'\n",
    "\n",
    "# Local\n",
    "my_path = '../data/'"
   ]
  },
  {
   "cell_type": "code",
   "execution_count": null,
   "metadata": {
    "ExecuteTime": {
     "end_time": "2025-03-27T10:32:39.389911Z",
     "start_time": "2025-03-27T10:32:39.373487Z"
    },
    "id": "VKEGbGo5IxDB"
   },
   "outputs": [],
   "source": [
    "# How to find the correct path on Google Drive ?\n",
    "# First mount your drive and it might asks you to connect\n",
    "# from google.colab import drive\n",
    "# drive.mount('/content/drive')\n",
    "\n",
    "# then naviguate throught your folders to find the correct one using :\n",
    "# ! ls"
   ]
  },
  {
   "cell_type": "code",
   "execution_count": null,
   "metadata": {
    "ExecuteTime": {
     "end_time": "2025-03-27T10:32:39.450129Z",
     "start_time": "2025-03-27T10:32:39.439004Z"
    },
    "colab": {
     "base_uri": "https://localhost:8080/",
     "height": 206
    },
    "executionInfo": {
     "elapsed": 109,
     "status": "ok",
     "timestamp": 1744038112729,
     "user": {
      "displayName": "Hugo WERCK",
      "userId": "02564599842334010125"
     },
     "user_tz": -60
    },
    "id": "zVXEe-oiG0d9",
    "outputId": "105b4cf4-dba4-47b4-b5ad-efa86b4ffb05"
   },
   "outputs": [
    {
     "data": {
      "application/vnd.google.colaboratory.intrinsic+json": {
       "summary": "{\n  \"name\": \"data\",\n  \"rows\": 3600,\n  \"fields\": [\n    {\n      \"column\": \"Id\",\n      \"properties\": {\n        \"dtype\": \"string\",\n        \"num_unique_values\": 3600,\n        \"samples\": [\n          \"fdc49576-702b-4029-8c38-62408aeff084\",\n          \"f3b93777-320c-4f5f-ba19-a5a7c1cc2ef5\",\n          \"a92fa2a4-c11c-4f4f-8bbb-a1353cfae774\"\n        ],\n        \"semantic_type\": \"\",\n        \"description\": \"\"\n      }\n    },\n    {\n      \"column\": \"label\",\n      \"properties\": {\n        \"dtype\": \"category\",\n        \"num_unique_values\": 9,\n        \"samples\": [\n          \"Fighting\",\n          \"Poison\",\n          \"Rock\"\n        ],\n        \"semantic_type\": \"\",\n        \"description\": \"\"\n      }\n    }\n  ]\n}",
       "type": "dataframe",
       "variable_name": "data"
      },
      "text/html": [
       "\n",
       "  <div id=\"df-d80ea871-b4b3-4fa4-8181-fcdacb676a91\" class=\"colab-df-container\">\n",
       "    <div>\n",
       "<style scoped>\n",
       "    .dataframe tbody tr th:only-of-type {\n",
       "        vertical-align: middle;\n",
       "    }\n",
       "\n",
       "    .dataframe tbody tr th {\n",
       "        vertical-align: top;\n",
       "    }\n",
       "\n",
       "    .dataframe thead th {\n",
       "        text-align: right;\n",
       "    }\n",
       "</style>\n",
       "<table border=\"1\" class=\"dataframe\">\n",
       "  <thead>\n",
       "    <tr style=\"text-align: right;\">\n",
       "      <th></th>\n",
       "      <th>Id</th>\n",
       "      <th>label</th>\n",
       "    </tr>\n",
       "  </thead>\n",
       "  <tbody>\n",
       "    <tr>\n",
       "      <th>0</th>\n",
       "      <td>6fc9045b-9983-41e2-be2d-8796ecd97412</td>\n",
       "      <td>Normal</td>\n",
       "    </tr>\n",
       "    <tr>\n",
       "      <th>1</th>\n",
       "      <td>874716ce-9048-4e8a-b980-5ed9a5c0110e</td>\n",
       "      <td>Poison</td>\n",
       "    </tr>\n",
       "    <tr>\n",
       "      <th>2</th>\n",
       "      <td>c3613b20-ead8-48e1-8c8d-2f219d8e19d4</td>\n",
       "      <td>Normal</td>\n",
       "    </tr>\n",
       "    <tr>\n",
       "      <th>3</th>\n",
       "      <td>c7264ebc-ba44-460a-9b2b-df23c04783bc</td>\n",
       "      <td>Normal</td>\n",
       "    </tr>\n",
       "    <tr>\n",
       "      <th>4</th>\n",
       "      <td>a72045db-8fae-458b-993e-23d2aab1a5c6</td>\n",
       "      <td>Normal</td>\n",
       "    </tr>\n",
       "  </tbody>\n",
       "</table>\n",
       "</div>\n",
       "    <div class=\"colab-df-buttons\">\n",
       "\n",
       "  <div class=\"colab-df-container\">\n",
       "    <button class=\"colab-df-convert\" onclick=\"convertToInteractive('df-d80ea871-b4b3-4fa4-8181-fcdacb676a91')\"\n",
       "            title=\"Convert this dataframe to an interactive table.\"\n",
       "            style=\"display:none;\">\n",
       "\n",
       "  <svg xmlns=\"http://www.w3.org/2000/svg\" height=\"24px\" viewBox=\"0 -960 960 960\">\n",
       "    <path d=\"M120-120v-720h720v720H120Zm60-500h600v-160H180v160Zm220 220h160v-160H400v160Zm0 220h160v-160H400v160ZM180-400h160v-160H180v160Zm440 0h160v-160H620v160ZM180-180h160v-160H180v160Zm440 0h160v-160H620v160Z\"/>\n",
       "  </svg>\n",
       "    </button>\n",
       "\n",
       "  <style>\n",
       "    .colab-df-container {\n",
       "      display:flex;\n",
       "      gap: 12px;\n",
       "    }\n",
       "\n",
       "    .colab-df-convert {\n",
       "      background-color: #E8F0FE;\n",
       "      border: none;\n",
       "      border-radius: 50%;\n",
       "      cursor: pointer;\n",
       "      display: none;\n",
       "      fill: #1967D2;\n",
       "      height: 32px;\n",
       "      padding: 0 0 0 0;\n",
       "      width: 32px;\n",
       "    }\n",
       "\n",
       "    .colab-df-convert:hover {\n",
       "      background-color: #E2EBFA;\n",
       "      box-shadow: 0px 1px 2px rgba(60, 64, 67, 0.3), 0px 1px 3px 1px rgba(60, 64, 67, 0.15);\n",
       "      fill: #174EA6;\n",
       "    }\n",
       "\n",
       "    .colab-df-buttons div {\n",
       "      margin-bottom: 4px;\n",
       "    }\n",
       "\n",
       "    [theme=dark] .colab-df-convert {\n",
       "      background-color: #3B4455;\n",
       "      fill: #D2E3FC;\n",
       "    }\n",
       "\n",
       "    [theme=dark] .colab-df-convert:hover {\n",
       "      background-color: #434B5C;\n",
       "      box-shadow: 0px 1px 3px 1px rgba(0, 0, 0, 0.15);\n",
       "      filter: drop-shadow(0px 1px 2px rgba(0, 0, 0, 0.3));\n",
       "      fill: #FFFFFF;\n",
       "    }\n",
       "  </style>\n",
       "\n",
       "    <script>\n",
       "      const buttonEl =\n",
       "        document.querySelector('#df-d80ea871-b4b3-4fa4-8181-fcdacb676a91 button.colab-df-convert');\n",
       "      buttonEl.style.display =\n",
       "        google.colab.kernel.accessAllowed ? 'block' : 'none';\n",
       "\n",
       "      async function convertToInteractive(key) {\n",
       "        const element = document.querySelector('#df-d80ea871-b4b3-4fa4-8181-fcdacb676a91');\n",
       "        const dataTable =\n",
       "          await google.colab.kernel.invokeFunction('convertToInteractive',\n",
       "                                                    [key], {});\n",
       "        if (!dataTable) return;\n",
       "\n",
       "        const docLinkHtml = 'Like what you see? Visit the ' +\n",
       "          '<a target=\"_blank\" href=https://colab.research.google.com/notebooks/data_table.ipynb>data table notebook</a>'\n",
       "          + ' to learn more about interactive tables.';\n",
       "        element.innerHTML = '';\n",
       "        dataTable['output_type'] = 'display_data';\n",
       "        await google.colab.output.renderOutput(dataTable, element);\n",
       "        const docLink = document.createElement('div');\n",
       "        docLink.innerHTML = docLinkHtml;\n",
       "        element.appendChild(docLink);\n",
       "      }\n",
       "    </script>\n",
       "  </div>\n",
       "\n",
       "\n",
       "<div id=\"df-464f746a-0873-4fcf-8e6e-9201529c5d15\">\n",
       "  <button class=\"colab-df-quickchart\" onclick=\"quickchart('df-464f746a-0873-4fcf-8e6e-9201529c5d15')\"\n",
       "            title=\"Suggest charts\"\n",
       "            style=\"display:none;\">\n",
       "\n",
       "<svg xmlns=\"http://www.w3.org/2000/svg\" height=\"24px\"viewBox=\"0 0 24 24\"\n",
       "     width=\"24px\">\n",
       "    <g>\n",
       "        <path d=\"M19 3H5c-1.1 0-2 .9-2 2v14c0 1.1.9 2 2 2h14c1.1 0 2-.9 2-2V5c0-1.1-.9-2-2-2zM9 17H7v-7h2v7zm4 0h-2V7h2v10zm4 0h-2v-4h2v4z\"/>\n",
       "    </g>\n",
       "</svg>\n",
       "  </button>\n",
       "\n",
       "<style>\n",
       "  .colab-df-quickchart {\n",
       "      --bg-color: #E8F0FE;\n",
       "      --fill-color: #1967D2;\n",
       "      --hover-bg-color: #E2EBFA;\n",
       "      --hover-fill-color: #174EA6;\n",
       "      --disabled-fill-color: #AAA;\n",
       "      --disabled-bg-color: #DDD;\n",
       "  }\n",
       "\n",
       "  [theme=dark] .colab-df-quickchart {\n",
       "      --bg-color: #3B4455;\n",
       "      --fill-color: #D2E3FC;\n",
       "      --hover-bg-color: #434B5C;\n",
       "      --hover-fill-color: #FFFFFF;\n",
       "      --disabled-bg-color: #3B4455;\n",
       "      --disabled-fill-color: #666;\n",
       "  }\n",
       "\n",
       "  .colab-df-quickchart {\n",
       "    background-color: var(--bg-color);\n",
       "    border: none;\n",
       "    border-radius: 50%;\n",
       "    cursor: pointer;\n",
       "    display: none;\n",
       "    fill: var(--fill-color);\n",
       "    height: 32px;\n",
       "    padding: 0;\n",
       "    width: 32px;\n",
       "  }\n",
       "\n",
       "  .colab-df-quickchart:hover {\n",
       "    background-color: var(--hover-bg-color);\n",
       "    box-shadow: 0 1px 2px rgba(60, 64, 67, 0.3), 0 1px 3px 1px rgba(60, 64, 67, 0.15);\n",
       "    fill: var(--button-hover-fill-color);\n",
       "  }\n",
       "\n",
       "  .colab-df-quickchart-complete:disabled,\n",
       "  .colab-df-quickchart-complete:disabled:hover {\n",
       "    background-color: var(--disabled-bg-color);\n",
       "    fill: var(--disabled-fill-color);\n",
       "    box-shadow: none;\n",
       "  }\n",
       "\n",
       "  .colab-df-spinner {\n",
       "    border: 2px solid var(--fill-color);\n",
       "    border-color: transparent;\n",
       "    border-bottom-color: var(--fill-color);\n",
       "    animation:\n",
       "      spin 1s steps(1) infinite;\n",
       "  }\n",
       "\n",
       "  @keyframes spin {\n",
       "    0% {\n",
       "      border-color: transparent;\n",
       "      border-bottom-color: var(--fill-color);\n",
       "      border-left-color: var(--fill-color);\n",
       "    }\n",
       "    20% {\n",
       "      border-color: transparent;\n",
       "      border-left-color: var(--fill-color);\n",
       "      border-top-color: var(--fill-color);\n",
       "    }\n",
       "    30% {\n",
       "      border-color: transparent;\n",
       "      border-left-color: var(--fill-color);\n",
       "      border-top-color: var(--fill-color);\n",
       "      border-right-color: var(--fill-color);\n",
       "    }\n",
       "    40% {\n",
       "      border-color: transparent;\n",
       "      border-right-color: var(--fill-color);\n",
       "      border-top-color: var(--fill-color);\n",
       "    }\n",
       "    60% {\n",
       "      border-color: transparent;\n",
       "      border-right-color: var(--fill-color);\n",
       "    }\n",
       "    80% {\n",
       "      border-color: transparent;\n",
       "      border-right-color: var(--fill-color);\n",
       "      border-bottom-color: var(--fill-color);\n",
       "    }\n",
       "    90% {\n",
       "      border-color: transparent;\n",
       "      border-bottom-color: var(--fill-color);\n",
       "    }\n",
       "  }\n",
       "</style>\n",
       "\n",
       "  <script>\n",
       "    async function quickchart(key) {\n",
       "      const quickchartButtonEl =\n",
       "        document.querySelector('#' + key + ' button');\n",
       "      quickchartButtonEl.disabled = true;  // To prevent multiple clicks.\n",
       "      quickchartButtonEl.classList.add('colab-df-spinner');\n",
       "      try {\n",
       "        const charts = await google.colab.kernel.invokeFunction(\n",
       "            'suggestCharts', [key], {});\n",
       "      } catch (error) {\n",
       "        console.error('Error during call to suggestCharts:', error);\n",
       "      }\n",
       "      quickchartButtonEl.classList.remove('colab-df-spinner');\n",
       "      quickchartButtonEl.classList.add('colab-df-quickchart-complete');\n",
       "    }\n",
       "    (() => {\n",
       "      let quickchartButtonEl =\n",
       "        document.querySelector('#df-464f746a-0873-4fcf-8e6e-9201529c5d15 button');\n",
       "      quickchartButtonEl.style.display =\n",
       "        google.colab.kernel.accessAllowed ? 'block' : 'none';\n",
       "    })();\n",
       "  </script>\n",
       "</div>\n",
       "\n",
       "    </div>\n",
       "  </div>\n"
      ],
      "text/plain": [
       "                                     Id   label\n",
       "0  6fc9045b-9983-41e2-be2d-8796ecd97412  Normal\n",
       "1  874716ce-9048-4e8a-b980-5ed9a5c0110e  Poison\n",
       "2  c3613b20-ead8-48e1-8c8d-2f219d8e19d4  Normal\n",
       "3  c7264ebc-ba44-460a-9b2b-df23c04783bc  Normal\n",
       "4  a72045db-8fae-458b-993e-23d2aab1a5c6  Normal"
      ]
     },
     "execution_count": 4,
     "metadata": {},
     "output_type": "execute_result"
    }
   ],
   "source": [
    "#loading the data\n",
    "data = pd.read_csv(my_path + 'train_labels.csv')\n",
    "data.head()"
   ]
  },
  {
   "cell_type": "markdown",
   "metadata": {
    "id": "bzJFxjlNG0d-"
   },
   "source": [
    "**C. Images**"
   ]
  },
  {
   "cell_type": "code",
   "execution_count": null,
   "metadata": {
    "ExecuteTime": {
     "end_time": "2025-03-27T10:32:39.559620Z",
     "start_time": "2025-03-27T10:32:39.543466Z"
    },
    "colab": {
     "base_uri": "https://localhost:8080/",
     "height": 206
    },
    "executionInfo": {
     "elapsed": 89,
     "status": "ok",
     "timestamp": 1744038112819,
     "user": {
      "displayName": "Hugo WERCK",
      "userId": "02564599842334010125"
     },
     "user_tz": -60
    },
    "id": "-Xl6IyCJG0d-",
    "outputId": "333f1deb-da12-4120-9876-39565c0d3218"
   },
   "outputs": [
    {
     "data": {
      "application/vnd.google.colaboratory.intrinsic+json": {
       "summary": "{\n  \"name\": \"data\",\n  \"rows\": 3600,\n  \"fields\": [\n    {\n      \"column\": \"Id\",\n      \"properties\": {\n        \"dtype\": \"string\",\n        \"num_unique_values\": 3600,\n        \"samples\": [\n          \"fdc49576-702b-4029-8c38-62408aeff084\",\n          \"f3b93777-320c-4f5f-ba19-a5a7c1cc2ef5\",\n          \"a92fa2a4-c11c-4f4f-8bbb-a1353cfae774\"\n        ],\n        \"semantic_type\": \"\",\n        \"description\": \"\"\n      }\n    },\n    {\n      \"column\": \"label\",\n      \"properties\": {\n        \"dtype\": \"category\",\n        \"num_unique_values\": 9,\n        \"samples\": [\n          \"Fighting\",\n          \"Poison\",\n          \"Rock\"\n        ],\n        \"semantic_type\": \"\",\n        \"description\": \"\"\n      }\n    },\n    {\n      \"column\": \"images\",\n      \"properties\": {\n        \"dtype\": \"string\",\n        \"num_unique_values\": 3600,\n        \"samples\": [\n          \"fdc49576-702b-4029-8c38-62408aeff084.png\",\n          \"f3b93777-320c-4f5f-ba19-a5a7c1cc2ef5.png\",\n          \"a92fa2a4-c11c-4f4f-8bbb-a1353cfae774.png\"\n        ],\n        \"semantic_type\": \"\",\n        \"description\": \"\"\n      }\n    }\n  ]\n}",
       "type": "dataframe",
       "variable_name": "data"
      },
      "text/html": [
       "\n",
       "  <div id=\"df-6c31f620-4dca-4883-a983-0f13a5d64c3d\" class=\"colab-df-container\">\n",
       "    <div>\n",
       "<style scoped>\n",
       "    .dataframe tbody tr th:only-of-type {\n",
       "        vertical-align: middle;\n",
       "    }\n",
       "\n",
       "    .dataframe tbody tr th {\n",
       "        vertical-align: top;\n",
       "    }\n",
       "\n",
       "    .dataframe thead th {\n",
       "        text-align: right;\n",
       "    }\n",
       "</style>\n",
       "<table border=\"1\" class=\"dataframe\">\n",
       "  <thead>\n",
       "    <tr style=\"text-align: right;\">\n",
       "      <th></th>\n",
       "      <th>Id</th>\n",
       "      <th>label</th>\n",
       "      <th>images</th>\n",
       "    </tr>\n",
       "  </thead>\n",
       "  <tbody>\n",
       "    <tr>\n",
       "      <th>0</th>\n",
       "      <td>6fc9045b-9983-41e2-be2d-8796ecd97412</td>\n",
       "      <td>Normal</td>\n",
       "      <td>6fc9045b-9983-41e2-be2d-8796ecd97412.png</td>\n",
       "    </tr>\n",
       "    <tr>\n",
       "      <th>1</th>\n",
       "      <td>874716ce-9048-4e8a-b980-5ed9a5c0110e</td>\n",
       "      <td>Poison</td>\n",
       "      <td>874716ce-9048-4e8a-b980-5ed9a5c0110e.png</td>\n",
       "    </tr>\n",
       "    <tr>\n",
       "      <th>2</th>\n",
       "      <td>c3613b20-ead8-48e1-8c8d-2f219d8e19d4</td>\n",
       "      <td>Normal</td>\n",
       "      <td>c3613b20-ead8-48e1-8c8d-2f219d8e19d4.png</td>\n",
       "    </tr>\n",
       "    <tr>\n",
       "      <th>3</th>\n",
       "      <td>c7264ebc-ba44-460a-9b2b-df23c04783bc</td>\n",
       "      <td>Normal</td>\n",
       "      <td>c7264ebc-ba44-460a-9b2b-df23c04783bc.png</td>\n",
       "    </tr>\n",
       "    <tr>\n",
       "      <th>4</th>\n",
       "      <td>a72045db-8fae-458b-993e-23d2aab1a5c6</td>\n",
       "      <td>Normal</td>\n",
       "      <td>a72045db-8fae-458b-993e-23d2aab1a5c6.png</td>\n",
       "    </tr>\n",
       "  </tbody>\n",
       "</table>\n",
       "</div>\n",
       "    <div class=\"colab-df-buttons\">\n",
       "\n",
       "  <div class=\"colab-df-container\">\n",
       "    <button class=\"colab-df-convert\" onclick=\"convertToInteractive('df-6c31f620-4dca-4883-a983-0f13a5d64c3d')\"\n",
       "            title=\"Convert this dataframe to an interactive table.\"\n",
       "            style=\"display:none;\">\n",
       "\n",
       "  <svg xmlns=\"http://www.w3.org/2000/svg\" height=\"24px\" viewBox=\"0 -960 960 960\">\n",
       "    <path d=\"M120-120v-720h720v720H120Zm60-500h600v-160H180v160Zm220 220h160v-160H400v160Zm0 220h160v-160H400v160ZM180-400h160v-160H180v160Zm440 0h160v-160H620v160ZM180-180h160v-160H180v160Zm440 0h160v-160H620v160Z\"/>\n",
       "  </svg>\n",
       "    </button>\n",
       "\n",
       "  <style>\n",
       "    .colab-df-container {\n",
       "      display:flex;\n",
       "      gap: 12px;\n",
       "    }\n",
       "\n",
       "    .colab-df-convert {\n",
       "      background-color: #E8F0FE;\n",
       "      border: none;\n",
       "      border-radius: 50%;\n",
       "      cursor: pointer;\n",
       "      display: none;\n",
       "      fill: #1967D2;\n",
       "      height: 32px;\n",
       "      padding: 0 0 0 0;\n",
       "      width: 32px;\n",
       "    }\n",
       "\n",
       "    .colab-df-convert:hover {\n",
       "      background-color: #E2EBFA;\n",
       "      box-shadow: 0px 1px 2px rgba(60, 64, 67, 0.3), 0px 1px 3px 1px rgba(60, 64, 67, 0.15);\n",
       "      fill: #174EA6;\n",
       "    }\n",
       "\n",
       "    .colab-df-buttons div {\n",
       "      margin-bottom: 4px;\n",
       "    }\n",
       "\n",
       "    [theme=dark] .colab-df-convert {\n",
       "      background-color: #3B4455;\n",
       "      fill: #D2E3FC;\n",
       "    }\n",
       "\n",
       "    [theme=dark] .colab-df-convert:hover {\n",
       "      background-color: #434B5C;\n",
       "      box-shadow: 0px 1px 3px 1px rgba(0, 0, 0, 0.15);\n",
       "      filter: drop-shadow(0px 1px 2px rgba(0, 0, 0, 0.3));\n",
       "      fill: #FFFFFF;\n",
       "    }\n",
       "  </style>\n",
       "\n",
       "    <script>\n",
       "      const buttonEl =\n",
       "        document.querySelector('#df-6c31f620-4dca-4883-a983-0f13a5d64c3d button.colab-df-convert');\n",
       "      buttonEl.style.display =\n",
       "        google.colab.kernel.accessAllowed ? 'block' : 'none';\n",
       "\n",
       "      async function convertToInteractive(key) {\n",
       "        const element = document.querySelector('#df-6c31f620-4dca-4883-a983-0f13a5d64c3d');\n",
       "        const dataTable =\n",
       "          await google.colab.kernel.invokeFunction('convertToInteractive',\n",
       "                                                    [key], {});\n",
       "        if (!dataTable) return;\n",
       "\n",
       "        const docLinkHtml = 'Like what you see? Visit the ' +\n",
       "          '<a target=\"_blank\" href=https://colab.research.google.com/notebooks/data_table.ipynb>data table notebook</a>'\n",
       "          + ' to learn more about interactive tables.';\n",
       "        element.innerHTML = '';\n",
       "        dataTable['output_type'] = 'display_data';\n",
       "        await google.colab.output.renderOutput(dataTable, element);\n",
       "        const docLink = document.createElement('div');\n",
       "        docLink.innerHTML = docLinkHtml;\n",
       "        element.appendChild(docLink);\n",
       "      }\n",
       "    </script>\n",
       "  </div>\n",
       "\n",
       "\n",
       "<div id=\"df-250f0ded-8228-48c7-834e-1b715cb5d3c9\">\n",
       "  <button class=\"colab-df-quickchart\" onclick=\"quickchart('df-250f0ded-8228-48c7-834e-1b715cb5d3c9')\"\n",
       "            title=\"Suggest charts\"\n",
       "            style=\"display:none;\">\n",
       "\n",
       "<svg xmlns=\"http://www.w3.org/2000/svg\" height=\"24px\"viewBox=\"0 0 24 24\"\n",
       "     width=\"24px\">\n",
       "    <g>\n",
       "        <path d=\"M19 3H5c-1.1 0-2 .9-2 2v14c0 1.1.9 2 2 2h14c1.1 0 2-.9 2-2V5c0-1.1-.9-2-2-2zM9 17H7v-7h2v7zm4 0h-2V7h2v10zm4 0h-2v-4h2v4z\"/>\n",
       "    </g>\n",
       "</svg>\n",
       "  </button>\n",
       "\n",
       "<style>\n",
       "  .colab-df-quickchart {\n",
       "      --bg-color: #E8F0FE;\n",
       "      --fill-color: #1967D2;\n",
       "      --hover-bg-color: #E2EBFA;\n",
       "      --hover-fill-color: #174EA6;\n",
       "      --disabled-fill-color: #AAA;\n",
       "      --disabled-bg-color: #DDD;\n",
       "  }\n",
       "\n",
       "  [theme=dark] .colab-df-quickchart {\n",
       "      --bg-color: #3B4455;\n",
       "      --fill-color: #D2E3FC;\n",
       "      --hover-bg-color: #434B5C;\n",
       "      --hover-fill-color: #FFFFFF;\n",
       "      --disabled-bg-color: #3B4455;\n",
       "      --disabled-fill-color: #666;\n",
       "  }\n",
       "\n",
       "  .colab-df-quickchart {\n",
       "    background-color: var(--bg-color);\n",
       "    border: none;\n",
       "    border-radius: 50%;\n",
       "    cursor: pointer;\n",
       "    display: none;\n",
       "    fill: var(--fill-color);\n",
       "    height: 32px;\n",
       "    padding: 0;\n",
       "    width: 32px;\n",
       "  }\n",
       "\n",
       "  .colab-df-quickchart:hover {\n",
       "    background-color: var(--hover-bg-color);\n",
       "    box-shadow: 0 1px 2px rgba(60, 64, 67, 0.3), 0 1px 3px 1px rgba(60, 64, 67, 0.15);\n",
       "    fill: var(--button-hover-fill-color);\n",
       "  }\n",
       "\n",
       "  .colab-df-quickchart-complete:disabled,\n",
       "  .colab-df-quickchart-complete:disabled:hover {\n",
       "    background-color: var(--disabled-bg-color);\n",
       "    fill: var(--disabled-fill-color);\n",
       "    box-shadow: none;\n",
       "  }\n",
       "\n",
       "  .colab-df-spinner {\n",
       "    border: 2px solid var(--fill-color);\n",
       "    border-color: transparent;\n",
       "    border-bottom-color: var(--fill-color);\n",
       "    animation:\n",
       "      spin 1s steps(1) infinite;\n",
       "  }\n",
       "\n",
       "  @keyframes spin {\n",
       "    0% {\n",
       "      border-color: transparent;\n",
       "      border-bottom-color: var(--fill-color);\n",
       "      border-left-color: var(--fill-color);\n",
       "    }\n",
       "    20% {\n",
       "      border-color: transparent;\n",
       "      border-left-color: var(--fill-color);\n",
       "      border-top-color: var(--fill-color);\n",
       "    }\n",
       "    30% {\n",
       "      border-color: transparent;\n",
       "      border-left-color: var(--fill-color);\n",
       "      border-top-color: var(--fill-color);\n",
       "      border-right-color: var(--fill-color);\n",
       "    }\n",
       "    40% {\n",
       "      border-color: transparent;\n",
       "      border-right-color: var(--fill-color);\n",
       "      border-top-color: var(--fill-color);\n",
       "    }\n",
       "    60% {\n",
       "      border-color: transparent;\n",
       "      border-right-color: var(--fill-color);\n",
       "    }\n",
       "    80% {\n",
       "      border-color: transparent;\n",
       "      border-right-color: var(--fill-color);\n",
       "      border-bottom-color: var(--fill-color);\n",
       "    }\n",
       "    90% {\n",
       "      border-color: transparent;\n",
       "      border-bottom-color: var(--fill-color);\n",
       "    }\n",
       "  }\n",
       "</style>\n",
       "\n",
       "  <script>\n",
       "    async function quickchart(key) {\n",
       "      const quickchartButtonEl =\n",
       "        document.querySelector('#' + key + ' button');\n",
       "      quickchartButtonEl.disabled = true;  // To prevent multiple clicks.\n",
       "      quickchartButtonEl.classList.add('colab-df-spinner');\n",
       "      try {\n",
       "        const charts = await google.colab.kernel.invokeFunction(\n",
       "            'suggestCharts', [key], {});\n",
       "      } catch (error) {\n",
       "        console.error('Error during call to suggestCharts:', error);\n",
       "      }\n",
       "      quickchartButtonEl.classList.remove('colab-df-spinner');\n",
       "      quickchartButtonEl.classList.add('colab-df-quickchart-complete');\n",
       "    }\n",
       "    (() => {\n",
       "      let quickchartButtonEl =\n",
       "        document.querySelector('#df-250f0ded-8228-48c7-834e-1b715cb5d3c9 button');\n",
       "      quickchartButtonEl.style.display =\n",
       "        google.colab.kernel.accessAllowed ? 'block' : 'none';\n",
       "    })();\n",
       "  </script>\n",
       "</div>\n",
       "\n",
       "    </div>\n",
       "  </div>\n"
      ],
      "text/plain": [
       "                                     Id   label  \\\n",
       "0  6fc9045b-9983-41e2-be2d-8796ecd97412  Normal   \n",
       "1  874716ce-9048-4e8a-b980-5ed9a5c0110e  Poison   \n",
       "2  c3613b20-ead8-48e1-8c8d-2f219d8e19d4  Normal   \n",
       "3  c7264ebc-ba44-460a-9b2b-df23c04783bc  Normal   \n",
       "4  a72045db-8fae-458b-993e-23d2aab1a5c6  Normal   \n",
       "\n",
       "                                     images  \n",
       "0  6fc9045b-9983-41e2-be2d-8796ecd97412.png  \n",
       "1  874716ce-9048-4e8a-b980-5ed9a5c0110e.png  \n",
       "2  c3613b20-ead8-48e1-8c8d-2f219d8e19d4.png  \n",
       "3  c7264ebc-ba44-460a-9b2b-df23c04783bc.png  \n",
       "4  a72045db-8fae-458b-993e-23d2aab1a5c6.png  "
      ]
     },
     "execution_count": 5,
     "metadata": {},
     "output_type": "execute_result"
    }
   ],
   "source": [
    "#linking the data to the images\n",
    "images_names = data['Id']+'.png'\n",
    "data['images'] = images_names\n",
    "data.head()\n"
   ]
  },
  {
   "cell_type": "markdown",
   "metadata": {
    "id": "uUFArwhjG0d_"
   },
   "source": [
    "## 3. Global Descriptive Statistics"
   ]
  },
  {
   "cell_type": "markdown",
   "metadata": {
    "id": "JAyhMkP_G0d_"
   },
   "source": [
    "**A. Basic figures**"
   ]
  },
  {
   "cell_type": "code",
   "execution_count": null,
   "metadata": {
    "ExecuteTime": {
     "end_time": "2025-03-27T10:32:39.630461Z",
     "start_time": "2025-03-27T10:32:39.621998Z"
    },
    "colab": {
     "base_uri": "https://localhost:8080/"
    },
    "executionInfo": {
     "elapsed": 6,
     "status": "ok",
     "timestamp": 1744038112820,
     "user": {
      "displayName": "Hugo WERCK",
      "userId": "02564599842334010125"
     },
     "user_tz": -60
    },
    "id": "8z6QRm4cG0d_",
    "outputId": "96733df9-302c-41ff-80d0-fd0c13f462f8"
   },
   "outputs": [
    {
     "name": "stdout",
     "output_type": "stream",
     "text": [
      "Number of images: \n"
     ]
    },
    {
     "data": {
      "text/plain": [
       "np.int64(3600)"
      ]
     },
     "execution_count": 6,
     "metadata": {},
     "output_type": "execute_result"
    }
   ],
   "source": [
    "#counting the number of images (inputs)\n",
    "print(\"Number of images: \")\n",
    "data[\"Id\"].count()"
   ]
  },
  {
   "cell_type": "code",
   "execution_count": null,
   "metadata": {
    "ExecuteTime": {
     "end_time": "2025-03-27T10:32:39.724637Z",
     "start_time": "2025-03-27T10:32:39.714661Z"
    },
    "colab": {
     "base_uri": "https://localhost:8080/"
    },
    "executionInfo": {
     "elapsed": 3,
     "status": "ok",
     "timestamp": 1744038112820,
     "user": {
      "displayName": "Hugo WERCK",
      "userId": "02564599842334010125"
     },
     "user_tz": -60
    },
    "id": "uB3Pi3o9G0d_",
    "outputId": "82fa6e86-bdab-4c09-cba7-3961611a935c"
   },
   "outputs": [
    {
     "name": "stdout",
     "output_type": "stream",
     "text": [
      "Number of labels: \n"
     ]
    },
    {
     "data": {
      "text/plain": [
       "9"
      ]
     },
     "execution_count": 7,
     "metadata": {},
     "output_type": "execute_result"
    }
   ],
   "source": [
    "#counting the number of labels (output classes)\n",
    "print(\"Number of labels: \")\n",
    "data[\"label\"].nunique()"
   ]
  },
  {
   "cell_type": "code",
   "execution_count": null,
   "metadata": {
    "ExecuteTime": {
     "end_time": "2025-03-27T10:32:39.862295Z",
     "start_time": "2025-03-27T10:32:39.852582Z"
    },
    "colab": {
     "base_uri": "https://localhost:8080/",
     "height": 415
    },
    "executionInfo": {
     "elapsed": 29,
     "status": "ok",
     "timestamp": 1744038112848,
     "user": {
      "displayName": "Hugo WERCK",
      "userId": "02564599842334010125"
     },
     "user_tz": -60
    },
    "id": "z0qmHSdQG0d_",
    "outputId": "cbca665c-5360-40a1-d255-99f64b5069a6"
   },
   "outputs": [
    {
     "name": "stdout",
     "output_type": "stream",
     "text": [
      "Labels and their counts: \n"
     ]
    },
    {
     "data": {
      "text/html": [
       "<div>\n",
       "<style scoped>\n",
       "    .dataframe tbody tr th:only-of-type {\n",
       "        vertical-align: middle;\n",
       "    }\n",
       "\n",
       "    .dataframe tbody tr th {\n",
       "        vertical-align: top;\n",
       "    }\n",
       "\n",
       "    .dataframe thead th {\n",
       "        text-align: right;\n",
       "    }\n",
       "</style>\n",
       "<table border=\"1\" class=\"dataframe\">\n",
       "  <thead>\n",
       "    <tr style=\"text-align: right;\">\n",
       "      <th></th>\n",
       "      <th>count</th>\n",
       "    </tr>\n",
       "    <tr>\n",
       "      <th>label</th>\n",
       "      <th></th>\n",
       "    </tr>\n",
       "  </thead>\n",
       "  <tbody>\n",
       "    <tr>\n",
       "      <th>Water</th>\n",
       "      <td>674</td>\n",
       "    </tr>\n",
       "    <tr>\n",
       "      <th>Normal</th>\n",
       "      <td>606</td>\n",
       "    </tr>\n",
       "    <tr>\n",
       "      <th>Poison</th>\n",
       "      <td>467</td>\n",
       "    </tr>\n",
       "    <tr>\n",
       "      <th>Fire</th>\n",
       "      <td>381</td>\n",
       "    </tr>\n",
       "    <tr>\n",
       "      <th>Bug</th>\n",
       "      <td>374</td>\n",
       "    </tr>\n",
       "    <tr>\n",
       "      <th>Grass</th>\n",
       "      <td>299</td>\n",
       "    </tr>\n",
       "    <tr>\n",
       "      <th>Fighting</th>\n",
       "      <td>291</td>\n",
       "    </tr>\n",
       "    <tr>\n",
       "      <th>Rock</th>\n",
       "      <td>264</td>\n",
       "    </tr>\n",
       "    <tr>\n",
       "      <th>Ground</th>\n",
       "      <td>244</td>\n",
       "    </tr>\n",
       "  </tbody>\n",
       "</table>\n",
       "</div><br><label><b>dtype:</b> int64</label>"
      ],
      "text/plain": [
       "label\n",
       "Water       674\n",
       "Normal      606\n",
       "Poison      467\n",
       "Fire        381\n",
       "Bug         374\n",
       "Grass       299\n",
       "Fighting    291\n",
       "Rock        264\n",
       "Ground      244\n",
       "Name: count, dtype: int64"
      ]
     },
     "execution_count": 8,
     "metadata": {},
     "output_type": "execute_result"
    }
   ],
   "source": [
    "#listing the labels and their counts\n",
    "print(\"Labels and their counts: \")\n",
    "data[\"label\"].value_counts()"
   ]
  },
  {
   "cell_type": "code",
   "execution_count": null,
   "metadata": {
    "ExecuteTime": {
     "end_time": "2025-03-27T10:32:39.901712Z",
     "start_time": "2025-03-27T10:32:39.893644Z"
    },
    "colab": {
     "base_uri": "https://localhost:8080/"
    },
    "executionInfo": {
     "elapsed": 49,
     "status": "ok",
     "timestamp": 1744038112897,
     "user": {
      "displayName": "Hugo WERCK",
      "userId": "02564599842334010125"
     },
     "user_tz": -60
    },
    "id": "d1CPGAJyG0eA",
    "outputId": "983f2a6c-3ec8-4d8a-cfa7-0f2d1f5370e7"
   },
   "outputs": [
    {
     "name": "stdout",
     "output_type": "stream",
     "text": [
      "Number of duplicates: \n"
     ]
    },
    {
     "data": {
      "text/plain": [
       "np.int64(0)"
      ]
     },
     "execution_count": 9,
     "metadata": {},
     "output_type": "execute_result"
    }
   ],
   "source": [
    "#duplicates in the data\n",
    "print(\"Number of duplicates: \")\n",
    "data.duplicated().sum()"
   ]
  },
  {
   "cell_type": "markdown",
   "metadata": {
    "id": "_d73BahdG0eA"
   },
   "source": [
    "Indeed, this dataset does not contain any duplicate data."
   ]
  },
  {
   "cell_type": "markdown",
   "metadata": {
    "id": "QwuDao7mG0eA"
   },
   "source": [
    "**B. Visualization of class distribution**"
   ]
  },
  {
   "cell_type": "code",
   "execution_count": null,
   "metadata": {
    "ExecuteTime": {
     "end_time": "2025-03-27T10:32:40.059390Z",
     "start_time": "2025-03-27T10:32:39.940576Z"
    },
    "colab": {
     "base_uri": "https://localhost:8080/",
     "height": 606
    },
    "executionInfo": {
     "elapsed": 696,
     "status": "ok",
     "timestamp": 1744038113614,
     "user": {
      "displayName": "Hugo WERCK",
      "userId": "02564599842334010125"
     },
     "user_tz": -60
    },
    "id": "TPbxAHpvG0eA",
    "outputId": "b17056ca-5ed9-4339-d1e7-36950e107c32"
   },
   "outputs": [
    {
     "data": {
      "image/png": "[encoded data removed]",
      "text/plain": [
       "<Figure size 1200x600 with 1 Axes>"
      ]
     },
     "metadata": {},
     "output_type": "display_data"
    }
   ],
   "source": [
    "#visualizing the labels with an histogram\n",
    "type_counts = data['label'].value_counts()\n",
    "plt.figure(figsize=(12, 6))\n",
    "sns.barplot(x=type_counts.index, y=type_counts.values)\n",
    "plt.xticks(rotation=90)\n",
    "plt.xlabel('Pokemon Type')\n",
    "plt.ylabel('Sample Count')\n",
    "plt.title('Pokemon Type Distribution')\n",
    "plt.show()\n"
   ]
  },
  {
   "cell_type": "markdown",
   "metadata": {
    "id": "qMrVHu8RG0eB"
   },
   "source": [
    "Is this histogram the best way to visualize the data? Maybe we can try with a pie chart."
   ]
  },
  {
   "cell_type": "markdown",
   "metadata": {
    "id": "B24yOtCxG0eB"
   },
   "source": [
    "**C. Percentage representation of each class to assess class imbalances**"
   ]
  },
  {
   "cell_type": "code",
   "execution_count": null,
   "metadata": {
    "ExecuteTime": {
     "end_time": "2025-03-27T10:32:40.141530Z",
     "start_time": "2025-03-27T10:32:40.076082Z"
    },
    "colab": {
     "base_uri": "https://localhost:8080/",
     "height": 521
    },
    "executionInfo": {
     "elapsed": 328,
     "status": "ok",
     "timestamp": 1744038113943,
     "user": {
      "displayName": "Hugo WERCK",
      "userId": "02564599842334010125"
     },
     "user_tz": -60
    },
    "id": "K9asLynDG0eB",
    "outputId": "5a4c2fb9-cf31-4258-e83c-7d7630f85035"
   },
   "outputs": [
    {
     "data": {
      "image/png": "[encoded data removed]",
      "text/plain": [
       "<Figure size 1200x600 with 1 Axes>"
      ]
     },
     "metadata": {},
     "output_type": "display_data"
    }
   ],
   "source": [
    "#visualizing the labels with a pie chart\n",
    "plt.figure(figsize=(12, 6))\n",
    "plt.pie(type_counts, labels=type_counts.index, autopct='%1.1f%%', startangle=140)\n",
    "plt.axis('equal')  # Equal aspect ratio ensures that pie is drawn as a circle.\n",
    "plt.title('Pokemon Type Distribution')\n",
    "plt.show()"
   ]
  },
  {
   "cell_type": "markdown",
   "metadata": {
    "id": "S1BP53ymG0eB"
   },
   "source": [
    "We can notice that the data is **imbalanced**. We will have to balance it before using it in our MLP.\n",
    "Now that we have information about the **data**, we can look up for information about the **images**."
   ]
  },
  {
   "cell_type": "markdown",
   "metadata": {
    "id": "uUHkNqzvG0eB"
   },
   "source": [
    "## 4. Analysing the images"
   ]
  },
  {
   "cell_type": "code",
   "execution_count": null,
   "metadata": {
    "ExecuteTime": {
     "end_time": "2025-03-27T10:32:41.272972Z",
     "start_time": "2025-03-27T10:32:40.194649Z"
    },
    "colab": {
     "base_uri": "https://localhost:8080/"
    },
    "executionInfo": {
     "elapsed": 1439310,
     "status": "ok",
     "timestamp": 1744039553254,
     "user": {
      "displayName": "Hugo WERCK",
      "userId": "02564599842334010125"
     },
     "user_tz": -60
    },
    "id": "32wR2STYG0eB",
    "outputId": "a95c1e4a-e7de-4765-ef4b-f7d42d735f74"
   },
   "outputs": [
    {
     "name": "stdout",
     "output_type": "stream",
     "text": [
      "Number of different size of images: 1\n",
      "Size of the image <built-in function id>: (64, 64) pixels\n"
     ]
    }
   ],
   "source": [
    "#check if all the images have the same size\n",
    "image_sizes = []\n",
    "for image in data['images']:\n",
    "    image_sizes.append(Image.open(my_path + \"Train/\" + image).size)\n",
    "image_sizes = np.array(image_sizes)\n",
    "unique_sizes = np.unique(image_sizes, axis=0)\n",
    "print(f\"Number of different size of images: {len(unique_sizes)}\")\n",
    "\n",
    "#image sizes\n",
    "image = Image.open(my_path +\"Train/\"+image)\n",
    "print(f\"Size of the image {id}: {image.size} pixels\")"
   ]
  },
  {
   "cell_type": "markdown",
   "metadata": {
    "id": "x7BNJC2ZG0eC"
   },
   "source": [
    "All the images have the same size **64*64 pixels**. Thanks to that, we can assume that there is **not any outliers**."
   ]
  },
  {
   "cell_type": "code",
   "execution_count": null,
   "metadata": {
    "ExecuteTime": {
     "end_time": "2025-03-27T10:32:41.554300Z",
     "start_time": "2025-03-27T10:32:41.366855Z"
    },
    "colab": {
     "base_uri": "https://localhost:8080/",
     "height": 282
    },
    "executionInfo": {
     "elapsed": 582,
     "status": "ok",
     "timestamp": 1744039553835,
     "user": {
      "displayName": "Hugo WERCK",
      "userId": "02564599842334010125"
     },
     "user_tz": -60
    },
    "id": "QqdQn9vXG0eC",
    "outputId": "0b8c5e21-147c-4881-dca1-ec2b7c243fa2"
   },
   "outputs": [
    {
     "data": {
      "image/png": "[encoded data removed]",
      "text/plain": [
       "<Figure size 1500x600 with 5 Axes>"
      ]
     },
     "metadata": {},
     "output_type": "display_data"
    }
   ],
   "source": [
    "#select 5 random images  and display them with their primary type\n",
    "random_indices = random.sample(range(len(data)), 5)\n",
    "\n",
    "fig, axs = plt.subplots(1, 5, figsize=(15, 6))\n",
    "fig.subplots_adjust(hspace=0.5, wspace=0.05)\n",
    "axs = axs.ravel()\n",
    "\n",
    "for i, idx in enumerate(random_indices):\n",
    "    img = mpimg.imread(os.path.join(my_path + 'Train', data['images'][idx]))\n",
    "    axs[i].imshow(img)\n",
    "    axs[i].set_title(\"Primary type: \" + data['label'][idx])\n",
    "    axs[i].axis('off')\n",
    "\n",
    "plt.show()"
   ]
  },
  {
   "cell_type": "markdown",
   "metadata": {
    "id": "CIdL726GG0eC"
   },
   "source": [
    "## 6. Summary and Conclusion"
   ]
  },
  {
   "cell_type": "markdown",
   "metadata": {
    "id": "ZaT-hpgCG0eC"
   },
   "source": [
    "**Key Findings:**\n",
    "\n",
    "- The dataset contains **3600** Pokémon images, each labeled with one of **9** different types.\n",
    "- The class distribution analysis shows that:\n",
    "  - The most frequent Pokémon type is **the Water type**, representing **18.7%** of the dataset.\n",
    "  - The least frequent type is **the Ground type**, with only **6.8%** of the data.\n",
    "  - These figures indicate a potential **class imbalance** that must be fixed.\n",
    "- **Visualization of images** confirmed the **quality and consistency** of the dataset.\n",
    "\n",
    "**Problem Identified:**\n",
    "\n",
    "- **Class imbalance**: Some Pokémon types are underrepresented, which could lead to **biased model predictions**.\n",
    "- **Data balancing needed**: To improve model generalization, techniques like **oversampling, undersampling, or synthetic data generation** may be required before gicing the data to our MLP."
   ]
  },
  {
   "cell_type": "markdown",
   "metadata": {
    "id": "-AVuFkCCG0eC"
   },
   "source": [
    "# Balancing the data"
   ]
  },
  {
   "cell_type": "markdown",
   "metadata": {
    "id": "PzAXKNncG0eD"
   },
   "source": [
    "Different methods to balance the data are available: oversampling, undersampling, SMOTE (Synthetic Minority Over-sampling Technique), adding some external data or modifying the loss function.\n",
    "\n",
    "- Oversampling is duplicating or generating new data.\n",
    "- Undersampling is reducing the number of training data.\n",
    "- SMOTE method is generating synthetic new data.\n",
    "- We can also add some external data.\n",
    "- Finally, we can modify the loss function.\n",
    "\n",
    "We chose to use the undersampling one, since we think having enough data to train our model."
   ]
  },
  {
   "cell_type": "markdown",
   "metadata": {
    "id": "DT04RUtjG0eD"
   },
   "source": [
    "**Applying UnderSampling**"
   ]
  },
  {
   "cell_type": "code",
   "execution_count": null,
   "metadata": {
    "ExecuteTime": {
     "end_time": "2025-03-27T10:32:41.619816Z",
     "start_time": "2025-03-27T10:32:41.603535Z"
    },
    "colab": {
     "base_uri": "https://localhost:8080/",
     "height": 453
    },
    "executionInfo": {
     "elapsed": 7,
     "status": "ok",
     "timestamp": 1744039553843,
     "user": {
      "displayName": "Hugo WERCK",
      "userId": "02564599842334010125"
     },
     "user_tz": -60
    },
    "id": "Y9_EBKRCG0eD",
    "outputId": "65abc027-6157-41bb-f275-36d170029c94"
   },
   "outputs": [
    {
     "name": "stderr",
     "output_type": "stream",
     "text": [
      "<ipython-input-14-02dc67bf63d9>:3: DeprecationWarning: DataFrameGroupBy.apply operated on the grouping columns. This behavior is deprecated, and in a future version of pandas the grouping columns will be excluded from the operation. Either pass `include_groups=False` to exclude the groupings or explicitly select the grouping columns after groupby to silence this warning.\n",
      "  balanced_data = data.groupby('label').apply(lambda x: x.sample(min_count)).reset_index(drop=True)\n"
     ]
    },
    {
     "data": {
      "text/html": [
       "<div>\n",
       "<style scoped>\n",
       "    .dataframe tbody tr th:only-of-type {\n",
       "        vertical-align: middle;\n",
       "    }\n",
       "\n",
       "    .dataframe tbody tr th {\n",
       "        vertical-align: top;\n",
       "    }\n",
       "\n",
       "    .dataframe thead th {\n",
       "        text-align: right;\n",
       "    }\n",
       "</style>\n",
       "<table border=\"1\" class=\"dataframe\">\n",
       "  <thead>\n",
       "    <tr style=\"text-align: right;\">\n",
       "      <th></th>\n",
       "      <th>count</th>\n",
       "    </tr>\n",
       "    <tr>\n",
       "      <th>label</th>\n",
       "      <th></th>\n",
       "    </tr>\n",
       "  </thead>\n",
       "  <tbody>\n",
       "    <tr>\n",
       "      <th>Bug</th>\n",
       "      <td>244</td>\n",
       "    </tr>\n",
       "    <tr>\n",
       "      <th>Fighting</th>\n",
       "      <td>244</td>\n",
       "    </tr>\n",
       "    <tr>\n",
       "      <th>Fire</th>\n",
       "      <td>244</td>\n",
       "    </tr>\n",
       "    <tr>\n",
       "      <th>Grass</th>\n",
       "      <td>244</td>\n",
       "    </tr>\n",
       "    <tr>\n",
       "      <th>Ground</th>\n",
       "      <td>244</td>\n",
       "    </tr>\n",
       "    <tr>\n",
       "      <th>Normal</th>\n",
       "      <td>244</td>\n",
       "    </tr>\n",
       "    <tr>\n",
       "      <th>Poison</th>\n",
       "      <td>244</td>\n",
       "    </tr>\n",
       "    <tr>\n",
       "      <th>Rock</th>\n",
       "      <td>244</td>\n",
       "    </tr>\n",
       "    <tr>\n",
       "      <th>Water</th>\n",
       "      <td>244</td>\n",
       "    </tr>\n",
       "  </tbody>\n",
       "</table>\n",
       "</div><br><label><b>dtype:</b> int64</label>"
      ],
      "text/plain": [
       "label\n",
       "Bug         244\n",
       "Fighting    244\n",
       "Fire        244\n",
       "Grass       244\n",
       "Ground      244\n",
       "Normal      244\n",
       "Poison      244\n",
       "Rock        244\n",
       "Water       244\n",
       "Name: count, dtype: int64"
      ]
     },
     "execution_count": 14,
     "metadata": {},
     "output_type": "execute_result"
    }
   ],
   "source": [
    "#taking the same number of images for each label\n",
    "min_count = data['label'].value_counts().min()\n",
    "balanced_data = data.groupby('label').apply(lambda x: x.sample(min_count)).reset_index(drop=True)\n",
    "balanced_data['label'].value_counts()"
   ]
  },
  {
   "cell_type": "code",
   "execution_count": null,
   "metadata": {
    "ExecuteTime": {
     "end_time": "2025-03-27T10:32:41.652490Z",
     "start_time": "2025-03-27T10:32:41.644424Z"
    },
    "colab": {
     "base_uri": "https://localhost:8080/"
    },
    "executionInfo": {
     "elapsed": 7,
     "status": "ok",
     "timestamp": 1744039553850,
     "user": {
      "displayName": "Hugo WERCK",
      "userId": "02564599842334010125"
     },
     "user_tz": -60
    },
    "id": "z9JgjmRPG0eD",
    "outputId": "21a9cb83-8718-49a3-ac4b-0039f3f9d90f"
   },
   "outputs": [
    {
     "name": "stdout",
     "output_type": "stream",
     "text": [
      "Number of images in the balanced data: \n"
     ]
    },
    {
     "data": {
      "text/plain": [
       "np.int64(2196)"
      ]
     },
     "execution_count": 15,
     "metadata": {},
     "output_type": "execute_result"
    }
   ],
   "source": [
    "#counting the number of images (inputs) for the balanced data\n",
    "print(\"Number of images in the balanced data: \")\n",
    "balanced_data['Id'].count()"
   ]
  },
  {
   "cell_type": "code",
   "execution_count": null,
   "metadata": {
    "ExecuteTime": {
     "end_time": "2025-03-27T10:32:41.761316Z",
     "start_time": "2025-03-27T10:32:41.685376Z"
    },
    "colab": {
     "base_uri": "https://localhost:8080/",
     "height": 524
    },
    "executionInfo": {
     "elapsed": 259,
     "status": "ok",
     "timestamp": 1744039554109,
     "user": {
      "displayName": "Hugo WERCK",
      "userId": "02564599842334010125"
     },
     "user_tz": -60
    },
    "id": "wtBfE5rrG0eD",
    "outputId": "ba20c400-ffd7-4480-f996-c28684fd92fc"
   },
   "outputs": [
    {
     "data": {
      "image/png": "[encoded data removed]",
      "text/plain": [
       "<Figure size 1200x600 with 1 Axes>"
      ]
     },
     "metadata": {},
     "output_type": "display_data"
    }
   ],
   "source": [
    "#visualisation of the balanced data in a pie chart\n",
    "balanced_type_counts = balanced_data['label'].value_counts()\n",
    "plt.figure(figsize=(12, 6))\n",
    "plt.pie(balanced_type_counts, labels=balanced_type_counts.index, autopct='%1.1f%%', startangle=140)\n",
    "plt.axis('equal')  # Equal aspect ratio ensures that pie is drawn as a circle.\n",
    "plt.title('Pokemon Type Distribution in the balanced data')\n",
    "plt.show()"
   ]
  },
  {
   "cell_type": "markdown",
   "metadata": {
    "id": "YXRLS35ZG0eD"
   },
   "source": [
    "Here's the specifications of this method:\n",
    "| Advantages | Disadvantages  |\n",
    "|------------|------------|\n",
    "| Simple and quick to implement   | Loss of information (fewer examples) |\n",
    "| Avoids overlearning on majority classes   | Less effective if dataset is already small |\n",
    "| Can improve performance on minority classes |  Does not work well with small dataset|"
   ]
  },
  {
   "cell_type": "markdown",
   "metadata": {
    "id": "Acsj5hFxG0eE"
   },
   "source": [
    "Thus, we will use **2196 images** in our data to have a balanced dataset. We will loose 3600-2196=**1401 images** in our training phase."
   ]
  },
  {
   "cell_type": "markdown",
   "metadata": {
    "id": "7drnmELKG0eE"
   },
   "source": [
    "# Model Development"
   ]
  },
  {
   "cell_type": "markdown",
   "metadata": {
    "id": "yAU4r0bWG0eE"
   },
   "source": [
    "## 1. Librairies importation"
   ]
  },
  {
   "cell_type": "code",
   "execution_count": null,
   "metadata": {
    "ExecuteTime": {
     "end_time": "2025-03-27T10:32:41.769469Z",
     "start_time": "2025-03-27T10:32:41.761316Z"
    },
    "id": "Z4c87I6RG0eE"
   },
   "outputs": [],
   "source": [
    "import os\n",
    "\n",
    "import torch\n",
    "import torch.nn as nn\n",
    "import torch.optim as optim\n",
    "import torchvision.transforms as transforms\n",
    "import torchvision.datasets as datasets\n",
    "from torch.utils.data import DataLoader, Dataset, TensorDataset\n",
    "\n",
    "import pandas as pd\n",
    "import numpy as np\n",
    "import matplotlib.pyplot as plt\n",
    "import seaborn as sns\n",
    "from PIL import Image\n",
    "from collections import Counter\n",
    "from sklearn.model_selection import train_test_split\n",
    "from sklearn.metrics import confusion_matrix"
   ]
  },
  {
   "cell_type": "markdown",
   "metadata": {
    "id": "AaChhG8hG0eE"
   },
   "source": [
    "## 2. Images prepocessing"
   ]
  },
  {
   "cell_type": "markdown",
   "metadata": {
    "id": "fCb2sjR6G0eE"
   },
   "source": [
    "Given the images we have, the idea of removing the background and cetenring the images to simplify the training of our MLP naturally come."
   ]
  },
  {
   "cell_type": "code",
   "execution_count": null,
   "metadata": {
    "ExecuteTime": {
     "end_time": "2025-03-27T10:32:56.041445Z",
     "start_time": "2025-03-27T10:32:41.810161Z"
    },
    "id": "S-pgkEbOG0eE"
   },
   "outputs": [],
   "source": [
    "import cv2\n",
    "import numpy as np\n",
    "import os\n",
    "\n",
    "# Set true to remove the background of the images in the Train folder\n",
    "# Set false to remove the background of the images in the Test folder\n",
    "ON_TRAINING = True\n",
    "\n",
    "def center_pokemon(image, thresholded_image):\n",
    "    \"\"\"\n",
    "    Center the Pokemon on it's picture\n",
    "\n",
    "    :param image_path: path the image on which we want to center the pokemon\n",
    "    :param thresholded_image_path: path to the image thresholded. This allow us\n",
    "    to get easily the dimension of the pokemon\n",
    "    :param output_path: path to where we want to save the picture\n",
    "\n",
    "    :return centered_image, centered_thresholded_image: The centered images\n",
    "    \"\"\"\n",
    "    # Invert the thresholded_image as we want the background to be black and the border white\n",
    "    binary = cv2.bitwise_not(thresholded_image)\n",
    "    contours, _ = cv2.findContours(binary, cv2.RETR_EXTERNAL, cv2.CHAIN_APPROX_SIMPLE)\n",
    "\n",
    "    if not contours:\n",
    "        print(\"No black element found!\")\n",
    "        return\n",
    "\n",
    "    x, y, w, h = cv2.boundingRect(contours[0])\n",
    "\n",
    "    # Get image center\n",
    "    img_h, img_w = image.shape[:2]\n",
    "    center_x, center_y = img_w // 2, img_h // 2\n",
    "\n",
    "    # Compute translation needed to center the element\n",
    "    dx = center_x - (x + w // 2)\n",
    "    dy = center_y - (y + h // 2)\n",
    "\n",
    "    # Create translation matrix for RGB image\n",
    "    M = np.float32([[1, 0, dx], [0, 1, dy]])\n",
    "\n",
    "    # Apply translation to the RGB image\n",
    "    centered_image = cv2.warpAffine(image, M, (img_w, img_h), borderValue=(255, 255, 255))  # White border\n",
    "    centered_thresholded_image = cv2.warpAffine(thresholded_image, M, (img_w, img_h), borderValue=(255, 255, 255))\n",
    "\n",
    "    return centered_image,centered_thresholded_image\n",
    "\n",
    "\n",
    "def fix_border(image, save_path=None):\n",
    "    \"\"\"\n",
    "    Most of the pixels of the border are black (i.e their value is 1) but few of them\n",
    "    are grey (i.e their value is 32) so we make sure all the pixels are black.\n",
    "    This will be helpful when we will apply the threshold to only keep the border.\n",
    "\n",
    "    :param image: The input image in cv2 format and greyscale.\n",
    "    :param save_path: Path to save the processed image.\n",
    "\n",
    "    :return: The processed image in cv2 format.\n",
    "    \"\"\"\n",
    "    height, width = image.shape\n",
    "    processed_image = image.copy()\n",
    "\n",
    "    for y in range(1, height - 1):\n",
    "        for x in range(1, width - 1):\n",
    "            if image[y, x] == 32:\n",
    "                if (image[y - 1, x] == 1 or image[y + 1, x] == 1 or  # Vertical neighbors\n",
    "                        image[y, x - 1] == 1 or image[y, x + 1] == 1 or  # Horizontal neighbors\n",
    "                        image[y - 1, x - 1] == 1 or image[y - 1, x + 1] == 1 or  # Top diagonals\n",
    "                        image[y + 1, x - 1] == 1 or image[y + 1, x + 1] == 1):  # Bottom diagonals\n",
    "                    processed_image[y, x] = 1\n",
    "\n",
    "    if(save_path):\n",
    "        cv2.imwrite(save_path, processed_image)\n",
    "\n",
    "    return processed_image\n",
    "\n",
    "\n",
    "def apply_threshold(image, save_path=None):\n",
    "    \"\"\"\n",
    "    Apply a threshold to only keep the border.\n",
    "\n",
    "    :param image: The image to which the threshold will be applied. Must be in cv2 format and greyscale.\n",
    "    :param save_path: Path to save the processed image.\n",
    "\n",
    "    :return: The threshold image cv2 format.\n",
    "    \"\"\"\n",
    "\n",
    "    _, binary = cv2.threshold(image, 5, 255, cv2.THRESH_BINARY)\n",
    "\n",
    "    if save_path:\n",
    "        cv2.imwrite(save_path, binary)\n",
    "\n",
    "    return binary\n",
    "\n",
    "\n",
    "def erode_and_dilate(image, save_path=None):\n",
    "    \"\"\"\n",
    "    Apply morphological erosion and dilatation to an image.\n",
    "    Now that we applied the threshold to only keep the border, we can apply this in order\n",
    "    to \"fill\" the inside of the border.\n",
    "    Once the operations are applied, we get a mask that we can apply on the initial image\n",
    "\n",
    "    :param image: The image to which the operations will be applied. Must be in cv2 format and greyscale.\n",
    "    :param save_path: Path to save the processed image.\n",
    "\n",
    "    :return: The image cv2 format after applying the erosion and dilatation.\n",
    "    \"\"\"\n",
    "\n",
    "    # Define the area on which we apply the operation for each pixel\n",
    "    kernel = np.ones((3, 3), np.uint8)\n",
    "\n",
    "    # We may need to adjust the number of iterations\n",
    "    # I experience few values and it seems that 9 is the best I found so far\n",
    "    image = cv2.erode(image, kernel, iterations=10)\n",
    "    image = cv2.dilate(image, kernel, iterations=10)\n",
    "\n",
    "    if save_path:\n",
    "        cv2.imwrite(save_path, image)\n",
    "    return image\n",
    "\n",
    "def apply_mask(image, mask, save_path=None):\n",
    "    \"\"\"\n",
    "    Apply the mask we created on the initial image in order to remove the background.\n",
    "\n",
    "    :param image: The image to which the mask will be applied.\n",
    "    :param mask: The mask to apply on the initial image.\n",
    "    :param save_path: Path to save the processed image.\n",
    "\n",
    "    :return: The image cv2 format after applying the mask.\n",
    "    If everything went fine, most of the background should have been removed.\n",
    "    \"\"\"\n",
    "\n",
    "    inverted_mask = cv2.bitwise_not(mask)\n",
    "    masked_image_inverted = cv2.bitwise_and(image, image, mask=inverted_mask)\n",
    "\n",
    "    if save_path:\n",
    "        cv2.imwrite(save_path, masked_image_inverted)\n",
    "\n",
    "    return masked_image_inverted\n",
    "\n",
    "def isolate_pokemon(image_name):\n",
    "    \"\"\"\n",
    "    Apply every operation we need to remove the background so we can isolate the Pokemon.\n",
    "    Once the operations are completed, save the processed image in the folder \"Test_processed\"\n",
    "    with the same name.\n",
    "\n",
    "    :param image_name: The name of the image in which we want to isolate the Pokemon.\n",
    "\n",
    "    \"\"\"\n",
    "    if(ON_TRAINING):\n",
    "        image = cv2.imread(my_path + \"Train/\" + str(image_name))\n",
    "        grey_image = cv2.imread(my_path + \"Train/\" + str(image_name), cv2.IMREAD_GRAYSCALE)\n",
    "    else:\n",
    "        image = cv2.imread(my_path + \"Test/\" + str(image_name))\n",
    "        grey_image = cv2.imread(my_path + \"Test/\" + str(image_name), cv2.IMREAD_GRAYSCALE)\n",
    "    grey_image = fix_border(grey_image)\n",
    "    grey_image = apply_threshold(grey_image, \"thresholded.png\")\n",
    "    centered_image, grey_centered_image = center_pokemon(image,grey_image)\n",
    "    grey_centered_image = erode_and_dilate(grey_centered_image)\n",
    "    centered_image = apply_mask(centered_image,grey_centered_image)\n",
    "    if(ON_TRAINING):\n",
    "        if not os.path.exists(my_path + \"Train_processed\"):\n",
    "            os.mkdir(my_path + \"Train_processed\")\n",
    "        cv2.imwrite(my_path + \"Train_processed/\" + str(image_name), centered_image)\n",
    "    else:\n",
    "        if not os.path.exists(my_path + \"Test_processed\"):\n",
    "            os.mkdir(my_path + \"Test_processed\")\n",
    "        cv2.imwrite(my_path + \"Test_processed/\" + str(image_name), centered_image)\n",
    "\n",
    "def isolate_every_pokemon():\n",
    "    \"\"\"\n",
    "    Remove the background for every picture in the folder \"Test\" and save the processed image\n",
    "    in the folder \"Test_processed\"\n",
    "    \"\"\"\n",
    "    if(ON_TRAINING):\n",
    "        if not os.path.exists(my_path + \"Train\"):\n",
    "            print(\"The folder 'Train' does not exist.\")\n",
    "        else:\n",
    "            for image_name in os.listdir(my_path + \"Train\"):\n",
    "                isolate_pokemon(image_name)\n",
    "    else:\n",
    "        if not os.path.exists(my_path + \"Test\"):\n",
    "            print(\"The folder 'Test' does not exist.\")\n",
    "        else:\n",
    "            for image_name in os.listdir(my_path + \"Test\"):\n",
    "                isolate_pokemon(image_name)\n",
    "\n",
    "\n",
    "\n",
    "isolate_every_pokemon()"
   ]
  },
  {
   "cell_type": "markdown",
   "metadata": {
    "id": "um-OPoePG0eF"
   },
   "source": [
    "## 3. Data"
   ]
  },
  {
   "cell_type": "code",
   "execution_count": null,
   "metadata": {
    "ExecuteTime": {
     "end_time": "2025-03-27T10:32:56.101935Z",
     "start_time": "2025-03-27T10:32:56.091827Z"
    },
    "id": "jXCLE2z2G0eF"
   },
   "outputs": [],
   "source": [
    "# Load labels\n",
    "data_path = my_path +\"train_labels.csv\"\n",
    "image_folder = my_path +\"Train_processed\"\n",
    "labels_df = pd.read_csv(data_path)"
   ]
  },
  {
   "cell_type": "code",
   "execution_count": null,
   "metadata": {
    "ExecuteTime": {
     "end_time": "2025-03-27T10:32:56.158674Z",
     "start_time": "2025-03-27T10:32:56.150219Z"
    },
    "colab": {
     "base_uri": "https://localhost:8080/"
    },
    "executionInfo": {
     "elapsed": 85,
     "status": "ok",
     "timestamp": 1744039570409,
     "user": {
      "displayName": "Hugo WERCK",
      "userId": "02564599842334010125"
     },
     "user_tz": -60
    },
    "id": "CCRtTRXCG0eF",
    "outputId": "10894f42-4141-4081-ebb0-0f4144d73222"
   },
   "outputs": [
    {
     "name": "stderr",
     "output_type": "stream",
     "text": [
      "<ipython-input-20-d298f8173513>:3: DeprecationWarning: DataFrameGroupBy.apply operated on the grouping columns. This behavior is deprecated, and in a future version of pandas the grouping columns will be excluded from the operation. Either pass `include_groups=False` to exclude the groupings or explicitly select the grouping columns after groupby to silence this warning.\n",
      "  balanced_df = labels_df.groupby('label').apply(lambda x: x.sample(min_class_count)).reset_index(drop=True)\n"
     ]
    }
   ],
   "source": [
    "# Undersampling to balance classes\n",
    "min_class_count = labels_df['label'].value_counts().min()\n",
    "balanced_df = labels_df.groupby('label').apply(lambda x: x.sample(min_class_count)).reset_index(drop=True)"
   ]
  },
  {
   "cell_type": "code",
   "execution_count": null,
   "metadata": {
    "ExecuteTime": {
     "end_time": "2025-03-27T10:32:56.207801Z",
     "start_time": "2025-03-27T10:32:56.199617Z"
    },
    "id": "-4xkjiCaG0eF"
   },
   "outputs": [],
   "source": [
    "# Train-validation split\n",
    "train_df, val_df = train_test_split(balanced_df, test_size=0.2, stratify=balanced_df['label'])"
   ]
  },
  {
   "cell_type": "code",
   "execution_count": null,
   "metadata": {
    "ExecuteTime": {
     "end_time": "2025-03-27T10:32:56.264524Z",
     "start_time": "2025-03-27T10:32:56.256501Z"
    },
    "id": "uc0aapbzG0eF"
   },
   "outputs": [],
   "source": [
    "# Image preprocessing\n",
    "transform = transforms.Compose([\n",
    "    transforms.Resize((64, 64)), #assure all images are 64x64\n",
    "    transforms.ToTensor(), #convert to tensor pytorch\n",
    "    #transforms.Normalize((0.5, 0.5, 0.5), (0.5, 0.5, 0.5)) #normalize the images : problem when we do it !!!\n",
    "])"
   ]
  },
  {
   "cell_type": "markdown",
   "metadata": {
    "id": "FoR__TeyG0eF"
   },
   "source": [
    "## 4. Dataset creation"
   ]
  },
  {
   "cell_type": "code",
   "execution_count": null,
   "metadata": {
    "ExecuteTime": {
     "end_time": "2025-03-27T10:33:01.068513Z",
     "start_time": "2025-03-27T10:32:56.313351Z"
    },
    "id": "OJP6MiqjG0eF"
   },
   "outputs": [],
   "source": [
    "# Create datasets\n",
    "\n",
    "# Create label-to-index mapping\n",
    "unique_labels = train_df[\"label\"].unique()\n",
    "label_map = {label: Id for Id, label in enumerate(unique_labels)}\n",
    "\n",
    "# Function to load images and labels into tensors\n",
    "def load_dataset(df, img_folder, transform):\n",
    "    images = []\n",
    "    labels = []\n",
    "\n",
    "    for _, row in df.iterrows():\n",
    "        img_path = os.path.join(my_path, img_folder, row[\"Id\"] + \".png\")  # Construct full image path\n",
    "        image = Image.open(img_path).convert(\"RGB\")  # Open image in RGB mode\n",
    "        image = transform(image)  # Apply transformations\n",
    "\n",
    "        images.append(image)\n",
    "        labels.append(label_map[row[\"label\"]])  # Convert label to integer\n",
    "\n",
    "    # Convert to PyTorch tensors\n",
    "    images_tensor = torch.stack(images)  # Stack list of images into a single tensor\n",
    "    labels_tensor = torch.tensor(labels, dtype=torch.long)  # Convert labels to tensor\n",
    "\n",
    "    return images_tensor, labels_tensor\n",
    "\n",
    "# Load train and validation sets\n",
    "train_images, train_labels = load_dataset(train_df, image_folder, transform)\n",
    "val_images, val_labels = load_dataset(val_df, image_folder, transform)\n",
    "\n",
    "\n",
    "\n",
    "# Create TensorDataset\n",
    "train_dataset = TensorDataset(train_images, train_labels)\n",
    "val_dataset = TensorDataset(val_images, val_labels)\n",
    "\n",
    "# Create dataloaders (process data in batches, reducing memory usage)\n",
    "train_loader = DataLoader(train_dataset, batch_size=32, shuffle=True)\n",
    "val_loader = DataLoader(val_dataset, batch_size=32, shuffle=True)"
   ]
  },
  {
   "cell_type": "code",
   "execution_count": null,
   "metadata": {
    "ExecuteTime": {
     "end_time": "2025-03-27T10:33:01.117615Z",
     "start_time": "2025-03-27T10:33:01.109543Z"
    },
    "colab": {
     "base_uri": "https://localhost:8080/"
    },
    "executionInfo": {
     "elapsed": 8,
     "status": "ok",
     "timestamp": 1744040462505,
     "user": {
      "displayName": "Hugo WERCK",
      "userId": "02564599842334010125"
     },
     "user_tz": -60
    },
    "id": "p7h91p2aG0eG",
    "outputId": "fa95a5a2-6581-441d-c5d2-08fd3c4097ca"
   },
   "outputs": [
    {
     "name": "stdout",
     "output_type": "stream",
     "text": [
      "Using device: cpu\n"
     ]
    }
   ],
   "source": [
    "# Check if GPU is available\n",
    "device = torch.device(\"cuda\" if torch.cuda.is_available() else \"cpu\")\n",
    "print(f\"Using device: {device}\")"
   ]
  },
  {
   "cell_type": "markdown",
   "metadata": {
    "id": "lt01XJlQG0eG"
   },
   "source": [
    "## 5. Model definition"
   ]
  },
  {
   "cell_type": "code",
   "execution_count": null,
   "metadata": {
    "ExecuteTime": {
     "end_time": "2025-03-27T10:33:01.232355Z",
     "start_time": "2025-03-27T10:33:01.216255Z"
    },
    "id": "NfUy5pRtG0eG"
   },
   "outputs": [],
   "source": [
    "# Define the MLP model\n",
    "class MLP(nn.Module):\n",
    "    def __init__(self, input_size, num_classes):\n",
    "        super(MLP, self).__init__()\n",
    "        self.fc1 = nn.Linear(input_size, 256)\n",
    "        self.relu = nn.ReLU()\n",
    "        self.fc2 = nn.Linear(256, 128)\n",
    "        self.fc3 = nn.Linear(128, num_classes)\n",
    "        self.softmax = nn.Softmax(dim=1)\n",
    "\n",
    "    def forward(self, x):\n",
    "        x = x.view(x.size(0), -1)  # Flatten the image into a vector\n",
    "        x = self.fc1(x)\n",
    "        x = self.relu(x)\n",
    "        x = self.fc2(x)\n",
    "        x = self.relu(x)\n",
    "        x = self.fc3(x)\n",
    "        x = self.softmax(x)  # Apply Softmax to the output\n",
    "        return x"
   ]
  },
  {
   "cell_type": "code",
   "execution_count": null,
   "metadata": {
    "ExecuteTime": {
     "end_time": "2025-03-27T10:33:01.281315Z",
     "start_time": "2025-03-27T10:33:01.232355Z"
    },
    "id": "pJpFUyM9G0eG"
   },
   "outputs": [],
   "source": [
    "# Model initialization\n",
    "input_size = 64 * 64 * 3 #size of the images multiplicated by the number of channels : RGB\n",
    "num_classes = len(train_df['label'].unique()) #number of classes = labels of pokémons\n",
    "model = MLP(input_size, num_classes) #initialize model"
   ]
  },
  {
   "cell_type": "code",
   "execution_count": null,
   "metadata": {
    "ExecuteTime": {
     "end_time": "2025-03-27T10:33:02.677739Z",
     "start_time": "2025-03-27T10:33:01.330339Z"
    },
    "colab": {
     "base_uri": "https://localhost:8080/"
    },
    "executionInfo": {
     "elapsed": 3410,
     "status": "ok",
     "timestamp": 1744040465947,
     "user": {
      "displayName": "Hugo WERCK",
      "userId": "02564599842334010125"
     },
     "user_tz": -60
    },
    "id": "YXDEJhA8G0eG",
    "outputId": "78012d7e-84e6-4477-cdef-70e9731b37c8"
   },
   "outputs": [
    {
     "name": "stdout",
     "output_type": "stream",
     "text": [
      "Requirement already satisfied: torchsummary in /usr/local/lib/python3.11/dist-packages (1.5.1)\n"
     ]
    }
   ],
   "source": [
    "! pip install torchsummary"
   ]
  },
  {
   "cell_type": "code",
   "execution_count": null,
   "metadata": {
    "ExecuteTime": {
     "end_time": "2025-03-27T10:33:02.759397Z",
     "start_time": "2025-03-27T10:33:02.726636Z"
    },
    "colab": {
     "base_uri": "https://localhost:8080/"
    },
    "executionInfo": {
     "elapsed": 72,
     "status": "ok",
     "timestamp": 1744040466025,
     "user": {
      "displayName": "Hugo WERCK",
      "userId": "02564599842334010125"
     },
     "user_tz": -60
    },
    "id": "glkHW_QsG0eG",
    "outputId": "2bd8baf2-51a7-4b02-d0fd-bef8d9e2aec6"
   },
   "outputs": [
    {
     "name": "stdout",
     "output_type": "stream",
     "text": [
      "----------------------------------------------------------------\n",
      "        Layer (type)               Output Shape         Param #\n",
      "================================================================\n",
      "            Linear-1                  [-1, 256]       3,145,984\n",
      "              ReLU-2                  [-1, 256]               0\n",
      "            Linear-3                  [-1, 128]          32,896\n",
      "              ReLU-4                  [-1, 128]               0\n",
      "            Linear-5                    [-1, 9]           1,161\n",
      "           Softmax-6                    [-1, 9]               0\n",
      "================================================================\n",
      "Total params: 3,180,041\n",
      "Trainable params: 3,180,041\n",
      "Non-trainable params: 0\n",
      "----------------------------------------------------------------\n",
      "Input size (MB): 0.05\n",
      "Forward/backward pass size (MB): 0.01\n",
      "Params size (MB): 12.13\n",
      "Estimated Total Size (MB): 12.18\n",
      "----------------------------------------------------------------\n"
     ]
    }
   ],
   "source": [
    "# Print model summary : number of parameters, layers of the model\n",
    "from torchsummary import summary\n",
    "mlp = model.to(device)\n",
    "summary(mlp,(3,64,64))"
   ]
  },
  {
   "cell_type": "markdown",
   "metadata": {
    "id": "F5Ci7ceBG0eG"
   },
   "source": [
    "## 6. Setting up MLFlow"
   ]
  },
  {
   "cell_type": "markdown",
   "metadata": {},
   "source": [
    "To execute only if you have Databricks token."
   ]
  },
  {
   "cell_type": "code",
   "execution_count": null,
   "metadata": {
    "ExecuteTime": {
     "end_time": "2025-03-27T10:33:04.404905Z",
     "start_time": "2025-03-27T10:33:02.808600Z"
    },
    "colab": {
     "base_uri": "https://localhost:8080/"
    },
    "executionInfo": {
     "elapsed": 37127,
     "status": "ok",
     "timestamp": 1744040503153,
     "user": {
      "displayName": "Hugo WERCK",
      "userId": "02564599842334010125"
     },
     "user_tz": -60
    },
    "id": "nUdYGVAmG0eG",
    "outputId": "d2028998-9715-4e72-8700-7c0904d694f3"
   },
   "outputs": [
    {
     "name": "stdout",
     "output_type": "stream",
     "text": [
      "Collecting mlflow\n",
      "  Downloading mlflow-2.21.3-py3-none-any.whl.metadata (30 kB)\n",
      "Collecting mlflow-skinny==2.21.3 (from mlflow)\n",
      "  Downloading mlflow_skinny-2.21.3-py3-none-any.whl.metadata (31 kB)\n",
      "Requirement already satisfied: Flask<4 in /usr/local/lib/python3.11/dist-packages (from mlflow) (3.1.0)\n",
      "Requirement already satisfied: Jinja2<4,>=2.11 in /usr/local/lib/python3.11/dist-packages (from mlflow) (3.1.6)\n",
      "Collecting alembic!=1.10.0,<2 (from mlflow)\n",
      "  Downloading alembic-1.15.2-py3-none-any.whl.metadata (7.3 kB)\n",
      "Collecting docker<8,>=4.0.0 (from mlflow)\n",
      "  Downloading docker-7.1.0-py3-none-any.whl.metadata (3.8 kB)\n",
      "Collecting graphene<4 (from mlflow)\n",
      "  Downloading graphene-3.4.3-py2.py3-none-any.whl.metadata (6.9 kB)\n",
      "Collecting gunicorn<24 (from mlflow)\n",
      "  Downloading gunicorn-23.0.0-py3-none-any.whl.metadata (4.4 kB)\n",
      "Requirement already satisfied: markdown<4,>=3.3 in /usr/local/lib/python3.11/dist-packages (from mlflow) (3.7)\n",
      "Requirement already satisfied: matplotlib<4 in /usr/local/lib/python3.11/dist-packages (from mlflow) (3.10.0)\n",
      "Requirement already satisfied: numpy<3 in /usr/local/lib/python3.11/dist-packages (from mlflow) (2.0.2)\n",
      "Requirement already satisfied: pandas<3 in /usr/local/lib/python3.11/dist-packages (from mlflow) (2.2.2)\n",
      "Requirement already satisfied: pyarrow<20,>=4.0.0 in /usr/local/lib/python3.11/dist-packages (from mlflow) (18.1.0)\n",
      "Requirement already satisfied: scikit-learn<2 in /usr/local/lib/python3.11/dist-packages (from mlflow) (1.6.1)\n",
      "Requirement already satisfied: scipy<2 in /usr/local/lib/python3.11/dist-packages (from mlflow) (1.14.1)\n",
      "Requirement already satisfied: sqlalchemy<3,>=1.4.0 in /usr/local/lib/python3.11/dist-packages (from mlflow) (2.0.40)\n",
      "Requirement already satisfied: cachetools<6,>=5.0.0 in /usr/local/lib/python3.11/dist-packages (from mlflow-skinny==2.21.3->mlflow) (5.5.2)\n",
      "Requirement already satisfied: click<9,>=7.0 in /usr/local/lib/python3.11/dist-packages (from mlflow-skinny==2.21.3->mlflow) (8.1.8)\n",
      "Requirement already satisfied: cloudpickle<4 in /usr/local/lib/python3.11/dist-packages (from mlflow-skinny==2.21.3->mlflow) (3.1.1)\n",
      "Collecting databricks-sdk<1,>=0.20.0 (from mlflow-skinny==2.21.3->mlflow)\n",
      "  Downloading databricks_sdk-0.49.0-py3-none-any.whl.metadata (38 kB)\n",
      "Collecting fastapi<1 (from mlflow-skinny==2.21.3->mlflow)\n",
      "  Downloading fastapi-0.115.12-py3-none-any.whl.metadata (27 kB)\n",
      "Requirement already satisfied: gitpython<4,>=3.1.9 in /usr/local/lib/python3.11/dist-packages (from mlflow-skinny==2.21.3->mlflow) (3.1.44)\n",
      "Requirement already satisfied: importlib_metadata!=4.7.0,<9,>=3.7.0 in /usr/local/lib/python3.11/dist-packages (from mlflow-skinny==2.21.3->mlflow) (8.6.1)\n",
      "Requirement already satisfied: opentelemetry-api<3,>=1.9.0 in /usr/local/lib/python3.11/dist-packages (from mlflow-skinny==2.21.3->mlflow) (1.31.1)\n",
      "Requirement already satisfied: opentelemetry-sdk<3,>=1.9.0 in /usr/local/lib/python3.11/dist-packages (from mlflow-skinny==2.21.3->mlflow) (1.31.1)\n",
      "Requirement already satisfied: packaging<25 in /usr/local/lib/python3.11/dist-packages (from mlflow-skinny==2.21.3->mlflow) (24.2)\n",
      "Requirement already satisfied: protobuf<6,>=3.12.0 in /usr/local/lib/python3.11/dist-packages (from mlflow-skinny==2.21.3->mlflow) (5.29.4)\n",
      "Requirement already satisfied: pydantic<3,>=1.10.8 in /usr/local/lib/python3.11/dist-packages (from mlflow-skinny==2.21.3->mlflow) (2.11.1)\n",
      "Requirement already satisfied: pyyaml<7,>=5.1 in /usr/local/lib/python3.11/dist-packages (from mlflow-skinny==2.21.3->mlflow) (6.0.2)\n",
      "Requirement already satisfied: requests<3,>=2.17.3 in /usr/local/lib/python3.11/dist-packages (from mlflow-skinny==2.21.3->mlflow) (2.32.3)\n",
      "Requirement already satisfied: sqlparse<1,>=0.4.0 in /usr/local/lib/python3.11/dist-packages (from mlflow-skinny==2.21.3->mlflow) (0.5.3)\n",
      "Requirement already satisfied: typing-extensions<5,>=4.0.0 in /usr/local/lib/python3.11/dist-packages (from mlflow-skinny==2.21.3->mlflow) (4.13.0)\n",
      "Collecting uvicorn<1 (from mlflow-skinny==2.21.3->mlflow)\n",
      "  Downloading uvicorn-0.34.0-py3-none-any.whl.metadata (6.5 kB)\n",
      "Requirement already satisfied: Mako in /usr/lib/python3/dist-packages (from alembic!=1.10.0,<2->mlflow) (1.1.3)\n",
      "Requirement already satisfied: urllib3>=1.26.0 in /usr/local/lib/python3.11/dist-packages (from docker<8,>=4.0.0->mlflow) (2.3.0)\n",
      "Requirement already satisfied: Werkzeug>=3.1 in /usr/local/lib/python3.11/dist-packages (from Flask<4->mlflow) (3.1.3)\n",
      "Requirement already satisfied: itsdangerous>=2.2 in /usr/local/lib/python3.11/dist-packages (from Flask<4->mlflow) (2.2.0)\n",
      "Requirement already satisfied: blinker>=1.9 in /usr/local/lib/python3.11/dist-packages (from Flask<4->mlflow) (1.9.0)\n",
      "Collecting graphql-core<3.3,>=3.1 (from graphene<4->mlflow)\n",
      "  Downloading graphql_core-3.2.6-py3-none-any.whl.metadata (11 kB)\n",
      "Collecting graphql-relay<3.3,>=3.1 (from graphene<4->mlflow)\n",
      "  Downloading graphql_relay-3.2.0-py3-none-any.whl.metadata (12 kB)\n",
      "Requirement already satisfied: python-dateutil<3,>=2.7.0 in /usr/local/lib/python3.11/dist-packages (from graphene<4->mlflow) (2.8.2)\n",
      "Requirement already satisfied: MarkupSafe>=2.0 in /usr/local/lib/python3.11/dist-packages (from Jinja2<4,>=2.11->mlflow) (3.0.2)\n",
      "Requirement already satisfied: contourpy>=1.0.1 in /usr/local/lib/python3.11/dist-packages (from matplotlib<4->mlflow) (1.3.1)\n",
      "Requirement already satisfied: cycler>=0.10 in /usr/local/lib/python3.11/dist-packages (from matplotlib<4->mlflow) (0.12.1)\n",
      "Requirement already satisfied: fonttools>=4.22.0 in /usr/local/lib/python3.11/dist-packages (from matplotlib<4->mlflow) (4.56.0)\n",
      "Requirement already satisfied: kiwisolver>=1.3.1 in /usr/local/lib/python3.11/dist-packages (from matplotlib<4->mlflow) (1.4.8)\n",
      "Requirement already satisfied: pillow>=8 in /usr/local/lib/python3.11/dist-packages (from matplotlib<4->mlflow) (11.1.0)\n",
      "Requirement already satisfied: pyparsing>=2.3.1 in /usr/local/lib/python3.11/dist-packages (from matplotlib<4->mlflow) (3.2.3)\n",
      "Requirement already satisfied: pytz>=2020.1 in /usr/local/lib/python3.11/dist-packages (from pandas<3->mlflow) (2025.2)\n",
      "Requirement already satisfied: tzdata>=2022.7 in /usr/local/lib/python3.11/dist-packages (from pandas<3->mlflow) (2025.2)\n",
      "Requirement already satisfied: joblib>=1.2.0 in /usr/local/lib/python3.11/dist-packages (from scikit-learn<2->mlflow) (1.4.2)\n",
      "Requirement already satisfied: threadpoolctl>=3.1.0 in /usr/local/lib/python3.11/dist-packages (from scikit-learn<2->mlflow) (3.6.0)\n",
      "Requirement already satisfied: greenlet>=1 in /usr/local/lib/python3.11/dist-packages (from sqlalchemy<3,>=1.4.0->mlflow) (3.1.1)\n",
      "Requirement already satisfied: google-auth~=2.0 in /usr/local/lib/python3.11/dist-packages (from databricks-sdk<1,>=0.20.0->mlflow-skinny==2.21.3->mlflow) (2.38.0)\n",
      "Collecting starlette<0.47.0,>=0.40.0 (from fastapi<1->mlflow-skinny==2.21.3->mlflow)\n",
      "  Downloading starlette-0.46.1-py3-none-any.whl.metadata (6.2 kB)\n",
      "Requirement already satisfied: gitdb<5,>=4.0.1 in /usr/local/lib/python3.11/dist-packages (from gitpython<4,>=3.1.9->mlflow-skinny==2.21.3->mlflow) (4.0.12)\n",
      "Requirement already satisfied: zipp>=3.20 in /usr/local/lib/python3.11/dist-packages (from importlib_metadata!=4.7.0,<9,>=3.7.0->mlflow-skinny==2.21.3->mlflow) (3.21.0)\n",
      "Requirement already satisfied: deprecated>=1.2.6 in /usr/local/lib/python3.11/dist-packages (from opentelemetry-api<3,>=1.9.0->mlflow-skinny==2.21.3->mlflow) (1.2.18)\n",
      "Requirement already satisfied: opentelemetry-semantic-conventions==0.52b1 in /usr/local/lib/python3.11/dist-packages (from opentelemetry-sdk<3,>=1.9.0->mlflow-skinny==2.21.3->mlflow) (0.52b1)\n",
      "Requirement already satisfied: annotated-types>=0.6.0 in /usr/local/lib/python3.11/dist-packages (from pydantic<3,>=1.10.8->mlflow-skinny==2.21.3->mlflow) (0.7.0)\n",
      "Requirement already satisfied: pydantic-core==2.33.0 in /usr/local/lib/python3.11/dist-packages (from pydantic<3,>=1.10.8->mlflow-skinny==2.21.3->mlflow) (2.33.0)\n",
      "Requirement already satisfied: typing-inspection>=0.4.0 in /usr/local/lib/python3.11/dist-packages (from pydantic<3,>=1.10.8->mlflow-skinny==2.21.3->mlflow) (0.4.0)\n",
      "Requirement already satisfied: six>=1.5 in /usr/local/lib/python3.11/dist-packages (from python-dateutil<3,>=2.7.0->graphene<4->mlflow) (1.17.0)\n",
      "Requirement already satisfied: charset-normalizer<4,>=2 in /usr/local/lib/python3.11/dist-packages (from requests<3,>=2.17.3->mlflow-skinny==2.21.3->mlflow) (3.4.1)\n",
      "Requirement already satisfied: idna<4,>=2.5 in /usr/local/lib/python3.11/dist-packages (from requests<3,>=2.17.3->mlflow-skinny==2.21.3->mlflow) (3.10)\n",
      "Requirement already satisfied: certifi>=2017.4.17 in /usr/local/lib/python3.11/dist-packages (from requests<3,>=2.17.3->mlflow-skinny==2.21.3->mlflow) (2025.1.31)\n",
      "Requirement already satisfied: h11>=0.8 in /usr/local/lib/python3.11/dist-packages (from uvicorn<1->mlflow-skinny==2.21.3->mlflow) (0.14.0)\n",
      "Requirement already satisfied: wrapt<2,>=1.10 in /usr/local/lib/python3.11/dist-packages (from deprecated>=1.2.6->opentelemetry-api<3,>=1.9.0->mlflow-skinny==2.21.3->mlflow) (1.17.2)\n",
      "Requirement already satisfied: smmap<6,>=3.0.1 in /usr/local/lib/python3.11/dist-packages (from gitdb<5,>=4.0.1->gitpython<4,>=3.1.9->mlflow-skinny==2.21.3->mlflow) (5.0.2)\n",
      "Requirement already satisfied: pyasn1-modules>=0.2.1 in /usr/local/lib/python3.11/dist-packages (from google-auth~=2.0->databricks-sdk<1,>=0.20.0->mlflow-skinny==2.21.3->mlflow) (0.4.2)\n",
      "Requirement already satisfied: rsa<5,>=3.1.4 in /usr/local/lib/python3.11/dist-packages (from google-auth~=2.0->databricks-sdk<1,>=0.20.0->mlflow-skinny==2.21.3->mlflow) (4.9)\n",
      "Requirement already satisfied: anyio<5,>=3.6.2 in /usr/local/lib/python3.11/dist-packages (from starlette<0.47.0,>=0.40.0->fastapi<1->mlflow-skinny==2.21.3->mlflow) (4.9.0)\n",
      "Requirement already satisfied: sniffio>=1.1 in /usr/local/lib/python3.11/dist-packages (from anyio<5,>=3.6.2->starlette<0.47.0,>=0.40.0->fastapi<1->mlflow-skinny==2.21.3->mlflow) (1.3.1)\n",
      "Requirement already satisfied: pyasn1<0.7.0,>=0.6.1 in /usr/local/lib/python3.11/dist-packages (from pyasn1-modules>=0.2.1->google-auth~=2.0->databricks-sdk<1,>=0.20.0->mlflow-skinny==2.21.3->mlflow) (0.6.1)\n",
      "Downloading mlflow-2.21.3-py3-none-any.whl (28.2 MB)\n",
      "\u001b[2K   \u001b[90m━━━━━━━━━━━━━━━━━━━━━━━━━━━━━━━━━━━━━━━━\u001b[0m \u001b[32m28.2/28.2 MB\u001b[0m \u001b[31m4.5 MB/s\u001b[0m eta \u001b[36m0:00:00\u001b[0m\n",
      "\u001b[?25hDownloading mlflow_skinny-2.21.3-py3-none-any.whl (6.1 MB)\n",
      "\u001b[2K   \u001b[90m━━━━━━━━━━━━━━━━━━━━━━━━━━━━━━━━━━━━━━━━\u001b[0m \u001b[32m6.1/6.1 MB\u001b[0m \u001b[31m23.7 MB/s\u001b[0m eta \u001b[36m0:00:00\u001b[0m\n",
      "\u001b[?25hDownloading alembic-1.15.2-py3-none-any.whl (231 kB)\n",
      "\u001b[2K   \u001b[90m━━━━━━━━━━━━━━━━━━━━━━━━━━━━━━━━━━━━━━━━\u001b[0m \u001b[32m231.9/231.9 kB\u001b[0m \u001b[31m8.7 MB/s\u001b[0m eta \u001b[36m0:00:00\u001b[0m\n",
      "\u001b[?25hDownloading docker-7.1.0-py3-none-any.whl (147 kB)\n",
      "\u001b[2K   \u001b[90m━━━━━━━━━━━━━━━━━━━━━━━━━━━━━━━━━━━━━━━━\u001b[0m \u001b[32m147.8/147.8 kB\u001b[0m \u001b[31m3.3 MB/s\u001b[0m eta \u001b[36m0:00:00\u001b[0m\n",
      "\u001b[?25hDownloading graphene-3.4.3-py2.py3-none-any.whl (114 kB)\n",
      "\u001b[2K   \u001b[90m━━━━━━━━━━━━━━━━━━━━━━━━━━━━━━━━━━━━━━━━\u001b[0m \u001b[32m114.9/114.9 kB\u001b[0m \u001b[31m5.9 MB/s\u001b[0m eta \u001b[36m0:00:00\u001b[0m\n",
      "\u001b[?25hDownloading gunicorn-23.0.0-py3-none-any.whl (85 kB)\n",
      "\u001b[2K   \u001b[90m━━━━━━━━━━━━━━━━━━━━━━━━━━━━━━━━━━━━━━━━\u001b[0m \u001b[32m85.0/85.0 kB\u001b[0m \u001b[31m4.2 MB/s\u001b[0m eta \u001b[36m0:00:00\u001b[0m\n",
      "\u001b[?25hDownloading databricks_sdk-0.49.0-py3-none-any.whl (683 kB)\n",
      "\u001b[2K   \u001b[90m━━━━━━━━━━━━━━━━━━━━━━━━━━━━━━━━━━━━━━━━\u001b[0m \u001b[32m684.0/684.0 kB\u001b[0m \u001b[31m21.7 MB/s\u001b[0m eta \u001b[36m0:00:00\u001b[0m\n",
      "\u001b[?25hDownloading fastapi-0.115.12-py3-none-any.whl (95 kB)\n",
      "\u001b[2K   \u001b[90m━━━━━━━━━━━━━━━━━━━━━━━━━━━━━━━━━━━━━━━━\u001b[0m \u001b[32m95.2/95.2 kB\u001b[0m \u001b[31m6.2 MB/s\u001b[0m eta \u001b[36m0:00:00\u001b[0m\n",
      "\u001b[?25hDownloading graphql_core-3.2.6-py3-none-any.whl (203 kB)\n",
      "\u001b[2K   \u001b[90m━━━━━━━━━━━━━━━━━━━━━━━━━━━━━━━━━━━━━━━━\u001b[0m \u001b[32m203.4/203.4 kB\u001b[0m \u001b[31m11.8 MB/s\u001b[0m eta \u001b[36m0:00:00\u001b[0m\n",
      "\u001b[?25hDownloading graphql_relay-3.2.0-py3-none-any.whl (16 kB)\n",
      "Downloading uvicorn-0.34.0-py3-none-any.whl (62 kB)\n",
      "\u001b[2K   \u001b[90m━━━━━━━━━━━━━━━━━━━━━━━━━━━━━━━━━━━━━━━━\u001b[0m \u001b[32m62.3/62.3 kB\u001b[0m \u001b[31m4.4 MB/s\u001b[0m eta \u001b[36m0:00:00\u001b[0m\n",
      "\u001b[?25hDownloading starlette-0.46.1-py3-none-any.whl (71 kB)\n",
      "\u001b[2K   \u001b[90m━━━━━━━━━━━━━━━━━━━━━━━━━━━━━━━━━━━━━━━━\u001b[0m \u001b[32m72.0/72.0 kB\u001b[0m \u001b[31m5.0 MB/s\u001b[0m eta \u001b[36m0:00:00\u001b[0m\n",
      "\u001b[?25hInstalling collected packages: uvicorn, gunicorn, graphql-core, starlette, graphql-relay, docker, alembic, graphene, fastapi, databricks-sdk, mlflow-skinny, mlflow\n",
      "Successfully installed alembic-1.15.2 databricks-sdk-0.49.0 docker-7.1.0 fastapi-0.115.12 graphene-3.4.3 graphql-core-3.2.6 graphql-relay-3.2.0 gunicorn-23.0.0 mlflow-2.21.3 mlflow-skinny-2.21.3 starlette-0.46.1 uvicorn-0.34.0\n"
     ]
    }
   ],
   "source": [
    "# !pip install mlflow"
   ]
  },
  {
   "cell_type": "code",
   "execution_count": null,
   "metadata": {
    "ExecuteTime": {
     "end_time": "2025-03-27T10:33:04.454119Z",
     "start_time": "2025-03-27T10:33:04.446216Z"
    },
    "id": "h8D_Lel3G0eG"
   },
   "outputs": [],
   "source": [
    "# from random import random, randint\n",
    "# from mlflow import log_metric, log_param, log_artifacts\n",
    "# from mlflow.tracking import MlflowClient"
   ]
  },
  {
   "cell_type": "code",
   "execution_count": null,
   "metadata": {
    "ExecuteTime": {
     "end_time": "2025-03-27T10:33:04.519956Z",
     "start_time": "2025-03-27T10:33:04.503310Z"
    },
    "id": "PjH80z73G0eG"
   },
   "outputs": [],
   "source": [
    "# import mlflow\n",
    "# import mlflow.pytorch"
   ]
  },
  {
   "cell_type": "code",
   "execution_count": null,
   "metadata": {
    "ExecuteTime": {
     "end_time": "2025-03-27T10:33:05.140541Z",
     "start_time": "2025-03-27T10:33:04.576987Z"
    },
    "colab": {
     "base_uri": "https://localhost:8080/"
    },
    "executionInfo": {
     "elapsed": 674523,
     "status": "ok",
     "timestamp": 1744041187955,
     "user": {
      "displayName": "Hugo WERCK",
      "userId": "02564599842334010125"
     },
     "user_tz": -60
    },
    "id": "3cE6Ss31G0eG",
    "outputId": "32bd0943-10c9-48dc-a62c-d6d3d59234a2"
   },
   "outputs": [
    {
     "name": "stderr",
     "output_type": "stream",
     "text": [
      "2025/04/07 15:41:54 INFO mlflow.utils.credentials: No valid Databricks credentials found, please enter your credentials...\n"
     ]
    },
    {
     "name": "stdout",
     "output_type": "stream",
     "text": [
      "Databricks Host (should begin with https://): https://dbc-edfa1cca-da69.cloud.databricks.com\n",
      "Token: ··········\n"
     ]
    },
    {
     "name": "stderr",
     "output_type": "stream",
     "text": [
      "2025/04/07 15:53:09 INFO mlflow.utils.credentials: Successfully connected to MLflow hosted tracking server! Host: https://dbc-edfa1cca-da69.cloud.databricks.com.\n"
     ]
    }
   ],
   "source": [
    "# # check databricks.txt\n",
    "# mlflow.login()"
   ]
  },
  {
   "cell_type": "code",
   "execution_count": null,
   "metadata": {
    "ExecuteTime": {
     "end_time": "2025-03-27T10:33:05.198Z",
     "start_time": "2025-03-27T10:33:05.181372Z"
    },
    "id": "CK_dor4nZow1"
   },
   "outputs": [],
   "source": [
    "# mlflow.set_tracking_uri(\"databricks\")"
   ]
  },
  {
   "cell_type": "code",
   "execution_count": null,
   "metadata": {
    "ExecuteTime": {
     "end_time": "2025-03-27T10:33:05.935337Z",
     "start_time": "2025-03-27T10:33:05.242678Z"
    },
    "colab": {
     "base_uri": "https://localhost:8080/"
    },
    "executionInfo": {
     "elapsed": 931,
     "status": "ok",
     "timestamp": 1744041188899,
     "user": {
      "displayName": "Hugo WERCK",
      "userId": "02564599842334010125"
     },
     "user_tz": -60
    },
    "id": "bIp27sY8Zow1",
    "outputId": "a75b1922-43f3-483f-fa18-205caae13140"
   },
   "outputs": [
    {
     "data": {
      "text/plain": [
       "<Experiment: artifact_location='dbfs:/Volumes/test/mlflow/Pokemon_Classification', creation_time=1743068641069, experiment_id='2969168611654528', last_update_time=1743107463820, lifecycle_stage='active', name='/Users/hugo.werck@telecomnancy.net/Pokemon_Classification', tags={'mlflow.experiment.sourceName': '/Users/hugo.werck@telecomnancy.net/Pokemon_Classification',\n",
       " 'mlflow.experimentType': 'MLFLOW_EXPERIMENT',\n",
       " 'mlflow.ownerEmail': 'hugo.werck@telecomnancy.net',\n",
       " 'mlflow.ownerId': '1419176588131537'}>"
      ]
     },
     "execution_count": 34,
     "metadata": {},
     "output_type": "execute_result"
    }
   ],
   "source": [
    "# experiment_name = \"[Put your link]/Pokemon_Classification\"\n",
    "\n",
    "# existing_experiment = mlflow.get_experiment_by_name(experiment_name)\n",
    "\n",
    "# if existing_experiment is None:\n",
    "#     mlflow.create_experiment(\n",
    "#         experiment_name,\n",
    "#         artifact_location=\"dbfs:/Volumes/test/mlflow/Pokemon_Classification\",\n",
    "#     )\n",
    "\n",
    "# mlflow.set_experiment(experiment_name)"
   ]
  },
  {
   "cell_type": "markdown",
   "metadata": {
    "id": "Znlh_Mc6G0eH"
   },
   "source": [
    "## 7. Model training and evaluation"
   ]
  },
  {
   "cell_type": "code",
   "execution_count": null,
   "metadata": {
    "ExecuteTime": {
     "end_time": "2025-03-27T10:33:05.993204Z",
     "start_time": "2025-03-27T10:33:05.976970Z"
    },
    "id": "VyEf_U-PG0eH"
   },
   "outputs": [],
   "source": [
    "# Loss and optimizer definition\n",
    "criterion = nn.CrossEntropyLoss() #loss function\n",
    "optimizer = optim.Adam(model.parameters(), lr=0.001) #optimizer + lr = learning rate"
   ]
  },
  {
   "cell_type": "code",
   "execution_count": null,
   "metadata": {
    "ExecuteTime": {
     "end_time": "2025-03-27T10:33:06.050392Z",
     "start_time": "2025-03-27T10:33:06.033952Z"
    },
    "id": "HLXuTCoGZow2"
   },
   "outputs": [],
   "source": [
    "from sklearn.metrics import f1_score"
   ]
  },
  {
   "cell_type": "code",
   "execution_count": null,
   "metadata": {
    "id": "t12QDbonxTKp"
   },
   "outputs": [],
   "source": [
    "early_stop = False"
   ]
  },
  {
   "cell_type": "code",
   "execution_count": null,
   "metadata": {
    "ExecuteTime": {
     "end_time": "2025-03-27T10:35:04.557641Z",
     "start_time": "2025-03-27T10:33:06.091421Z"
    },
    "colab": {
     "base_uri": "https://localhost:8080/",
     "height": 1000
    },
    "executionInfo": {
     "elapsed": 922879,
     "status": "ok",
     "timestamp": 1744042111878,
     "user": {
      "displayName": "Hugo WERCK",
      "userId": "02564599842334010125"
     },
     "user_tz": -60
    },
    "id": "8RHh67KwG0eH",
    "outputId": "1e09a02e-e0c0-4b48-998e-c4685fd802c4"
   },
   "outputs": [
    {
     "name": "stderr",
     "output_type": "stream",
     "text": [
      "2025/04/07 15:53:12 INFO mlflow.tracking.fluent: Autologging successfully enabled for sklearn.\n",
      "2025/04/07 15:53:14 INFO mlflow.tracking.fluent: Autologging successfully enabled for statsmodels.\n",
      "2025/04/07 15:53:14 WARNING mlflow.spark: With Pyspark >= 3.2, PYSPARK_PIN_THREAD environment variable must be set to false for Spark datasource autologging to work.\n",
      "2025/04/07 15:53:14 INFO mlflow.tracking.fluent: Autologging successfully enabled for pyspark.\n",
      "2025/04/07 15:53:19 INFO mlflow.tracking.fluent: Autologging successfully enabled for sklearn.\n",
      "2025/04/07 15:53:19 INFO mlflow.tracking.fluent: Autologging successfully enabled for statsmodels.\n",
      "2025/04/07 15:53:19 WARNING mlflow.spark: With Pyspark >= 3.2, PYSPARK_PIN_THREAD environment variable must be set to false for Spark datasource autologging to work.\n",
      "2025/04/07 15:53:19 INFO mlflow.tracking.fluent: Autologging successfully enabled for pyspark.\n"
     ]
    },
    {
     "name": "stdout",
     "output_type": "stream",
     "text": [
      "Epoch 1/200, Loss: 120.4444, Train Accuracy: 0.1264, Validation Accuracy: 0.1659, F1 Score: 0.1010\n"
     ]
    },
    {
     "name": "stderr",
     "output_type": "stream",
     "text": [
      "2025/04/07 15:53:23 INFO mlflow.tracking.fluent: Autologging successfully enabled for sklearn.\n",
      "2025/04/07 15:53:23 INFO mlflow.tracking.fluent: Autologging successfully enabled for statsmodels.\n",
      "2025/04/07 15:53:23 WARNING mlflow.spark: With Pyspark >= 3.2, PYSPARK_PIN_THREAD environment variable must be set to false for Spark datasource autologging to work.\n",
      "2025/04/07 15:53:23 INFO mlflow.tracking.fluent: Autologging successfully enabled for pyspark.\n"
     ]
    },
    {
     "name": "stdout",
     "output_type": "stream",
     "text": [
      "Epoch 2/200, Loss: 117.3668, Train Accuracy: 0.2175, Validation Accuracy: 0.2182, F1 Score: 0.1697\n"
     ]
    },
    {
     "name": "stderr",
     "output_type": "stream",
     "text": [
      "2025/04/07 15:53:27 INFO mlflow.tracking.fluent: Autologging successfully enabled for sklearn.\n",
      "2025/04/07 15:53:27 INFO mlflow.tracking.fluent: Autologging successfully enabled for statsmodels.\n",
      "2025/04/07 15:53:27 WARNING mlflow.spark: With Pyspark >= 3.2, PYSPARK_PIN_THREAD environment variable must be set to false for Spark datasource autologging to work.\n",
      "2025/04/07 15:53:27 INFO mlflow.tracking.fluent: Autologging successfully enabled for pyspark.\n"
     ]
    },
    {
     "name": "stdout",
     "output_type": "stream",
     "text": [
      "Epoch 3/200, Loss: 113.4995, Train Accuracy: 0.3024, Validation Accuracy: 0.2477, F1 Score: 0.2075\n"
     ]
    },
    {
     "name": "stderr",
     "output_type": "stream",
     "text": [
      "2025/04/07 15:53:31 INFO mlflow.tracking.fluent: Autologging successfully enabled for sklearn.\n",
      "2025/04/07 15:53:31 INFO mlflow.tracking.fluent: Autologging successfully enabled for statsmodels.\n",
      "2025/04/07 15:53:31 WARNING mlflow.spark: With Pyspark >= 3.2, PYSPARK_PIN_THREAD environment variable must be set to false for Spark datasource autologging to work.\n",
      "2025/04/07 15:53:31 INFO mlflow.tracking.fluent: Autologging successfully enabled for pyspark.\n"
     ]
    },
    {
     "name": "stdout",
     "output_type": "stream",
     "text": [
      "Epoch 4/200, Loss: 110.4772, Train Accuracy: 0.3542, Validation Accuracy: 0.2523, F1 Score: 0.2060\n"
     ]
    },
    {
     "name": "stderr",
     "output_type": "stream",
     "text": [
      "2025/04/07 15:53:34 INFO mlflow.tracking.fluent: Autologging successfully enabled for sklearn.\n",
      "2025/04/07 15:53:34 INFO mlflow.tracking.fluent: Autologging successfully enabled for statsmodels.\n",
      "2025/04/07 15:53:34 WARNING mlflow.spark: With Pyspark >= 3.2, PYSPARK_PIN_THREAD environment variable must be set to false for Spark datasource autologging to work.\n",
      "2025/04/07 15:53:34 INFO mlflow.tracking.fluent: Autologging successfully enabled for pyspark.\n"
     ]
    },
    {
     "name": "stdout",
     "output_type": "stream",
     "text": [
      "Epoch 5/200, Loss: 106.5320, Train Accuracy: 0.4374, Validation Accuracy: 0.2636, F1 Score: 0.2493\n"
     ]
    },
    {
     "name": "stderr",
     "output_type": "stream",
     "text": [
      "2025/04/07 15:53:39 INFO mlflow.tracking.fluent: Autologging successfully enabled for sklearn.\n",
      "2025/04/07 15:53:39 INFO mlflow.tracking.fluent: Autologging successfully enabled for statsmodels.\n",
      "2025/04/07 15:53:39 WARNING mlflow.spark: With Pyspark >= 3.2, PYSPARK_PIN_THREAD environment variable must be set to false for Spark datasource autologging to work.\n",
      "2025/04/07 15:53:39 INFO mlflow.tracking.fluent: Autologging successfully enabled for pyspark.\n"
     ]
    },
    {
     "name": "stdout",
     "output_type": "stream",
     "text": [
      "Epoch 6/200, Loss: 103.2860, Train Accuracy: 0.5040, Validation Accuracy: 0.2432, F1 Score: 0.2254\n"
     ]
    },
    {
     "name": "stderr",
     "output_type": "stream",
     "text": [
      "2025/04/07 15:53:42 INFO mlflow.tracking.fluent: Autologging successfully enabled for sklearn.\n",
      "2025/04/07 15:53:42 INFO mlflow.tracking.fluent: Autologging successfully enabled for statsmodels.\n",
      "2025/04/07 15:53:42 WARNING mlflow.spark: With Pyspark >= 3.2, PYSPARK_PIN_THREAD environment variable must be set to false for Spark datasource autologging to work.\n",
      "2025/04/07 15:53:42 INFO mlflow.tracking.fluent: Autologging successfully enabled for pyspark.\n"
     ]
    },
    {
     "name": "stdout",
     "output_type": "stream",
     "text": [
      "Epoch 7/200, Loss: 101.2996, Train Accuracy: 0.5410, Validation Accuracy: 0.2864, F1 Score: 0.2624\n"
     ]
    },
    {
     "name": "stderr",
     "output_type": "stream",
     "text": [
      "2025/04/07 15:53:46 INFO mlflow.tracking.fluent: Autologging successfully enabled for sklearn.\n",
      "2025/04/07 15:53:46 INFO mlflow.tracking.fluent: Autologging successfully enabled for statsmodels.\n",
      "2025/04/07 15:53:46 WARNING mlflow.spark: With Pyspark >= 3.2, PYSPARK_PIN_THREAD environment variable must be set to false for Spark datasource autologging to work.\n",
      "2025/04/07 15:53:46 INFO mlflow.tracking.fluent: Autologging successfully enabled for pyspark.\n"
     ]
    },
    {
     "name": "stdout",
     "output_type": "stream",
     "text": [
      "Epoch 8/200, Loss: 98.4639, Train Accuracy: 0.5877, Validation Accuracy: 0.3250, F1 Score: 0.3121\n",
      "Epoch 9/200, Loss: 95.4570, Train Accuracy: 0.6486, Validation Accuracy: 0.2773, F1 Score: 0.2743\n"
     ]
    },
    {
     "name": "stderr",
     "output_type": "stream",
     "text": [
      "2025/04/07 15:53:50 INFO mlflow.tracking.fluent: Autologging successfully enabled for sklearn.\n",
      "2025/04/07 15:53:50 INFO mlflow.tracking.fluent: Autologging successfully enabled for statsmodels.\n",
      "2025/04/07 15:53:50 WARNING mlflow.spark: With Pyspark >= 3.2, PYSPARK_PIN_THREAD environment variable must be set to false for Spark datasource autologging to work.\n",
      "2025/04/07 15:53:50 INFO mlflow.tracking.fluent: Autologging successfully enabled for pyspark.\n",
      "2025/04/07 15:53:53 INFO mlflow.tracking.fluent: Autologging successfully enabled for sklearn.\n",
      "2025/04/07 15:53:54 INFO mlflow.tracking.fluent: Autologging successfully enabled for statsmodels.\n",
      "2025/04/07 15:53:54 WARNING mlflow.spark: With Pyspark >= 3.2, PYSPARK_PIN_THREAD environment variable must be set to false for Spark datasource autologging to work.\n",
      "2025/04/07 15:53:54 INFO mlflow.tracking.fluent: Autologging successfully enabled for pyspark.\n"
     ]
    },
    {
     "name": "stdout",
     "output_type": "stream",
     "text": [
      "Epoch 10/200, Loss: 93.1328, Train Accuracy: 0.6862, Validation Accuracy: 0.3000, F1 Score: 0.2933\n"
     ]
    },
    {
     "name": "stderr",
     "output_type": "stream",
     "text": [
      "2025/04/07 15:53:57 INFO mlflow.tracking.fluent: Autologging successfully enabled for sklearn.\n",
      "2025/04/07 15:53:57 INFO mlflow.tracking.fluent: Autologging successfully enabled for statsmodels.\n",
      "2025/04/07 15:53:57 WARNING mlflow.spark: With Pyspark >= 3.2, PYSPARK_PIN_THREAD environment variable must be set to false for Spark datasource autologging to work.\n",
      "2025/04/07 15:53:57 INFO mlflow.tracking.fluent: Autologging successfully enabled for pyspark.\n"
     ]
    },
    {
     "name": "stdout",
     "output_type": "stream",
     "text": [
      "Epoch 11/200, Loss: 92.1446, Train Accuracy: 0.7062, Validation Accuracy: 0.3068, F1 Score: 0.3030\n"
     ]
    },
    {
     "name": "stderr",
     "output_type": "stream",
     "text": [
      "2025/04/07 15:54:01 INFO mlflow.tracking.fluent: Autologging successfully enabled for sklearn.\n",
      "2025/04/07 15:54:01 INFO mlflow.tracking.fluent: Autologging successfully enabled for statsmodels.\n",
      "2025/04/07 15:54:01 WARNING mlflow.spark: With Pyspark >= 3.2, PYSPARK_PIN_THREAD environment variable must be set to false for Spark datasource autologging to work.\n",
      "2025/04/07 15:54:01 INFO mlflow.tracking.fluent: Autologging successfully enabled for pyspark.\n"
     ]
    },
    {
     "name": "stdout",
     "output_type": "stream",
     "text": [
      "Epoch 12/200, Loss: 90.4701, Train Accuracy: 0.7375, Validation Accuracy: 0.3295, F1 Score: 0.3255\n"
     ]
    },
    {
     "name": "stderr",
     "output_type": "stream",
     "text": [
      "2025/04/07 15:54:06 INFO mlflow.tracking.fluent: Autologging successfully enabled for sklearn.\n",
      "2025/04/07 15:54:06 INFO mlflow.tracking.fluent: Autologging successfully enabled for statsmodels.\n",
      "2025/04/07 15:54:06 WARNING mlflow.spark: With Pyspark >= 3.2, PYSPARK_PIN_THREAD environment variable must be set to false for Spark datasource autologging to work.\n",
      "2025/04/07 15:54:06 INFO mlflow.tracking.fluent: Autologging successfully enabled for pyspark.\n"
     ]
    },
    {
     "name": "stdout",
     "output_type": "stream",
     "text": [
      "Epoch 13/200, Loss: 89.1168, Train Accuracy: 0.7574, Validation Accuracy: 0.3114, F1 Score: 0.2961\n"
     ]
    },
    {
     "name": "stderr",
     "output_type": "stream",
     "text": [
      "2025/04/07 15:54:10 INFO mlflow.tracking.fluent: Autologging successfully enabled for sklearn.\n",
      "2025/04/07 15:54:10 INFO mlflow.tracking.fluent: Autologging successfully enabled for statsmodels.\n",
      "2025/04/07 15:54:10 WARNING mlflow.spark: With Pyspark >= 3.2, PYSPARK_PIN_THREAD environment variable must be set to false for Spark datasource autologging to work.\n",
      "2025/04/07 15:54:10 INFO mlflow.tracking.fluent: Autologging successfully enabled for pyspark.\n"
     ]
    },
    {
     "name": "stdout",
     "output_type": "stream",
     "text": [
      "Epoch 14/200, Loss: 88.2568, Train Accuracy: 0.7739, Validation Accuracy: 0.3114, F1 Score: 0.3030\n"
     ]
    },
    {
     "name": "stderr",
     "output_type": "stream",
     "text": [
      "2025/04/07 15:54:14 INFO mlflow.tracking.fluent: Autologging successfully enabled for sklearn.\n",
      "2025/04/07 15:54:14 INFO mlflow.tracking.fluent: Autologging successfully enabled for statsmodels.\n",
      "2025/04/07 15:54:14 WARNING mlflow.spark: With Pyspark >= 3.2, PYSPARK_PIN_THREAD environment variable must be set to false for Spark datasource autologging to work.\n",
      "2025/04/07 15:54:14 INFO mlflow.tracking.fluent: Autologging successfully enabled for pyspark.\n"
     ]
    },
    {
     "name": "stdout",
     "output_type": "stream",
     "text": [
      "Epoch 15/200, Loss: 87.6827, Train Accuracy: 0.7813, Validation Accuracy: 0.3432, F1 Score: 0.3367\n"
     ]
    },
    {
     "name": "stderr",
     "output_type": "stream",
     "text": [
      "2025/04/07 15:54:18 INFO mlflow.tracking.fluent: Autologging successfully enabled for sklearn.\n",
      "2025/04/07 15:54:18 INFO mlflow.tracking.fluent: Autologging successfully enabled for statsmodels.\n",
      "2025/04/07 15:54:18 WARNING mlflow.spark: With Pyspark >= 3.2, PYSPARK_PIN_THREAD environment variable must be set to false for Spark datasource autologging to work.\n",
      "2025/04/07 15:54:18 INFO mlflow.tracking.fluent: Autologging successfully enabled for pyspark.\n"
     ]
    },
    {
     "name": "stdout",
     "output_type": "stream",
     "text": [
      "Epoch 16/200, Loss: 86.7407, Train Accuracy: 0.8007, Validation Accuracy: 0.3091, F1 Score: 0.3022\n"
     ]
    },
    {
     "name": "stderr",
     "output_type": "stream",
     "text": [
      "2025/04/07 15:54:23 INFO mlflow.tracking.fluent: Autologging successfully enabled for sklearn.\n",
      "2025/04/07 15:54:23 INFO mlflow.tracking.fluent: Autologging successfully enabled for statsmodels.\n",
      "2025/04/07 15:54:23 WARNING mlflow.spark: With Pyspark >= 3.2, PYSPARK_PIN_THREAD environment variable must be set to false for Spark datasource autologging to work.\n",
      "2025/04/07 15:54:23 INFO mlflow.tracking.fluent: Autologging successfully enabled for pyspark.\n"
     ]
    },
    {
     "name": "stdout",
     "output_type": "stream",
     "text": [
      "Epoch 17/200, Loss: 85.9360, Train Accuracy: 0.8149, Validation Accuracy: 0.2886, F1 Score: 0.2790\n"
     ]
    },
    {
     "name": "stderr",
     "output_type": "stream",
     "text": [
      "2025/04/07 15:54:27 INFO mlflow.tracking.fluent: Autologging successfully enabled for sklearn.\n",
      "2025/04/07 15:54:27 INFO mlflow.tracking.fluent: Autologging successfully enabled for statsmodels.\n",
      "2025/04/07 15:54:27 WARNING mlflow.spark: With Pyspark >= 3.2, PYSPARK_PIN_THREAD environment variable must be set to false for Spark datasource autologging to work.\n",
      "2025/04/07 15:54:27 INFO mlflow.tracking.fluent: Autologging successfully enabled for pyspark.\n"
     ]
    },
    {
     "name": "stdout",
     "output_type": "stream",
     "text": [
      "Epoch 18/200, Loss: 85.3813, Train Accuracy: 0.8218, Validation Accuracy: 0.2909, F1 Score: 0.2946\n",
      "Epoch 19/200, Loss: 85.3088, Train Accuracy: 0.8223, Validation Accuracy: 0.3091, F1 Score: 0.3064\n"
     ]
    },
    {
     "name": "stderr",
     "output_type": "stream",
     "text": [
      "2025/04/07 15:54:31 INFO mlflow.tracking.fluent: Autologging successfully enabled for sklearn.\n",
      "2025/04/07 15:54:31 INFO mlflow.tracking.fluent: Autologging successfully enabled for statsmodels.\n",
      "2025/04/07 15:54:31 WARNING mlflow.spark: With Pyspark >= 3.2, PYSPARK_PIN_THREAD environment variable must be set to false for Spark datasource autologging to work.\n",
      "2025/04/07 15:54:31 INFO mlflow.tracking.fluent: Autologging successfully enabled for pyspark.\n",
      "2025/04/07 15:54:35 INFO mlflow.tracking.fluent: Autologging successfully enabled for sklearn.\n",
      "2025/04/07 15:54:35 INFO mlflow.tracking.fluent: Autologging successfully enabled for statsmodels.\n",
      "2025/04/07 15:54:35 WARNING mlflow.spark: With Pyspark >= 3.2, PYSPARK_PIN_THREAD environment variable must be set to false for Spark datasource autologging to work.\n",
      "2025/04/07 15:54:35 INFO mlflow.tracking.fluent: Autologging successfully enabled for pyspark.\n"
     ]
    },
    {
     "name": "stdout",
     "output_type": "stream",
     "text": [
      "Epoch 20/200, Loss: 85.2345, Train Accuracy: 0.8235, Validation Accuracy: 0.3318, F1 Score: 0.3236\n"
     ]
    },
    {
     "name": "stderr",
     "output_type": "stream",
     "text": [
      "2025/04/07 15:54:40 INFO mlflow.tracking.fluent: Autologging successfully enabled for sklearn.\n",
      "2025/04/07 15:54:40 INFO mlflow.tracking.fluent: Autologging successfully enabled for statsmodels.\n",
      "2025/04/07 15:54:40 WARNING mlflow.spark: With Pyspark >= 3.2, PYSPARK_PIN_THREAD environment variable must be set to false for Spark datasource autologging to work.\n",
      "2025/04/07 15:54:40 INFO mlflow.tracking.fluent: Autologging successfully enabled for pyspark.\n"
     ]
    },
    {
     "name": "stdout",
     "output_type": "stream",
     "text": [
      "Epoch 21/200, Loss: 84.1346, Train Accuracy: 0.8440, Validation Accuracy: 0.3500, F1 Score: 0.3355\n"
     ]
    },
    {
     "name": "stderr",
     "output_type": "stream",
     "text": [
      "2025/04/07 15:54:44 INFO mlflow.tracking.fluent: Autologging successfully enabled for sklearn.\n",
      "2025/04/07 15:54:44 INFO mlflow.tracking.fluent: Autologging successfully enabled for statsmodels.\n",
      "2025/04/07 15:54:44 WARNING mlflow.spark: With Pyspark >= 3.2, PYSPARK_PIN_THREAD environment variable must be set to false for Spark datasource autologging to work.\n",
      "2025/04/07 15:54:44 INFO mlflow.tracking.fluent: Autologging successfully enabled for pyspark.\n"
     ]
    },
    {
     "name": "stdout",
     "output_type": "stream",
     "text": [
      "Epoch 22/200, Loss: 84.1047, Train Accuracy: 0.8445, Validation Accuracy: 0.3364, F1 Score: 0.3214\n"
     ]
    },
    {
     "name": "stderr",
     "output_type": "stream",
     "text": [
      "2025/04/07 15:54:48 INFO mlflow.tracking.fluent: Autologging successfully enabled for sklearn.\n",
      "2025/04/07 15:54:48 INFO mlflow.tracking.fluent: Autologging successfully enabled for statsmodels.\n",
      "2025/04/07 15:54:48 WARNING mlflow.spark: With Pyspark >= 3.2, PYSPARK_PIN_THREAD environment variable must be set to false for Spark datasource autologging to work.\n",
      "2025/04/07 15:54:48 INFO mlflow.tracking.fluent: Autologging successfully enabled for pyspark.\n"
     ]
    },
    {
     "name": "stdout",
     "output_type": "stream",
     "text": [
      "Epoch 23/200, Loss: 83.8217, Train Accuracy: 0.8468, Validation Accuracy: 0.3182, F1 Score: 0.3127\n"
     ]
    },
    {
     "name": "stderr",
     "output_type": "stream",
     "text": [
      "2025/04/07 15:54:52 INFO mlflow.tracking.fluent: Autologging successfully enabled for sklearn.\n",
      "2025/04/07 15:54:52 INFO mlflow.tracking.fluent: Autologging successfully enabled for statsmodels.\n",
      "2025/04/07 15:54:52 WARNING mlflow.spark: With Pyspark >= 3.2, PYSPARK_PIN_THREAD environment variable must be set to false for Spark datasource autologging to work.\n",
      "2025/04/07 15:54:52 INFO mlflow.tracking.fluent: Autologging successfully enabled for pyspark.\n"
     ]
    },
    {
     "name": "stdout",
     "output_type": "stream",
     "text": [
      "Epoch 24/200, Loss: 83.9133, Train Accuracy: 0.8479, Validation Accuracy: 0.3614, F1 Score: 0.3557\n"
     ]
    },
    {
     "name": "stderr",
     "output_type": "stream",
     "text": [
      "2025/04/07 15:54:56 INFO mlflow.tracking.fluent: Autologging successfully enabled for sklearn.\n",
      "2025/04/07 15:54:56 INFO mlflow.tracking.fluent: Autologging successfully enabled for statsmodels.\n",
      "2025/04/07 15:54:56 WARNING mlflow.spark: With Pyspark >= 3.2, PYSPARK_PIN_THREAD environment variable must be set to false for Spark datasource autologging to work.\n",
      "2025/04/07 15:54:56 INFO mlflow.tracking.fluent: Autologging successfully enabled for pyspark.\n"
     ]
    },
    {
     "name": "stdout",
     "output_type": "stream",
     "text": [
      "Epoch 25/200, Loss: 83.3582, Train Accuracy: 0.8582, Validation Accuracy: 0.3500, F1 Score: 0.3459\n"
     ]
    },
    {
     "name": "stderr",
     "output_type": "stream",
     "text": [
      "2025/04/07 15:55:01 INFO mlflow.tracking.fluent: Autologging successfully enabled for sklearn.\n",
      "2025/04/07 15:55:01 INFO mlflow.tracking.fluent: Autologging successfully enabled for statsmodels.\n",
      "2025/04/07 15:55:01 WARNING mlflow.spark: With Pyspark >= 3.2, PYSPARK_PIN_THREAD environment variable must be set to false for Spark datasource autologging to work.\n",
      "2025/04/07 15:55:01 INFO mlflow.tracking.fluent: Autologging successfully enabled for pyspark.\n"
     ]
    },
    {
     "name": "stdout",
     "output_type": "stream",
     "text": [
      "Epoch 26/200, Loss: 83.0923, Train Accuracy: 0.8616, Validation Accuracy: 0.3455, F1 Score: 0.3414\n"
     ]
    },
    {
     "name": "stderr",
     "output_type": "stream",
     "text": [
      "2025/04/07 15:55:05 INFO mlflow.tracking.fluent: Autologging successfully enabled for sklearn.\n",
      "2025/04/07 15:55:05 INFO mlflow.tracking.fluent: Autologging successfully enabled for statsmodels.\n",
      "2025/04/07 15:55:05 WARNING mlflow.spark: With Pyspark >= 3.2, PYSPARK_PIN_THREAD environment variable must be set to false for Spark datasource autologging to work.\n",
      "2025/04/07 15:55:05 INFO mlflow.tracking.fluent: Autologging successfully enabled for pyspark.\n"
     ]
    },
    {
     "name": "stdout",
     "output_type": "stream",
     "text": [
      "Epoch 27/200, Loss: 82.8916, Train Accuracy: 0.8656, Validation Accuracy: 0.3432, F1 Score: 0.3266\n"
     ]
    },
    {
     "name": "stderr",
     "output_type": "stream",
     "text": [
      "2025/04/07 15:55:09 INFO mlflow.tracking.fluent: Autologging successfully enabled for sklearn.\n",
      "2025/04/07 15:55:09 INFO mlflow.tracking.fluent: Autologging successfully enabled for statsmodels.\n",
      "2025/04/07 15:55:09 WARNING mlflow.spark: With Pyspark >= 3.2, PYSPARK_PIN_THREAD environment variable must be set to false for Spark datasource autologging to work.\n",
      "2025/04/07 15:55:09 INFO mlflow.tracking.fluent: Autologging successfully enabled for pyspark.\n"
     ]
    },
    {
     "name": "stdout",
     "output_type": "stream",
     "text": [
      "Epoch 28/200, Loss: 83.0430, Train Accuracy: 0.8628, Validation Accuracy: 0.3523, F1 Score: 0.3494\n",
      "Epoch 29/200, Loss: 82.7607, Train Accuracy: 0.8667, Validation Accuracy: 0.3659, F1 Score: 0.3542\n"
     ]
    },
    {
     "name": "stderr",
     "output_type": "stream",
     "text": [
      "2025/04/07 15:55:14 INFO mlflow.tracking.fluent: Autologging successfully enabled for sklearn.\n",
      "2025/04/07 15:55:14 INFO mlflow.tracking.fluent: Autologging successfully enabled for statsmodels.\n",
      "2025/04/07 15:55:14 WARNING mlflow.spark: With Pyspark >= 3.2, PYSPARK_PIN_THREAD environment variable must be set to false for Spark datasource autologging to work.\n",
      "2025/04/07 15:55:14 INFO mlflow.tracking.fluent: Autologging successfully enabled for pyspark.\n",
      "2025/04/07 15:55:18 INFO mlflow.tracking.fluent: Autologging successfully enabled for sklearn.\n",
      "2025/04/07 15:55:18 INFO mlflow.tracking.fluent: Autologging successfully enabled for statsmodels.\n",
      "2025/04/07 15:55:18 WARNING mlflow.spark: With Pyspark >= 3.2, PYSPARK_PIN_THREAD environment variable must be set to false for Spark datasource autologging to work.\n",
      "2025/04/07 15:55:18 INFO mlflow.tracking.fluent: Autologging successfully enabled for pyspark.\n"
     ]
    },
    {
     "name": "stdout",
     "output_type": "stream",
     "text": [
      "Epoch 30/200, Loss: 82.4637, Train Accuracy: 0.8741, Validation Accuracy: 0.3409, F1 Score: 0.3354\n"
     ]
    },
    {
     "name": "stderr",
     "output_type": "stream",
     "text": [
      "2025/04/07 15:55:22 INFO mlflow.tracking.fluent: Autologging successfully enabled for sklearn.\n",
      "2025/04/07 15:55:22 INFO mlflow.tracking.fluent: Autologging successfully enabled for statsmodels.\n",
      "2025/04/07 15:55:22 WARNING mlflow.spark: With Pyspark >= 3.2, PYSPARK_PIN_THREAD environment variable must be set to false for Spark datasource autologging to work.\n",
      "2025/04/07 15:55:22 INFO mlflow.tracking.fluent: Autologging successfully enabled for pyspark.\n"
     ]
    },
    {
     "name": "stdout",
     "output_type": "stream",
     "text": [
      "Epoch 31/200, Loss: 82.5233, Train Accuracy: 0.8719, Validation Accuracy: 0.3682, F1 Score: 0.3578\n"
     ]
    },
    {
     "name": "stderr",
     "output_type": "stream",
     "text": [
      "2025/04/07 15:55:27 INFO mlflow.tracking.fluent: Autologging successfully enabled for sklearn.\n",
      "2025/04/07 15:55:27 INFO mlflow.tracking.fluent: Autologging successfully enabled for statsmodels.\n",
      "2025/04/07 15:55:27 WARNING mlflow.spark: With Pyspark >= 3.2, PYSPARK_PIN_THREAD environment variable must be set to false for Spark datasource autologging to work.\n",
      "2025/04/07 15:55:27 INFO mlflow.tracking.fluent: Autologging successfully enabled for pyspark.\n"
     ]
    },
    {
     "name": "stdout",
     "output_type": "stream",
     "text": [
      "Epoch 32/200, Loss: 82.4085, Train Accuracy: 0.8719, Validation Accuracy: 0.3568, F1 Score: 0.3550\n"
     ]
    },
    {
     "name": "stderr",
     "output_type": "stream",
     "text": [
      "2025/04/07 15:55:31 INFO mlflow.tracking.fluent: Autologging successfully enabled for sklearn.\n",
      "2025/04/07 15:55:31 INFO mlflow.tracking.fluent: Autologging successfully enabled for statsmodels.\n",
      "2025/04/07 15:55:31 WARNING mlflow.spark: With Pyspark >= 3.2, PYSPARK_PIN_THREAD environment variable must be set to false for Spark datasource autologging to work.\n",
      "2025/04/07 15:55:31 INFO mlflow.tracking.fluent: Autologging successfully enabled for pyspark.\n"
     ]
    },
    {
     "name": "stdout",
     "output_type": "stream",
     "text": [
      "Epoch 33/200, Loss: 82.1879, Train Accuracy: 0.8764, Validation Accuracy: 0.3523, F1 Score: 0.3448\n"
     ]
    },
    {
     "name": "stderr",
     "output_type": "stream",
     "text": [
      "2025/04/07 15:55:35 INFO mlflow.tracking.fluent: Autologging successfully enabled for sklearn.\n",
      "2025/04/07 15:55:35 INFO mlflow.tracking.fluent: Autologging successfully enabled for statsmodels.\n",
      "2025/04/07 15:55:35 WARNING mlflow.spark: With Pyspark >= 3.2, PYSPARK_PIN_THREAD environment variable must be set to false for Spark datasource autologging to work.\n",
      "2025/04/07 15:55:35 INFO mlflow.tracking.fluent: Autologging successfully enabled for pyspark.\n"
     ]
    },
    {
     "name": "stdout",
     "output_type": "stream",
     "text": [
      "Epoch 34/200, Loss: 82.2372, Train Accuracy: 0.8759, Validation Accuracy: 0.3455, F1 Score: 0.3271\n"
     ]
    },
    {
     "name": "stderr",
     "output_type": "stream",
     "text": [
      "2025/04/07 15:55:40 INFO mlflow.tracking.fluent: Autologging successfully enabled for sklearn.\n",
      "2025/04/07 15:55:40 INFO mlflow.tracking.fluent: Autologging successfully enabled for statsmodels.\n",
      "2025/04/07 15:55:40 WARNING mlflow.spark: With Pyspark >= 3.2, PYSPARK_PIN_THREAD environment variable must be set to false for Spark datasource autologging to work.\n",
      "2025/04/07 15:55:40 INFO mlflow.tracking.fluent: Autologging successfully enabled for pyspark.\n"
     ]
    },
    {
     "name": "stdout",
     "output_type": "stream",
     "text": [
      "Epoch 35/200, Loss: 82.1921, Train Accuracy: 0.8776, Validation Accuracy: 0.3364, F1 Score: 0.3288\n"
     ]
    },
    {
     "name": "stderr",
     "output_type": "stream",
     "text": [
      "2025/04/07 15:55:45 INFO mlflow.tracking.fluent: Autologging successfully enabled for sklearn.\n",
      "2025/04/07 15:55:45 INFO mlflow.tracking.fluent: Autologging successfully enabled for statsmodels.\n",
      "2025/04/07 15:55:45 WARNING mlflow.spark: With Pyspark >= 3.2, PYSPARK_PIN_THREAD environment variable must be set to false for Spark datasource autologging to work.\n",
      "2025/04/07 15:55:45 INFO mlflow.tracking.fluent: Autologging successfully enabled for pyspark.\n"
     ]
    },
    {
     "name": "stdout",
     "output_type": "stream",
     "text": [
      "Epoch 36/200, Loss: 81.9393, Train Accuracy: 0.8815, Validation Accuracy: 0.3318, F1 Score: 0.3333\n"
     ]
    },
    {
     "name": "stderr",
     "output_type": "stream",
     "text": [
      "2025/04/07 15:55:49 INFO mlflow.tracking.fluent: Autologging successfully enabled for sklearn.\n",
      "2025/04/07 15:55:49 INFO mlflow.tracking.fluent: Autologging successfully enabled for statsmodels.\n",
      "2025/04/07 15:55:49 WARNING mlflow.spark: With Pyspark >= 3.2, PYSPARK_PIN_THREAD environment variable must be set to false for Spark datasource autologging to work.\n",
      "2025/04/07 15:55:49 INFO mlflow.tracking.fluent: Autologging successfully enabled for pyspark.\n"
     ]
    },
    {
     "name": "stdout",
     "output_type": "stream",
     "text": [
      "Epoch 37/200, Loss: 81.7369, Train Accuracy: 0.8861, Validation Accuracy: 0.3545, F1 Score: 0.3498\n"
     ]
    },
    {
     "name": "stderr",
     "output_type": "stream",
     "text": [
      "2025/04/07 15:55:53 INFO mlflow.tracking.fluent: Autologging successfully enabled for sklearn.\n",
      "2025/04/07 15:55:53 INFO mlflow.tracking.fluent: Autologging successfully enabled for statsmodels.\n",
      "2025/04/07 15:55:53 WARNING mlflow.spark: With Pyspark >= 3.2, PYSPARK_PIN_THREAD environment variable must be set to false for Spark datasource autologging to work.\n",
      "2025/04/07 15:55:53 INFO mlflow.tracking.fluent: Autologging successfully enabled for pyspark.\n"
     ]
    },
    {
     "name": "stdout",
     "output_type": "stream",
     "text": [
      "Epoch 38/200, Loss: 82.5196, Train Accuracy: 0.8696, Validation Accuracy: 0.3227, F1 Score: 0.3202\n",
      "Epoch 39/200, Loss: 81.7890, Train Accuracy: 0.8867, Validation Accuracy: 0.3386, F1 Score: 0.3400\n"
     ]
    },
    {
     "name": "stderr",
     "output_type": "stream",
     "text": [
      "2025/04/07 15:55:58 INFO mlflow.tracking.fluent: Autologging successfully enabled for sklearn.\n",
      "2025/04/07 15:55:58 INFO mlflow.tracking.fluent: Autologging successfully enabled for statsmodels.\n",
      "2025/04/07 15:55:58 WARNING mlflow.spark: With Pyspark >= 3.2, PYSPARK_PIN_THREAD environment variable must be set to false for Spark datasource autologging to work.\n",
      "2025/04/07 15:55:58 INFO mlflow.tracking.fluent: Autologging successfully enabled for pyspark.\n",
      "2025/04/07 15:56:01 INFO mlflow.tracking.fluent: Autologging successfully enabled for sklearn.\n",
      "2025/04/07 15:56:01 INFO mlflow.tracking.fluent: Autologging successfully enabled for statsmodels.\n",
      "2025/04/07 15:56:01 WARNING mlflow.spark: With Pyspark >= 3.2, PYSPARK_PIN_THREAD environment variable must be set to false for Spark datasource autologging to work.\n",
      "2025/04/07 15:56:01 INFO mlflow.tracking.fluent: Autologging successfully enabled for pyspark.\n"
     ]
    },
    {
     "name": "stdout",
     "output_type": "stream",
     "text": [
      "Epoch 40/200, Loss: 81.4937, Train Accuracy: 0.8912, Validation Accuracy: 0.3250, F1 Score: 0.3220\n"
     ]
    },
    {
     "name": "stderr",
     "output_type": "stream",
     "text": [
      "2025/04/07 15:56:05 INFO mlflow.tracking.fluent: Autologging successfully enabled for sklearn.\n",
      "2025/04/07 15:56:05 INFO mlflow.tracking.fluent: Autologging successfully enabled for statsmodels.\n",
      "2025/04/07 15:56:05 WARNING mlflow.spark: With Pyspark >= 3.2, PYSPARK_PIN_THREAD environment variable must be set to false for Spark datasource autologging to work.\n",
      "2025/04/07 15:56:05 INFO mlflow.tracking.fluent: Autologging successfully enabled for pyspark.\n"
     ]
    },
    {
     "name": "stdout",
     "output_type": "stream",
     "text": [
      "Epoch 41/200, Loss: 81.6212, Train Accuracy: 0.8878, Validation Accuracy: 0.3250, F1 Score: 0.3130\n"
     ]
    },
    {
     "name": "stderr",
     "output_type": "stream",
     "text": [
      "2025/04/07 15:56:10 INFO mlflow.tracking.fluent: Autologging successfully enabled for sklearn.\n",
      "2025/04/07 15:56:10 INFO mlflow.tracking.fluent: Autologging successfully enabled for statsmodels.\n",
      "2025/04/07 15:56:10 WARNING mlflow.spark: With Pyspark >= 3.2, PYSPARK_PIN_THREAD environment variable must be set to false for Spark datasource autologging to work.\n",
      "2025/04/07 15:56:10 INFO mlflow.tracking.fluent: Autologging successfully enabled for pyspark.\n"
     ]
    },
    {
     "name": "stdout",
     "output_type": "stream",
     "text": [
      "Epoch 42/200, Loss: 81.9617, Train Accuracy: 0.8827, Validation Accuracy: 0.3455, F1 Score: 0.3373\n"
     ]
    },
    {
     "name": "stderr",
     "output_type": "stream",
     "text": [
      "2025/04/07 15:56:14 INFO mlflow.tracking.fluent: Autologging successfully enabled for sklearn.\n",
      "2025/04/07 15:56:14 INFO mlflow.tracking.fluent: Autologging successfully enabled for statsmodels.\n",
      "2025/04/07 15:56:14 WARNING mlflow.spark: With Pyspark >= 3.2, PYSPARK_PIN_THREAD environment variable must be set to false for Spark datasource autologging to work.\n",
      "2025/04/07 15:56:14 INFO mlflow.tracking.fluent: Autologging successfully enabled for pyspark.\n"
     ]
    },
    {
     "name": "stdout",
     "output_type": "stream",
     "text": [
      "Epoch 43/200, Loss: 81.4864, Train Accuracy: 0.8912, Validation Accuracy: 0.3386, F1 Score: 0.3300\n"
     ]
    },
    {
     "name": "stderr",
     "output_type": "stream",
     "text": [
      "2025/04/07 15:56:18 INFO mlflow.tracking.fluent: Autologging successfully enabled for sklearn.\n",
      "2025/04/07 15:56:18 INFO mlflow.tracking.fluent: Autologging successfully enabled for statsmodels.\n",
      "2025/04/07 15:56:18 WARNING mlflow.spark: With Pyspark >= 3.2, PYSPARK_PIN_THREAD environment variable must be set to false for Spark datasource autologging to work.\n",
      "2025/04/07 15:56:18 INFO mlflow.tracking.fluent: Autologging successfully enabled for pyspark.\n"
     ]
    },
    {
     "name": "stdout",
     "output_type": "stream",
     "text": [
      "Epoch 44/200, Loss: 81.3976, Train Accuracy: 0.8907, Validation Accuracy: 0.3250, F1 Score: 0.3198\n"
     ]
    },
    {
     "name": "stderr",
     "output_type": "stream",
     "text": [
      "2025/04/07 15:56:23 INFO mlflow.tracking.fluent: Autologging successfully enabled for sklearn.\n",
      "2025/04/07 15:56:23 INFO mlflow.tracking.fluent: Autologging successfully enabled for statsmodels.\n",
      "2025/04/07 15:56:23 WARNING mlflow.spark: With Pyspark >= 3.2, PYSPARK_PIN_THREAD environment variable must be set to false for Spark datasource autologging to work.\n",
      "2025/04/07 15:56:23 INFO mlflow.tracking.fluent: Autologging successfully enabled for pyspark.\n"
     ]
    },
    {
     "name": "stdout",
     "output_type": "stream",
     "text": [
      "Epoch 45/200, Loss: 81.3794, Train Accuracy: 0.8924, Validation Accuracy: 0.3295, F1 Score: 0.3161\n"
     ]
    },
    {
     "name": "stderr",
     "output_type": "stream",
     "text": [
      "2025/04/07 15:56:27 INFO mlflow.tracking.fluent: Autologging successfully enabled for sklearn.\n",
      "2025/04/07 15:56:27 INFO mlflow.tracking.fluent: Autologging successfully enabled for statsmodels.\n",
      "2025/04/07 15:56:27 WARNING mlflow.spark: With Pyspark >= 3.2, PYSPARK_PIN_THREAD environment variable must be set to false for Spark datasource autologging to work.\n",
      "2025/04/07 15:56:27 INFO mlflow.tracking.fluent: Autologging successfully enabled for pyspark.\n"
     ]
    },
    {
     "name": "stdout",
     "output_type": "stream",
     "text": [
      "Epoch 46/200, Loss: 82.1269, Train Accuracy: 0.8770, Validation Accuracy: 0.3159, F1 Score: 0.2966\n"
     ]
    },
    {
     "name": "stderr",
     "output_type": "stream",
     "text": [
      "2025/04/07 15:56:31 INFO mlflow.tracking.fluent: Autologging successfully enabled for sklearn.\n",
      "2025/04/07 15:56:31 INFO mlflow.tracking.fluent: Autologging successfully enabled for statsmodels.\n",
      "2025/04/07 15:56:31 WARNING mlflow.spark: With Pyspark >= 3.2, PYSPARK_PIN_THREAD environment variable must be set to false for Spark datasource autologging to work.\n",
      "2025/04/07 15:56:31 INFO mlflow.tracking.fluent: Autologging successfully enabled for pyspark.\n"
     ]
    },
    {
     "name": "stdout",
     "output_type": "stream",
     "text": [
      "Epoch 47/200, Loss: 81.3829, Train Accuracy: 0.8929, Validation Accuracy: 0.3318, F1 Score: 0.3311\n",
      "Epoch 48/200, Loss: 81.5212, Train Accuracy: 0.8901, Validation Accuracy: 0.3295, F1 Score: 0.3194\n"
     ]
    },
    {
     "name": "stderr",
     "output_type": "stream",
     "text": [
      "2025/04/07 15:56:36 INFO mlflow.tracking.fluent: Autologging successfully enabled for sklearn.\n",
      "2025/04/07 15:56:36 INFO mlflow.tracking.fluent: Autologging successfully enabled for statsmodels.\n",
      "2025/04/07 15:56:36 WARNING mlflow.spark: With Pyspark >= 3.2, PYSPARK_PIN_THREAD environment variable must be set to false for Spark datasource autologging to work.\n",
      "2025/04/07 15:56:36 INFO mlflow.tracking.fluent: Autologging successfully enabled for pyspark.\n",
      "2025/04/07 15:56:40 INFO mlflow.tracking.fluent: Autologging successfully enabled for sklearn.\n",
      "2025/04/07 15:56:40 INFO mlflow.tracking.fluent: Autologging successfully enabled for statsmodels.\n",
      "2025/04/07 15:56:40 WARNING mlflow.spark: With Pyspark >= 3.2, PYSPARK_PIN_THREAD environment variable must be set to false for Spark datasource autologging to work.\n",
      "2025/04/07 15:56:40 INFO mlflow.tracking.fluent: Autologging successfully enabled for pyspark.\n"
     ]
    },
    {
     "name": "stdout",
     "output_type": "stream",
     "text": [
      "Epoch 49/200, Loss: 81.2596, Train Accuracy: 0.8946, Validation Accuracy: 0.3500, F1 Score: 0.3475\n"
     ]
    },
    {
     "name": "stderr",
     "output_type": "stream",
     "text": [
      "2025/04/07 15:56:44 INFO mlflow.tracking.fluent: Autologging successfully enabled for sklearn.\n",
      "2025/04/07 15:56:44 INFO mlflow.tracking.fluent: Autologging successfully enabled for statsmodels.\n",
      "2025/04/07 15:56:44 WARNING mlflow.spark: With Pyspark >= 3.2, PYSPARK_PIN_THREAD environment variable must be set to false for Spark datasource autologging to work.\n",
      "2025/04/07 15:56:44 INFO mlflow.tracking.fluent: Autologging successfully enabled for pyspark.\n"
     ]
    },
    {
     "name": "stdout",
     "output_type": "stream",
     "text": [
      "Epoch 50/200, Loss: 81.5909, Train Accuracy: 0.8890, Validation Accuracy: 0.3091, F1 Score: 0.3019\n"
     ]
    },
    {
     "name": "stderr",
     "output_type": "stream",
     "text": [
      "2025/04/07 15:56:49 INFO mlflow.tracking.fluent: Autologging successfully enabled for sklearn.\n",
      "2025/04/07 15:56:49 INFO mlflow.tracking.fluent: Autologging successfully enabled for statsmodels.\n",
      "2025/04/07 15:56:49 WARNING mlflow.spark: With Pyspark >= 3.2, PYSPARK_PIN_THREAD environment variable must be set to false for Spark datasource autologging to work.\n",
      "2025/04/07 15:56:49 INFO mlflow.tracking.fluent: Autologging successfully enabled for pyspark.\n"
     ]
    },
    {
     "name": "stdout",
     "output_type": "stream",
     "text": [
      "Epoch 51/200, Loss: 81.8122, Train Accuracy: 0.8855, Validation Accuracy: 0.3318, F1 Score: 0.3287\n"
     ]
    },
    {
     "name": "stderr",
     "output_type": "stream",
     "text": [
      "2025/04/07 15:56:53 INFO mlflow.tracking.fluent: Autologging successfully enabled for sklearn.\n",
      "2025/04/07 15:56:53 INFO mlflow.tracking.fluent: Autologging successfully enabled for statsmodels.\n",
      "2025/04/07 15:56:53 WARNING mlflow.spark: With Pyspark >= 3.2, PYSPARK_PIN_THREAD environment variable must be set to false for Spark datasource autologging to work.\n",
      "2025/04/07 15:56:53 INFO mlflow.tracking.fluent: Autologging successfully enabled for pyspark.\n"
     ]
    },
    {
     "name": "stdout",
     "output_type": "stream",
     "text": [
      "Epoch 52/200, Loss: 81.4346, Train Accuracy: 0.8907, Validation Accuracy: 0.2977, F1 Score: 0.3011\n"
     ]
    },
    {
     "name": "stderr",
     "output_type": "stream",
     "text": [
      "2025/04/07 15:56:56 INFO mlflow.tracking.fluent: Autologging successfully enabled for sklearn.\n",
      "2025/04/07 15:56:56 INFO mlflow.tracking.fluent: Autologging successfully enabled for statsmodels.\n",
      "2025/04/07 15:56:56 WARNING mlflow.spark: With Pyspark >= 3.2, PYSPARK_PIN_THREAD environment variable must be set to false for Spark datasource autologging to work.\n",
      "2025/04/07 15:56:56 INFO mlflow.tracking.fluent: Autologging successfully enabled for pyspark.\n"
     ]
    },
    {
     "name": "stdout",
     "output_type": "stream",
     "text": [
      "Epoch 53/200, Loss: 82.2335, Train Accuracy: 0.8770, Validation Accuracy: 0.2886, F1 Score: 0.2868\n"
     ]
    },
    {
     "name": "stderr",
     "output_type": "stream",
     "text": [
      "2025/04/07 15:57:00 INFO mlflow.tracking.fluent: Autologging successfully enabled for sklearn.\n",
      "2025/04/07 15:57:00 INFO mlflow.tracking.fluent: Autologging successfully enabled for statsmodels.\n",
      "2025/04/07 15:57:00 WARNING mlflow.spark: With Pyspark >= 3.2, PYSPARK_PIN_THREAD environment variable must be set to false for Spark datasource autologging to work.\n",
      "2025/04/07 15:57:00 INFO mlflow.tracking.fluent: Autologging successfully enabled for pyspark.\n"
     ]
    },
    {
     "name": "stdout",
     "output_type": "stream",
     "text": [
      "Epoch 54/200, Loss: 82.8269, Train Accuracy: 0.8667, Validation Accuracy: 0.2932, F1 Score: 0.2874\n"
     ]
    },
    {
     "name": "stderr",
     "output_type": "stream",
     "text": [
      "2025/04/07 15:57:05 INFO mlflow.tracking.fluent: Autologging successfully enabled for sklearn.\n",
      "2025/04/07 15:57:05 INFO mlflow.tracking.fluent: Autologging successfully enabled for statsmodels.\n",
      "2025/04/07 15:57:05 WARNING mlflow.spark: With Pyspark >= 3.2, PYSPARK_PIN_THREAD environment variable must be set to false for Spark datasource autologging to work.\n",
      "2025/04/07 15:57:05 INFO mlflow.tracking.fluent: Autologging successfully enabled for pyspark.\n"
     ]
    },
    {
     "name": "stdout",
     "output_type": "stream",
     "text": [
      "Epoch 55/200, Loss: 82.9903, Train Accuracy: 0.8645, Validation Accuracy: 0.3386, F1 Score: 0.3271\n"
     ]
    },
    {
     "name": "stderr",
     "output_type": "stream",
     "text": [
      "2025/04/07 15:57:09 INFO mlflow.tracking.fluent: Autologging successfully enabled for sklearn.\n",
      "2025/04/07 15:57:09 INFO mlflow.tracking.fluent: Autologging successfully enabled for statsmodels.\n",
      "2025/04/07 15:57:09 WARNING mlflow.spark: With Pyspark >= 3.2, PYSPARK_PIN_THREAD environment variable must be set to false for Spark datasource autologging to work.\n",
      "2025/04/07 15:57:09 INFO mlflow.tracking.fluent: Autologging successfully enabled for pyspark.\n"
     ]
    },
    {
     "name": "stdout",
     "output_type": "stream",
     "text": [
      "Epoch 56/200, Loss: 81.8736, Train Accuracy: 0.8844, Validation Accuracy: 0.3023, F1 Score: 0.2920\n",
      "Epoch 57/200, Loss: 81.7657, Train Accuracy: 0.8855, Validation Accuracy: 0.3364, F1 Score: 0.3261\n"
     ]
    },
    {
     "name": "stderr",
     "output_type": "stream",
     "text": [
      "2025/04/07 15:57:14 INFO mlflow.tracking.fluent: Autologging successfully enabled for sklearn.\n",
      "2025/04/07 15:57:14 INFO mlflow.tracking.fluent: Autologging successfully enabled for statsmodels.\n",
      "2025/04/07 15:57:14 WARNING mlflow.spark: With Pyspark >= 3.2, PYSPARK_PIN_THREAD environment variable must be set to false for Spark datasource autologging to work.\n",
      "2025/04/07 15:57:14 INFO mlflow.tracking.fluent: Autologging successfully enabled for pyspark.\n",
      "2025/04/07 15:57:19 INFO mlflow.tracking.fluent: Autologging successfully enabled for sklearn.\n",
      "2025/04/07 15:57:19 INFO mlflow.tracking.fluent: Autologging successfully enabled for statsmodels.\n",
      "2025/04/07 15:57:19 WARNING mlflow.spark: With Pyspark >= 3.2, PYSPARK_PIN_THREAD environment variable must be set to false for Spark datasource autologging to work.\n",
      "2025/04/07 15:57:19 INFO mlflow.tracking.fluent: Autologging successfully enabled for pyspark.\n"
     ]
    },
    {
     "name": "stdout",
     "output_type": "stream",
     "text": [
      "Epoch 58/200, Loss: 82.0147, Train Accuracy: 0.8821, Validation Accuracy: 0.3159, F1 Score: 0.2986\n"
     ]
    },
    {
     "name": "stderr",
     "output_type": "stream",
     "text": [
      "2025/04/07 15:57:22 INFO mlflow.tracking.fluent: Autologging successfully enabled for sklearn.\n",
      "2025/04/07 15:57:22 INFO mlflow.tracking.fluent: Autologging successfully enabled for statsmodels.\n",
      "2025/04/07 15:57:22 WARNING mlflow.spark: With Pyspark >= 3.2, PYSPARK_PIN_THREAD environment variable must be set to false for Spark datasource autologging to work.\n",
      "2025/04/07 15:57:22 INFO mlflow.tracking.fluent: Autologging successfully enabled for pyspark.\n"
     ]
    },
    {
     "name": "stdout",
     "output_type": "stream",
     "text": [
      "Epoch 59/200, Loss: 81.9601, Train Accuracy: 0.8810, Validation Accuracy: 0.3295, F1 Score: 0.3219\n"
     ]
    },
    {
     "name": "stderr",
     "output_type": "stream",
     "text": [
      "2025/04/07 15:57:26 INFO mlflow.tracking.fluent: Autologging successfully enabled for sklearn.\n",
      "2025/04/07 15:57:26 INFO mlflow.tracking.fluent: Autologging successfully enabled for statsmodels.\n",
      "2025/04/07 15:57:26 WARNING mlflow.spark: With Pyspark >= 3.2, PYSPARK_PIN_THREAD environment variable must be set to false for Spark datasource autologging to work.\n",
      "2025/04/07 15:57:26 INFO mlflow.tracking.fluent: Autologging successfully enabled for pyspark.\n"
     ]
    },
    {
     "name": "stdout",
     "output_type": "stream",
     "text": [
      "Epoch 60/200, Loss: 81.6084, Train Accuracy: 0.8884, Validation Accuracy: 0.3341, F1 Score: 0.3256\n"
     ]
    },
    {
     "name": "stderr",
     "output_type": "stream",
     "text": [
      "2025/04/07 15:57:31 INFO mlflow.tracking.fluent: Autologging successfully enabled for sklearn.\n",
      "2025/04/07 15:57:31 INFO mlflow.tracking.fluent: Autologging successfully enabled for statsmodels.\n",
      "2025/04/07 15:57:31 WARNING mlflow.spark: With Pyspark >= 3.2, PYSPARK_PIN_THREAD environment variable must be set to false for Spark datasource autologging to work.\n",
      "2025/04/07 15:57:31 INFO mlflow.tracking.fluent: Autologging successfully enabled for pyspark.\n"
     ]
    },
    {
     "name": "stdout",
     "output_type": "stream",
     "text": [
      "Epoch 61/200, Loss: 81.5593, Train Accuracy: 0.8895, Validation Accuracy: 0.3432, F1 Score: 0.3348\n"
     ]
    },
    {
     "name": "stderr",
     "output_type": "stream",
     "text": [
      "2025/04/07 15:57:35 INFO mlflow.tracking.fluent: Autologging successfully enabled for sklearn.\n",
      "2025/04/07 15:57:35 INFO mlflow.tracking.fluent: Autologging successfully enabled for statsmodels.\n",
      "2025/04/07 15:57:35 WARNING mlflow.spark: With Pyspark >= 3.2, PYSPARK_PIN_THREAD environment variable must be set to false for Spark datasource autologging to work.\n",
      "2025/04/07 15:57:35 INFO mlflow.tracking.fluent: Autologging successfully enabled for pyspark.\n"
     ]
    },
    {
     "name": "stdout",
     "output_type": "stream",
     "text": [
      "Epoch 62/200, Loss: 81.2129, Train Accuracy: 0.8946, Validation Accuracy: 0.3318, F1 Score: 0.3214\n"
     ]
    },
    {
     "name": "stderr",
     "output_type": "stream",
     "text": [
      "2025/04/07 15:57:39 INFO mlflow.tracking.fluent: Autologging successfully enabled for sklearn.\n",
      "2025/04/07 15:57:39 INFO mlflow.tracking.fluent: Autologging successfully enabled for statsmodels.\n",
      "2025/04/07 15:57:39 WARNING mlflow.spark: With Pyspark >= 3.2, PYSPARK_PIN_THREAD environment variable must be set to false for Spark datasource autologging to work.\n",
      "2025/04/07 15:57:39 INFO mlflow.tracking.fluent: Autologging successfully enabled for pyspark.\n"
     ]
    },
    {
     "name": "stdout",
     "output_type": "stream",
     "text": [
      "Epoch 63/200, Loss: 81.1062, Train Accuracy: 0.8964, Validation Accuracy: 0.3273, F1 Score: 0.3156\n"
     ]
    },
    {
     "name": "stderr",
     "output_type": "stream",
     "text": [
      "2025/04/07 15:57:43 INFO mlflow.tracking.fluent: Autologging successfully enabled for sklearn.\n",
      "2025/04/07 15:57:43 INFO mlflow.tracking.fluent: Autologging successfully enabled for statsmodels.\n",
      "2025/04/07 15:57:43 WARNING mlflow.spark: With Pyspark >= 3.2, PYSPARK_PIN_THREAD environment variable must be set to false for Spark datasource autologging to work.\n",
      "2025/04/07 15:57:43 INFO mlflow.tracking.fluent: Autologging successfully enabled for pyspark.\n"
     ]
    },
    {
     "name": "stdout",
     "output_type": "stream",
     "text": [
      "Epoch 64/200, Loss: 80.6479, Train Accuracy: 0.9049, Validation Accuracy: 0.3386, F1 Score: 0.3246\n"
     ]
    },
    {
     "name": "stderr",
     "output_type": "stream",
     "text": [
      "2025/04/07 15:57:48 INFO mlflow.tracking.fluent: Autologging successfully enabled for sklearn.\n",
      "2025/04/07 15:57:48 INFO mlflow.tracking.fluent: Autologging successfully enabled for statsmodels.\n",
      "2025/04/07 15:57:48 WARNING mlflow.spark: With Pyspark >= 3.2, PYSPARK_PIN_THREAD environment variable must be set to false for Spark datasource autologging to work.\n",
      "2025/04/07 15:57:48 INFO mlflow.tracking.fluent: Autologging successfully enabled for pyspark.\n"
     ]
    },
    {
     "name": "stdout",
     "output_type": "stream",
     "text": [
      "Epoch 65/200, Loss: 80.6729, Train Accuracy: 0.9049, Validation Accuracy: 0.3250, F1 Score: 0.3103\n"
     ]
    },
    {
     "name": "stderr",
     "output_type": "stream",
     "text": [
      "2025/04/07 15:57:52 INFO mlflow.tracking.fluent: Autologging successfully enabled for sklearn.\n",
      "2025/04/07 15:57:52 INFO mlflow.tracking.fluent: Autologging successfully enabled for statsmodels.\n",
      "2025/04/07 15:57:52 WARNING mlflow.spark: With Pyspark >= 3.2, PYSPARK_PIN_THREAD environment variable must be set to false for Spark datasource autologging to work.\n",
      "2025/04/07 15:57:52 INFO mlflow.tracking.fluent: Autologging successfully enabled for pyspark.\n"
     ]
    },
    {
     "name": "stdout",
     "output_type": "stream",
     "text": [
      "Epoch 66/200, Loss: 80.9983, Train Accuracy: 0.8981, Validation Accuracy: 0.3591, F1 Score: 0.3536\n",
      "Epoch 67/200, Loss: 81.1373, Train Accuracy: 0.8964, Validation Accuracy: 0.3432, F1 Score: 0.3317\n"
     ]
    },
    {
     "name": "stderr",
     "output_type": "stream",
     "text": [
      "2025/04/07 15:57:56 INFO mlflow.tracking.fluent: Autologging successfully enabled for sklearn.\n",
      "2025/04/07 15:57:56 INFO mlflow.tracking.fluent: Autologging successfully enabled for statsmodels.\n",
      "2025/04/07 15:57:56 WARNING mlflow.spark: With Pyspark >= 3.2, PYSPARK_PIN_THREAD environment variable must be set to false for Spark datasource autologging to work.\n",
      "2025/04/07 15:57:56 INFO mlflow.tracking.fluent: Autologging successfully enabled for pyspark.\n",
      "2025/04/07 15:58:01 INFO mlflow.tracking.fluent: Autologging successfully enabled for sklearn.\n",
      "2025/04/07 15:58:01 INFO mlflow.tracking.fluent: Autologging successfully enabled for statsmodels.\n",
      "2025/04/07 15:58:01 WARNING mlflow.spark: With Pyspark >= 3.2, PYSPARK_PIN_THREAD environment variable must be set to false for Spark datasource autologging to work.\n",
      "2025/04/07 15:58:01 INFO mlflow.tracking.fluent: Autologging successfully enabled for pyspark.\n"
     ]
    },
    {
     "name": "stdout",
     "output_type": "stream",
     "text": [
      "Epoch 68/200, Loss: 80.6160, Train Accuracy: 0.9049, Validation Accuracy: 0.3727, F1 Score: 0.3577\n"
     ]
    },
    {
     "name": "stderr",
     "output_type": "stream",
     "text": [
      "2025/04/07 15:58:05 INFO mlflow.tracking.fluent: Autologging successfully enabled for sklearn.\n",
      "2025/04/07 15:58:05 INFO mlflow.tracking.fluent: Autologging successfully enabled for statsmodels.\n",
      "2025/04/07 15:58:05 WARNING mlflow.spark: With Pyspark >= 3.2, PYSPARK_PIN_THREAD environment variable must be set to false for Spark datasource autologging to work.\n",
      "2025/04/07 15:58:05 INFO mlflow.tracking.fluent: Autologging successfully enabled for pyspark.\n"
     ]
    },
    {
     "name": "stdout",
     "output_type": "stream",
     "text": [
      "Epoch 69/200, Loss: 80.9702, Train Accuracy: 0.8986, Validation Accuracy: 0.3409, F1 Score: 0.3361\n"
     ]
    },
    {
     "name": "stderr",
     "output_type": "stream",
     "text": [
      "2025/04/07 15:58:09 INFO mlflow.tracking.fluent: Autologging successfully enabled for sklearn.\n",
      "2025/04/07 15:58:09 INFO mlflow.tracking.fluent: Autologging successfully enabled for statsmodels.\n",
      "2025/04/07 15:58:09 WARNING mlflow.spark: With Pyspark >= 3.2, PYSPARK_PIN_THREAD environment variable must be set to false for Spark datasource autologging to work.\n",
      "2025/04/07 15:58:09 INFO mlflow.tracking.fluent: Autologging successfully enabled for pyspark.\n"
     ]
    },
    {
     "name": "stdout",
     "output_type": "stream",
     "text": [
      "Epoch 70/200, Loss: 80.8271, Train Accuracy: 0.9032, Validation Accuracy: 0.3318, F1 Score: 0.3234\n"
     ]
    },
    {
     "name": "stderr",
     "output_type": "stream",
     "text": [
      "2025/04/07 15:58:14 INFO mlflow.tracking.fluent: Autologging successfully enabled for sklearn.\n",
      "2025/04/07 15:58:14 INFO mlflow.tracking.fluent: Autologging successfully enabled for statsmodels.\n",
      "2025/04/07 15:58:14 WARNING mlflow.spark: With Pyspark >= 3.2, PYSPARK_PIN_THREAD environment variable must be set to false for Spark datasource autologging to work.\n",
      "2025/04/07 15:58:14 INFO mlflow.tracking.fluent: Autologging successfully enabled for pyspark.\n"
     ]
    },
    {
     "name": "stdout",
     "output_type": "stream",
     "text": [
      "Epoch 71/200, Loss: 80.8042, Train Accuracy: 0.9026, Validation Accuracy: 0.3273, F1 Score: 0.3174\n"
     ]
    },
    {
     "name": "stderr",
     "output_type": "stream",
     "text": [
      "2025/04/07 15:58:18 INFO mlflow.tracking.fluent: Autologging successfully enabled for sklearn.\n",
      "2025/04/07 15:58:18 INFO mlflow.tracking.fluent: Autologging successfully enabled for statsmodels.\n",
      "2025/04/07 15:58:18 WARNING mlflow.spark: With Pyspark >= 3.2, PYSPARK_PIN_THREAD environment variable must be set to false for Spark datasource autologging to work.\n",
      "2025/04/07 15:58:18 INFO mlflow.tracking.fluent: Autologging successfully enabled for pyspark.\n"
     ]
    },
    {
     "name": "stdout",
     "output_type": "stream",
     "text": [
      "Epoch 72/200, Loss: 80.8223, Train Accuracy: 0.9026, Validation Accuracy: 0.3364, F1 Score: 0.3224\n"
     ]
    },
    {
     "name": "stderr",
     "output_type": "stream",
     "text": [
      "2025/04/07 15:58:22 INFO mlflow.tracking.fluent: Autologging successfully enabled for sklearn.\n",
      "2025/04/07 15:58:22 INFO mlflow.tracking.fluent: Autologging successfully enabled for statsmodels.\n",
      "2025/04/07 15:58:22 WARNING mlflow.spark: With Pyspark >= 3.2, PYSPARK_PIN_THREAD environment variable must be set to false for Spark datasource autologging to work.\n",
      "2025/04/07 15:58:22 INFO mlflow.tracking.fluent: Autologging successfully enabled for pyspark.\n"
     ]
    },
    {
     "name": "stdout",
     "output_type": "stream",
     "text": [
      "Epoch 73/200, Loss: 81.2323, Train Accuracy: 0.8946, Validation Accuracy: 0.3500, F1 Score: 0.3455\n"
     ]
    },
    {
     "name": "stderr",
     "output_type": "stream",
     "text": [
      "2025/04/07 15:58:26 INFO mlflow.tracking.fluent: Autologging successfully enabled for sklearn.\n",
      "2025/04/07 15:58:26 INFO mlflow.tracking.fluent: Autologging successfully enabled for statsmodels.\n",
      "2025/04/07 15:58:26 WARNING mlflow.spark: With Pyspark >= 3.2, PYSPARK_PIN_THREAD environment variable must be set to false for Spark datasource autologging to work.\n",
      "2025/04/07 15:58:26 INFO mlflow.tracking.fluent: Autologging successfully enabled for pyspark.\n"
     ]
    },
    {
     "name": "stdout",
     "output_type": "stream",
     "text": [
      "Epoch 74/200, Loss: 80.8470, Train Accuracy: 0.9021, Validation Accuracy: 0.3545, F1 Score: 0.3520\n"
     ]
    },
    {
     "name": "stderr",
     "output_type": "stream",
     "text": [
      "2025/04/07 15:58:30 INFO mlflow.tracking.fluent: Autologging successfully enabled for sklearn.\n",
      "2025/04/07 15:58:30 INFO mlflow.tracking.fluent: Autologging successfully enabled for statsmodels.\n",
      "2025/04/07 15:58:30 WARNING mlflow.spark: With Pyspark >= 3.2, PYSPARK_PIN_THREAD environment variable must be set to false for Spark datasource autologging to work.\n",
      "2025/04/07 15:58:30 INFO mlflow.tracking.fluent: Autologging successfully enabled for pyspark.\n"
     ]
    },
    {
     "name": "stdout",
     "output_type": "stream",
     "text": [
      "Epoch 75/200, Loss: 81.0326, Train Accuracy: 0.8981, Validation Accuracy: 0.3273, F1 Score: 0.3168\n"
     ]
    },
    {
     "name": "stderr",
     "output_type": "stream",
     "text": [
      "2025/04/07 15:58:35 INFO mlflow.tracking.fluent: Autologging successfully enabled for sklearn.\n",
      "2025/04/07 15:58:35 INFO mlflow.tracking.fluent: Autologging successfully enabled for statsmodels.\n",
      "2025/04/07 15:58:35 WARNING mlflow.spark: With Pyspark >= 3.2, PYSPARK_PIN_THREAD environment variable must be set to false for Spark datasource autologging to work.\n",
      "2025/04/07 15:58:35 INFO mlflow.tracking.fluent: Autologging successfully enabled for pyspark.\n"
     ]
    },
    {
     "name": "stdout",
     "output_type": "stream",
     "text": [
      "Epoch 76/200, Loss: 81.2474, Train Accuracy: 0.8935, Validation Accuracy: 0.3023, F1 Score: 0.3072\n",
      "Epoch 77/200, Loss: 81.6548, Train Accuracy: 0.8872, Validation Accuracy: 0.3523, F1 Score: 0.3413\n"
     ]
    },
    {
     "name": "stderr",
     "output_type": "stream",
     "text": [
      "2025/04/07 15:58:40 INFO mlflow.tracking.fluent: Autologging successfully enabled for sklearn.\n",
      "2025/04/07 15:58:40 INFO mlflow.tracking.fluent: Autologging successfully enabled for statsmodels.\n",
      "2025/04/07 15:58:40 WARNING mlflow.spark: With Pyspark >= 3.2, PYSPARK_PIN_THREAD environment variable must be set to false for Spark datasource autologging to work.\n",
      "2025/04/07 15:58:40 INFO mlflow.tracking.fluent: Autologging successfully enabled for pyspark.\n",
      "2025/04/07 15:58:44 INFO mlflow.tracking.fluent: Autologging successfully enabled for sklearn.\n",
      "2025/04/07 15:58:44 INFO mlflow.tracking.fluent: Autologging successfully enabled for statsmodels.\n",
      "2025/04/07 15:58:44 WARNING mlflow.spark: With Pyspark >= 3.2, PYSPARK_PIN_THREAD environment variable must be set to false for Spark datasource autologging to work.\n",
      "2025/04/07 15:58:44 INFO mlflow.tracking.fluent: Autologging successfully enabled for pyspark.\n"
     ]
    },
    {
     "name": "stdout",
     "output_type": "stream",
     "text": [
      "Epoch 78/200, Loss: 81.4107, Train Accuracy: 0.8901, Validation Accuracy: 0.3227, F1 Score: 0.3204\n"
     ]
    },
    {
     "name": "stderr",
     "output_type": "stream",
     "text": [
      "2025/04/07 15:58:48 INFO mlflow.tracking.fluent: Autologging successfully enabled for sklearn.\n",
      "2025/04/07 15:58:48 INFO mlflow.tracking.fluent: Autologging successfully enabled for statsmodels.\n",
      "2025/04/07 15:58:48 WARNING mlflow.spark: With Pyspark >= 3.2, PYSPARK_PIN_THREAD environment variable must be set to false for Spark datasource autologging to work.\n",
      "2025/04/07 15:58:48 INFO mlflow.tracking.fluent: Autologging successfully enabled for pyspark.\n"
     ]
    },
    {
     "name": "stdout",
     "output_type": "stream",
     "text": [
      "Epoch 79/200, Loss: 81.9846, Train Accuracy: 0.8810, Validation Accuracy: 0.3000, F1 Score: 0.2977\n"
     ]
    },
    {
     "name": "stderr",
     "output_type": "stream",
     "text": [
      "2025/04/07 15:58:52 INFO mlflow.tracking.fluent: Autologging successfully enabled for sklearn.\n",
      "2025/04/07 15:58:52 INFO mlflow.tracking.fluent: Autologging successfully enabled for statsmodels.\n",
      "2025/04/07 15:58:52 WARNING mlflow.spark: With Pyspark >= 3.2, PYSPARK_PIN_THREAD environment variable must be set to false for Spark datasource autologging to work.\n",
      "2025/04/07 15:58:52 INFO mlflow.tracking.fluent: Autologging successfully enabled for pyspark.\n"
     ]
    },
    {
     "name": "stdout",
     "output_type": "stream",
     "text": [
      "Epoch 80/200, Loss: 81.7041, Train Accuracy: 0.8861, Validation Accuracy: 0.2841, F1 Score: 0.2845\n"
     ]
    },
    {
     "name": "stderr",
     "output_type": "stream",
     "text": [
      "2025/04/07 15:58:56 INFO mlflow.tracking.fluent: Autologging successfully enabled for sklearn.\n",
      "2025/04/07 15:58:56 INFO mlflow.tracking.fluent: Autologging successfully enabled for statsmodels.\n",
      "2025/04/07 15:58:56 WARNING mlflow.spark: With Pyspark >= 3.2, PYSPARK_PIN_THREAD environment variable must be set to false for Spark datasource autologging to work.\n",
      "2025/04/07 15:58:56 INFO mlflow.tracking.fluent: Autologging successfully enabled for pyspark.\n"
     ]
    },
    {
     "name": "stdout",
     "output_type": "stream",
     "text": [
      "Epoch 81/200, Loss: 81.6680, Train Accuracy: 0.8855, Validation Accuracy: 0.3000, F1 Score: 0.3040\n"
     ]
    },
    {
     "name": "stderr",
     "output_type": "stream",
     "text": [
      "2025/04/07 15:59:00 INFO mlflow.tracking.fluent: Autologging successfully enabled for sklearn.\n",
      "2025/04/07 15:59:00 INFO mlflow.tracking.fluent: Autologging successfully enabled for statsmodels.\n",
      "2025/04/07 15:59:00 WARNING mlflow.spark: With Pyspark >= 3.2, PYSPARK_PIN_THREAD environment variable must be set to false for Spark datasource autologging to work.\n",
      "2025/04/07 15:59:00 INFO mlflow.tracking.fluent: Autologging successfully enabled for pyspark.\n"
     ]
    },
    {
     "name": "stdout",
     "output_type": "stream",
     "text": [
      "Epoch 82/200, Loss: 81.0977, Train Accuracy: 0.8981, Validation Accuracy: 0.3159, F1 Score: 0.2984\n"
     ]
    },
    {
     "name": "stderr",
     "output_type": "stream",
     "text": [
      "2025/04/07 15:59:05 INFO mlflow.tracking.fluent: Autologging successfully enabled for sklearn.\n",
      "2025/04/07 15:59:05 INFO mlflow.tracking.fluent: Autologging successfully enabled for statsmodels.\n",
      "2025/04/07 15:59:05 WARNING mlflow.spark: With Pyspark >= 3.2, PYSPARK_PIN_THREAD environment variable must be set to false for Spark datasource autologging to work.\n",
      "2025/04/07 15:59:05 INFO mlflow.tracking.fluent: Autologging successfully enabled for pyspark.\n"
     ]
    },
    {
     "name": "stdout",
     "output_type": "stream",
     "text": [
      "Epoch 83/200, Loss: 82.1436, Train Accuracy: 0.8781, Validation Accuracy: 0.3045, F1 Score: 0.2906\n"
     ]
    },
    {
     "name": "stderr",
     "output_type": "stream",
     "text": [
      "2025/04/07 15:59:09 INFO mlflow.tracking.fluent: Autologging successfully enabled for sklearn.\n",
      "2025/04/07 15:59:09 INFO mlflow.tracking.fluent: Autologging successfully enabled for statsmodels.\n",
      "2025/04/07 15:59:09 WARNING mlflow.spark: With Pyspark >= 3.2, PYSPARK_PIN_THREAD environment variable must be set to false for Spark datasource autologging to work.\n",
      "2025/04/07 15:59:09 INFO mlflow.tracking.fluent: Autologging successfully enabled for pyspark.\n"
     ]
    },
    {
     "name": "stdout",
     "output_type": "stream",
     "text": [
      "Epoch 84/200, Loss: 82.3827, Train Accuracy: 0.8741, Validation Accuracy: 0.3068, F1 Score: 0.2927\n"
     ]
    },
    {
     "name": "stderr",
     "output_type": "stream",
     "text": [
      "2025/04/07 15:59:13 INFO mlflow.tracking.fluent: Autologging successfully enabled for sklearn.\n",
      "2025/04/07 15:59:13 INFO mlflow.tracking.fluent: Autologging successfully enabled for statsmodels.\n",
      "2025/04/07 15:59:13 WARNING mlflow.spark: With Pyspark >= 3.2, PYSPARK_PIN_THREAD environment variable must be set to false for Spark datasource autologging to work.\n",
      "2025/04/07 15:59:13 INFO mlflow.tracking.fluent: Autologging successfully enabled for pyspark.\n"
     ]
    },
    {
     "name": "stdout",
     "output_type": "stream",
     "text": [
      "Epoch 85/200, Loss: 81.9775, Train Accuracy: 0.8815, Validation Accuracy: 0.3091, F1 Score: 0.3136\n",
      "Epoch 86/200, Loss: 81.8916, Train Accuracy: 0.8815, Validation Accuracy: 0.3432, F1 Score: 0.3322\n"
     ]
    },
    {
     "name": "stderr",
     "output_type": "stream",
     "text": [
      "2025/04/07 15:59:18 INFO mlflow.tracking.fluent: Autologging successfully enabled for sklearn.\n",
      "2025/04/07 15:59:18 INFO mlflow.tracking.fluent: Autologging successfully enabled for statsmodels.\n",
      "2025/04/07 15:59:18 WARNING mlflow.spark: With Pyspark >= 3.2, PYSPARK_PIN_THREAD environment variable must be set to false for Spark datasource autologging to work.\n",
      "2025/04/07 15:59:18 INFO mlflow.tracking.fluent: Autologging successfully enabled for pyspark.\n",
      "2025/04/07 15:59:22 INFO mlflow.tracking.fluent: Autologging successfully enabled for sklearn.\n",
      "2025/04/07 15:59:22 INFO mlflow.tracking.fluent: Autologging successfully enabled for statsmodels.\n",
      "2025/04/07 15:59:22 WARNING mlflow.spark: With Pyspark >= 3.2, PYSPARK_PIN_THREAD environment variable must be set to false for Spark datasource autologging to work.\n",
      "2025/04/07 15:59:22 INFO mlflow.tracking.fluent: Autologging successfully enabled for pyspark.\n"
     ]
    },
    {
     "name": "stdout",
     "output_type": "stream",
     "text": [
      "Epoch 87/200, Loss: 83.0598, Train Accuracy: 0.8616, Validation Accuracy: 0.3159, F1 Score: 0.2940\n"
     ]
    },
    {
     "name": "stderr",
     "output_type": "stream",
     "text": [
      "2025/04/07 15:59:27 INFO mlflow.tracking.fluent: Autologging successfully enabled for sklearn.\n",
      "2025/04/07 15:59:27 INFO mlflow.tracking.fluent: Autologging successfully enabled for statsmodels.\n",
      "2025/04/07 15:59:27 WARNING mlflow.spark: With Pyspark >= 3.2, PYSPARK_PIN_THREAD environment variable must be set to false for Spark datasource autologging to work.\n",
      "2025/04/07 15:59:27 INFO mlflow.tracking.fluent: Autologging successfully enabled for pyspark.\n"
     ]
    },
    {
     "name": "stdout",
     "output_type": "stream",
     "text": [
      "Epoch 88/200, Loss: 82.0660, Train Accuracy: 0.8815, Validation Accuracy: 0.3227, F1 Score: 0.3020\n"
     ]
    },
    {
     "name": "stderr",
     "output_type": "stream",
     "text": [
      "2025/04/07 15:59:31 INFO mlflow.tracking.fluent: Autologging successfully enabled for sklearn.\n",
      "2025/04/07 15:59:31 INFO mlflow.tracking.fluent: Autologging successfully enabled for statsmodels.\n",
      "2025/04/07 15:59:31 WARNING mlflow.spark: With Pyspark >= 3.2, PYSPARK_PIN_THREAD environment variable must be set to false for Spark datasource autologging to work.\n",
      "2025/04/07 15:59:31 INFO mlflow.tracking.fluent: Autologging successfully enabled for pyspark.\n"
     ]
    },
    {
     "name": "stdout",
     "output_type": "stream",
     "text": [
      "Epoch 89/200, Loss: 80.9069, Train Accuracy: 0.9015, Validation Accuracy: 0.3318, F1 Score: 0.3154\n"
     ]
    },
    {
     "name": "stderr",
     "output_type": "stream",
     "text": [
      "2025/04/07 15:59:35 INFO mlflow.tracking.fluent: Autologging successfully enabled for sklearn.\n",
      "2025/04/07 15:59:35 INFO mlflow.tracking.fluent: Autologging successfully enabled for statsmodels.\n",
      "2025/04/07 15:59:35 WARNING mlflow.spark: With Pyspark >= 3.2, PYSPARK_PIN_THREAD environment variable must be set to false for Spark datasource autologging to work.\n",
      "2025/04/07 15:59:35 INFO mlflow.tracking.fluent: Autologging successfully enabled for pyspark.\n"
     ]
    },
    {
     "name": "stdout",
     "output_type": "stream",
     "text": [
      "Epoch 90/200, Loss: 81.2163, Train Accuracy: 0.8946, Validation Accuracy: 0.3273, F1 Score: 0.3236\n"
     ]
    },
    {
     "name": "stderr",
     "output_type": "stream",
     "text": [
      "2025/04/07 15:59:39 INFO mlflow.tracking.fluent: Autologging successfully enabled for sklearn.\n",
      "2025/04/07 15:59:39 INFO mlflow.tracking.fluent: Autologging successfully enabled for statsmodels.\n",
      "2025/04/07 15:59:39 WARNING mlflow.spark: With Pyspark >= 3.2, PYSPARK_PIN_THREAD environment variable must be set to false for Spark datasource autologging to work.\n",
      "2025/04/07 15:59:39 INFO mlflow.tracking.fluent: Autologging successfully enabled for pyspark.\n"
     ]
    },
    {
     "name": "stdout",
     "output_type": "stream",
     "text": [
      "Epoch 91/200, Loss: 80.6693, Train Accuracy: 0.9043, Validation Accuracy: 0.3318, F1 Score: 0.3076\n"
     ]
    },
    {
     "name": "stderr",
     "output_type": "stream",
     "text": [
      "2025/04/07 15:59:43 INFO mlflow.tracking.fluent: Autologging successfully enabled for sklearn.\n",
      "2025/04/07 15:59:43 INFO mlflow.tracking.fluent: Autologging successfully enabled for statsmodels.\n",
      "2025/04/07 15:59:43 WARNING mlflow.spark: With Pyspark >= 3.2, PYSPARK_PIN_THREAD environment variable must be set to false for Spark datasource autologging to work.\n",
      "2025/04/07 15:59:43 INFO mlflow.tracking.fluent: Autologging successfully enabled for pyspark.\n"
     ]
    },
    {
     "name": "stdout",
     "output_type": "stream",
     "text": [
      "Epoch 92/200, Loss: 80.9462, Train Accuracy: 0.8992, Validation Accuracy: 0.3250, F1 Score: 0.3199\n"
     ]
    },
    {
     "name": "stderr",
     "output_type": "stream",
     "text": [
      "2025/04/07 15:59:48 INFO mlflow.tracking.fluent: Autologging successfully enabled for sklearn.\n",
      "2025/04/07 15:59:48 INFO mlflow.tracking.fluent: Autologging successfully enabled for statsmodels.\n",
      "2025/04/07 15:59:48 WARNING mlflow.spark: With Pyspark >= 3.2, PYSPARK_PIN_THREAD environment variable must be set to false for Spark datasource autologging to work.\n",
      "2025/04/07 15:59:48 INFO mlflow.tracking.fluent: Autologging successfully enabled for pyspark.\n"
     ]
    },
    {
     "name": "stdout",
     "output_type": "stream",
     "text": [
      "Epoch 93/200, Loss: 81.1543, Train Accuracy: 0.8952, Validation Accuracy: 0.3341, F1 Score: 0.3279\n"
     ]
    },
    {
     "name": "stderr",
     "output_type": "stream",
     "text": [
      "2025/04/07 15:59:52 INFO mlflow.tracking.fluent: Autologging successfully enabled for sklearn.\n",
      "2025/04/07 15:59:52 INFO mlflow.tracking.fluent: Autologging successfully enabled for statsmodels.\n",
      "2025/04/07 15:59:52 WARNING mlflow.spark: With Pyspark >= 3.2, PYSPARK_PIN_THREAD environment variable must be set to false for Spark datasource autologging to work.\n",
      "2025/04/07 15:59:52 INFO mlflow.tracking.fluent: Autologging successfully enabled for pyspark.\n"
     ]
    },
    {
     "name": "stdout",
     "output_type": "stream",
     "text": [
      "Epoch 94/200, Loss: 81.3881, Train Accuracy: 0.8924, Validation Accuracy: 0.3295, F1 Score: 0.3250\n"
     ]
    },
    {
     "name": "stderr",
     "output_type": "stream",
     "text": [
      "2025/04/07 15:59:56 INFO mlflow.tracking.fluent: Autologging successfully enabled for sklearn.\n",
      "2025/04/07 15:59:56 INFO mlflow.tracking.fluent: Autologging successfully enabled for statsmodels.\n",
      "2025/04/07 15:59:56 WARNING mlflow.spark: With Pyspark >= 3.2, PYSPARK_PIN_THREAD environment variable must be set to false for Spark datasource autologging to work.\n",
      "2025/04/07 15:59:56 INFO mlflow.tracking.fluent: Autologging successfully enabled for pyspark.\n"
     ]
    },
    {
     "name": "stdout",
     "output_type": "stream",
     "text": [
      "Epoch 95/200, Loss: 80.5417, Train Accuracy: 0.9072, Validation Accuracy: 0.3091, F1 Score: 0.3010\n",
      "Epoch 96/200, Loss: 81.5553, Train Accuracy: 0.8872, Validation Accuracy: 0.3114, F1 Score: 0.2991\n"
     ]
    },
    {
     "name": "stderr",
     "output_type": "stream",
     "text": [
      "2025/04/07 16:00:02 INFO mlflow.tracking.fluent: Autologging successfully enabled for sklearn.\n",
      "2025/04/07 16:00:02 INFO mlflow.tracking.fluent: Autologging successfully enabled for statsmodels.\n",
      "2025/04/07 16:00:02 WARNING mlflow.spark: With Pyspark >= 3.2, PYSPARK_PIN_THREAD environment variable must be set to false for Spark datasource autologging to work.\n",
      "2025/04/07 16:00:02 INFO mlflow.tracking.fluent: Autologging successfully enabled for pyspark.\n",
      "2025/04/07 16:00:06 INFO mlflow.tracking.fluent: Autologging successfully enabled for sklearn.\n",
      "2025/04/07 16:00:06 INFO mlflow.tracking.fluent: Autologging successfully enabled for statsmodels.\n",
      "2025/04/07 16:00:06 WARNING mlflow.spark: With Pyspark >= 3.2, PYSPARK_PIN_THREAD environment variable must be set to false for Spark datasource autologging to work.\n",
      "2025/04/07 16:00:06 INFO mlflow.tracking.fluent: Autologging successfully enabled for pyspark.\n"
     ]
    },
    {
     "name": "stdout",
     "output_type": "stream",
     "text": [
      "Epoch 97/200, Loss: 81.3082, Train Accuracy: 0.8929, Validation Accuracy: 0.3250, F1 Score: 0.3137\n"
     ]
    },
    {
     "name": "stderr",
     "output_type": "stream",
     "text": [
      "2025/04/07 16:00:10 INFO mlflow.tracking.fluent: Autologging successfully enabled for sklearn.\n",
      "2025/04/07 16:00:10 INFO mlflow.tracking.fluent: Autologging successfully enabled for statsmodels.\n",
      "2025/04/07 16:00:10 WARNING mlflow.spark: With Pyspark >= 3.2, PYSPARK_PIN_THREAD environment variable must be set to false for Spark datasource autologging to work.\n",
      "2025/04/07 16:00:10 INFO mlflow.tracking.fluent: Autologging successfully enabled for pyspark.\n"
     ]
    },
    {
     "name": "stdout",
     "output_type": "stream",
     "text": [
      "Epoch 98/200, Loss: 81.4333, Train Accuracy: 0.8918, Validation Accuracy: 0.3295, F1 Score: 0.3289\n"
     ]
    },
    {
     "name": "stderr",
     "output_type": "stream",
     "text": [
      "2025/04/07 16:00:15 INFO mlflow.tracking.fluent: Autologging successfully enabled for sklearn.\n",
      "2025/04/07 16:00:15 INFO mlflow.tracking.fluent: Autologging successfully enabled for statsmodels.\n",
      "2025/04/07 16:00:15 WARNING mlflow.spark: With Pyspark >= 3.2, PYSPARK_PIN_THREAD environment variable must be set to false for Spark datasource autologging to work.\n",
      "2025/04/07 16:00:15 INFO mlflow.tracking.fluent: Autologging successfully enabled for pyspark.\n"
     ]
    },
    {
     "name": "stdout",
     "output_type": "stream",
     "text": [
      "Epoch 99/200, Loss: 80.7855, Train Accuracy: 0.9021, Validation Accuracy: 0.3500, F1 Score: 0.3389\n"
     ]
    },
    {
     "name": "stderr",
     "output_type": "stream",
     "text": [
      "2025/04/07 16:00:19 INFO mlflow.tracking.fluent: Autologging successfully enabled for sklearn.\n",
      "2025/04/07 16:00:19 INFO mlflow.tracking.fluent: Autologging successfully enabled for statsmodels.\n",
      "2025/04/07 16:00:19 WARNING mlflow.spark: With Pyspark >= 3.2, PYSPARK_PIN_THREAD environment variable must be set to false for Spark datasource autologging to work.\n",
      "2025/04/07 16:00:19 INFO mlflow.tracking.fluent: Autologging successfully enabled for pyspark.\n"
     ]
    },
    {
     "name": "stdout",
     "output_type": "stream",
     "text": [
      "Epoch 100/200, Loss: 80.6508, Train Accuracy: 0.9043, Validation Accuracy: 0.3364, F1 Score: 0.3264\n"
     ]
    },
    {
     "name": "stderr",
     "output_type": "stream",
     "text": [
      "2025/04/07 16:00:24 INFO mlflow.tracking.fluent: Autologging successfully enabled for sklearn.\n",
      "2025/04/07 16:00:24 INFO mlflow.tracking.fluent: Autologging successfully enabled for statsmodels.\n",
      "2025/04/07 16:00:24 WARNING mlflow.spark: With Pyspark >= 3.2, PYSPARK_PIN_THREAD environment variable must be set to false for Spark datasource autologging to work.\n",
      "2025/04/07 16:00:24 INFO mlflow.tracking.fluent: Autologging successfully enabled for pyspark.\n"
     ]
    },
    {
     "name": "stdout",
     "output_type": "stream",
     "text": [
      "Epoch 101/200, Loss: 80.4752, Train Accuracy: 0.9089, Validation Accuracy: 0.3409, F1 Score: 0.3329\n"
     ]
    },
    {
     "name": "stderr",
     "output_type": "stream",
     "text": [
      "2025/04/07 16:00:29 INFO mlflow.tracking.fluent: Autologging successfully enabled for sklearn.\n",
      "2025/04/07 16:00:29 INFO mlflow.tracking.fluent: Autologging successfully enabled for statsmodels.\n",
      "2025/04/07 16:00:29 WARNING mlflow.spark: With Pyspark >= 3.2, PYSPARK_PIN_THREAD environment variable must be set to false for Spark datasource autologging to work.\n",
      "2025/04/07 16:00:29 INFO mlflow.tracking.fluent: Autologging successfully enabled for pyspark.\n"
     ]
    },
    {
     "name": "stdout",
     "output_type": "stream",
     "text": [
      "Epoch 102/200, Loss: 80.3337, Train Accuracy: 0.9112, Validation Accuracy: 0.3227, F1 Score: 0.3214\n"
     ]
    },
    {
     "name": "stderr",
     "output_type": "stream",
     "text": [
      "2025/04/07 16:00:33 INFO mlflow.tracking.fluent: Autologging successfully enabled for sklearn.\n",
      "2025/04/07 16:00:33 INFO mlflow.tracking.fluent: Autologging successfully enabled for statsmodels.\n",
      "2025/04/07 16:00:33 WARNING mlflow.spark: With Pyspark >= 3.2, PYSPARK_PIN_THREAD environment variable must be set to false for Spark datasource autologging to work.\n",
      "2025/04/07 16:00:33 INFO mlflow.tracking.fluent: Autologging successfully enabled for pyspark.\n"
     ]
    },
    {
     "name": "stdout",
     "output_type": "stream",
     "text": [
      "Epoch 103/200, Loss: 80.4763, Train Accuracy: 0.9083, Validation Accuracy: 0.3409, F1 Score: 0.3300\n"
     ]
    },
    {
     "name": "stderr",
     "output_type": "stream",
     "text": [
      "2025/04/07 16:00:38 INFO mlflow.tracking.fluent: Autologging successfully enabled for sklearn.\n",
      "2025/04/07 16:00:38 INFO mlflow.tracking.fluent: Autologging successfully enabled for statsmodels.\n",
      "2025/04/07 16:00:38 WARNING mlflow.spark: With Pyspark >= 3.2, PYSPARK_PIN_THREAD environment variable must be set to false for Spark datasource autologging to work.\n",
      "2025/04/07 16:00:38 INFO mlflow.tracking.fluent: Autologging successfully enabled for pyspark.\n"
     ]
    },
    {
     "name": "stdout",
     "output_type": "stream",
     "text": [
      "Epoch 104/200, Loss: 80.3714, Train Accuracy: 0.9100, Validation Accuracy: 0.3295, F1 Score: 0.3198\n"
     ]
    },
    {
     "name": "stderr",
     "output_type": "stream",
     "text": [
      "2025/04/07 16:00:43 INFO mlflow.tracking.fluent: Autologging successfully enabled for sklearn.\n",
      "2025/04/07 16:00:43 INFO mlflow.tracking.fluent: Autologging successfully enabled for statsmodels.\n",
      "2025/04/07 16:00:43 WARNING mlflow.spark: With Pyspark >= 3.2, PYSPARK_PIN_THREAD environment variable must be set to false for Spark datasource autologging to work.\n",
      "2025/04/07 16:00:43 INFO mlflow.tracking.fluent: Autologging successfully enabled for pyspark.\n"
     ]
    },
    {
     "name": "stdout",
     "output_type": "stream",
     "text": [
      "Epoch 105/200, Loss: 79.9033, Train Accuracy: 0.9191, Validation Accuracy: 0.3386, F1 Score: 0.3279\n"
     ]
    },
    {
     "name": "stderr",
     "output_type": "stream",
     "text": [
      "2025/04/07 16:00:48 INFO mlflow.tracking.fluent: Autologging successfully enabled for sklearn.\n",
      "2025/04/07 16:00:48 INFO mlflow.tracking.fluent: Autologging successfully enabled for statsmodels.\n",
      "2025/04/07 16:00:48 WARNING mlflow.spark: With Pyspark >= 3.2, PYSPARK_PIN_THREAD environment variable must be set to false for Spark datasource autologging to work.\n",
      "2025/04/07 16:00:48 INFO mlflow.tracking.fluent: Autologging successfully enabled for pyspark.\n"
     ]
    },
    {
     "name": "stdout",
     "output_type": "stream",
     "text": [
      "Epoch 106/200, Loss: 80.0212, Train Accuracy: 0.9163, Validation Accuracy: 0.3364, F1 Score: 0.3199\n"
     ]
    },
    {
     "name": "stderr",
     "output_type": "stream",
     "text": [
      "2025/04/07 16:00:52 INFO mlflow.tracking.fluent: Autologging successfully enabled for sklearn.\n",
      "2025/04/07 16:00:52 INFO mlflow.tracking.fluent: Autologging successfully enabled for statsmodels.\n",
      "2025/04/07 16:00:52 WARNING mlflow.spark: With Pyspark >= 3.2, PYSPARK_PIN_THREAD environment variable must be set to false for Spark datasource autologging to work.\n",
      "2025/04/07 16:00:52 INFO mlflow.tracking.fluent: Autologging successfully enabled for pyspark.\n"
     ]
    },
    {
     "name": "stdout",
     "output_type": "stream",
     "text": [
      "Epoch 107/200, Loss: 79.9747, Train Accuracy: 0.9174, Validation Accuracy: 0.3341, F1 Score: 0.3241\n"
     ]
    },
    {
     "name": "stderr",
     "output_type": "stream",
     "text": [
      "2025/04/07 16:00:57 INFO mlflow.tracking.fluent: Autologging successfully enabled for sklearn.\n",
      "2025/04/07 16:00:57 INFO mlflow.tracking.fluent: Autologging successfully enabled for statsmodels.\n",
      "2025/04/07 16:00:57 WARNING mlflow.spark: With Pyspark >= 3.2, PYSPARK_PIN_THREAD environment variable must be set to false for Spark datasource autologging to work.\n",
      "2025/04/07 16:00:57 INFO mlflow.tracking.fluent: Autologging successfully enabled for pyspark.\n"
     ]
    },
    {
     "name": "stdout",
     "output_type": "stream",
     "text": [
      "Epoch 108/200, Loss: 80.0178, Train Accuracy: 0.9169, Validation Accuracy: 0.3227, F1 Score: 0.3117\n"
     ]
    },
    {
     "name": "stderr",
     "output_type": "stream",
     "text": [
      "2025/04/07 16:01:01 INFO mlflow.tracking.fluent: Autologging successfully enabled for sklearn.\n",
      "2025/04/07 16:01:01 INFO mlflow.tracking.fluent: Autologging successfully enabled for statsmodels.\n",
      "2025/04/07 16:01:01 WARNING mlflow.spark: With Pyspark >= 3.2, PYSPARK_PIN_THREAD environment variable must be set to false for Spark datasource autologging to work.\n",
      "2025/04/07 16:01:01 INFO mlflow.tracking.fluent: Autologging successfully enabled for pyspark.\n"
     ]
    },
    {
     "name": "stdout",
     "output_type": "stream",
     "text": [
      "Epoch 109/200, Loss: 80.2191, Train Accuracy: 0.9129, Validation Accuracy: 0.3386, F1 Score: 0.3266\n"
     ]
    },
    {
     "name": "stderr",
     "output_type": "stream",
     "text": [
      "2025/04/07 16:01:06 INFO mlflow.tracking.fluent: Autologging successfully enabled for sklearn.\n",
      "2025/04/07 16:01:06 INFO mlflow.tracking.fluent: Autologging successfully enabled for statsmodels.\n",
      "2025/04/07 16:01:06 WARNING mlflow.spark: With Pyspark >= 3.2, PYSPARK_PIN_THREAD environment variable must be set to false for Spark datasource autologging to work.\n",
      "2025/04/07 16:01:06 INFO mlflow.tracking.fluent: Autologging successfully enabled for pyspark.\n"
     ]
    },
    {
     "name": "stdout",
     "output_type": "stream",
     "text": [
      "Epoch 110/200, Loss: 80.3157, Train Accuracy: 0.9112, Validation Accuracy: 0.3386, F1 Score: 0.3323\n"
     ]
    },
    {
     "name": "stderr",
     "output_type": "stream",
     "text": [
      "2025/04/07 16:01:11 INFO mlflow.tracking.fluent: Autologging successfully enabled for sklearn.\n",
      "2025/04/07 16:01:12 INFO mlflow.tracking.fluent: Autologging successfully enabled for statsmodels.\n",
      "2025/04/07 16:01:12 WARNING mlflow.spark: With Pyspark >= 3.2, PYSPARK_PIN_THREAD environment variable must be set to false for Spark datasource autologging to work.\n",
      "2025/04/07 16:01:12 INFO mlflow.tracking.fluent: Autologging successfully enabled for pyspark.\n"
     ]
    },
    {
     "name": "stdout",
     "output_type": "stream",
     "text": [
      "Epoch 111/200, Loss: 79.9391, Train Accuracy: 0.9186, Validation Accuracy: 0.3409, F1 Score: 0.3356\n"
     ]
    },
    {
     "name": "stderr",
     "output_type": "stream",
     "text": [
      "2025/04/07 16:01:16 INFO mlflow.tracking.fluent: Autologging successfully enabled for sklearn.\n",
      "2025/04/07 16:01:16 INFO mlflow.tracking.fluent: Autologging successfully enabled for statsmodels.\n",
      "2025/04/07 16:01:16 WARNING mlflow.spark: With Pyspark >= 3.2, PYSPARK_PIN_THREAD environment variable must be set to false for Spark datasource autologging to work.\n",
      "2025/04/07 16:01:16 INFO mlflow.tracking.fluent: Autologging successfully enabled for pyspark.\n"
     ]
    },
    {
     "name": "stdout",
     "output_type": "stream",
     "text": [
      "Epoch 112/200, Loss: 80.5161, Train Accuracy: 0.9077, Validation Accuracy: 0.3045, F1 Score: 0.2953\n"
     ]
    },
    {
     "name": "stderr",
     "output_type": "stream",
     "text": [
      "2025/04/07 16:01:20 INFO mlflow.tracking.fluent: Autologging successfully enabled for sklearn.\n",
      "2025/04/07 16:01:20 INFO mlflow.tracking.fluent: Autologging successfully enabled for statsmodels.\n",
      "2025/04/07 16:01:20 WARNING mlflow.spark: With Pyspark >= 3.2, PYSPARK_PIN_THREAD environment variable must be set to false for Spark datasource autologging to work.\n",
      "2025/04/07 16:01:20 INFO mlflow.tracking.fluent: Autologging successfully enabled for pyspark.\n"
     ]
    },
    {
     "name": "stdout",
     "output_type": "stream",
     "text": [
      "Epoch 113/200, Loss: 81.2972, Train Accuracy: 0.8941, Validation Accuracy: 0.3409, F1 Score: 0.3198\n"
     ]
    },
    {
     "name": "stderr",
     "output_type": "stream",
     "text": [
      "2025/04/07 16:01:25 INFO mlflow.tracking.fluent: Autologging successfully enabled for sklearn.\n",
      "2025/04/07 16:01:25 INFO mlflow.tracking.fluent: Autologging successfully enabled for statsmodels.\n",
      "2025/04/07 16:01:25 WARNING mlflow.spark: With Pyspark >= 3.2, PYSPARK_PIN_THREAD environment variable must be set to false for Spark datasource autologging to work.\n",
      "2025/04/07 16:01:25 INFO mlflow.tracking.fluent: Autologging successfully enabled for pyspark.\n"
     ]
    },
    {
     "name": "stdout",
     "output_type": "stream",
     "text": [
      "Epoch 114/200, Loss: 81.1540, Train Accuracy: 0.8964, Validation Accuracy: 0.3159, F1 Score: 0.2959\n",
      "Epoch 115/200, Loss: 82.2561, Train Accuracy: 0.8753, Validation Accuracy: 0.3136, F1 Score: 0.2976\n"
     ]
    },
    {
     "name": "stderr",
     "output_type": "stream",
     "text": [
      "2025/04/07 16:01:30 INFO mlflow.tracking.fluent: Autologging successfully enabled for sklearn.\n",
      "2025/04/07 16:01:30 INFO mlflow.tracking.fluent: Autologging successfully enabled for statsmodels.\n",
      "2025/04/07 16:01:30 WARNING mlflow.spark: With Pyspark >= 3.2, PYSPARK_PIN_THREAD environment variable must be set to false for Spark datasource autologging to work.\n",
      "2025/04/07 16:01:30 INFO mlflow.tracking.fluent: Autologging successfully enabled for pyspark.\n",
      "2025/04/07 16:01:35 INFO mlflow.tracking.fluent: Autologging successfully enabled for sklearn.\n",
      "2025/04/07 16:01:35 INFO mlflow.tracking.fluent: Autologging successfully enabled for statsmodels.\n",
      "2025/04/07 16:01:35 WARNING mlflow.spark: With Pyspark >= 3.2, PYSPARK_PIN_THREAD environment variable must be set to false for Spark datasource autologging to work.\n",
      "2025/04/07 16:01:35 INFO mlflow.tracking.fluent: Autologging successfully enabled for pyspark.\n"
     ]
    },
    {
     "name": "stdout",
     "output_type": "stream",
     "text": [
      "Epoch 116/200, Loss: 83.1746, Train Accuracy: 0.8605, Validation Accuracy: 0.3205, F1 Score: 0.3111\n"
     ]
    },
    {
     "name": "stderr",
     "output_type": "stream",
     "text": [
      "2025/04/07 16:01:40 INFO mlflow.tracking.fluent: Autologging successfully enabled for sklearn.\n",
      "2025/04/07 16:01:40 INFO mlflow.tracking.fluent: Autologging successfully enabled for statsmodels.\n",
      "2025/04/07 16:01:40 WARNING mlflow.spark: With Pyspark >= 3.2, PYSPARK_PIN_THREAD environment variable must be set to false for Spark datasource autologging to work.\n",
      "2025/04/07 16:01:40 INFO mlflow.tracking.fluent: Autologging successfully enabled for pyspark.\n"
     ]
    },
    {
     "name": "stdout",
     "output_type": "stream",
     "text": [
      "Epoch 117/200, Loss: 82.2108, Train Accuracy: 0.8770, Validation Accuracy: 0.2750, F1 Score: 0.2593\n"
     ]
    },
    {
     "name": "stderr",
     "output_type": "stream",
     "text": [
      "2025/04/07 16:01:45 INFO mlflow.tracking.fluent: Autologging successfully enabled for sklearn.\n",
      "2025/04/07 16:01:45 INFO mlflow.tracking.fluent: Autologging successfully enabled for statsmodels.\n",
      "2025/04/07 16:01:45 WARNING mlflow.spark: With Pyspark >= 3.2, PYSPARK_PIN_THREAD environment variable must be set to false for Spark datasource autologging to work.\n",
      "2025/04/07 16:01:45 INFO mlflow.tracking.fluent: Autologging successfully enabled for pyspark.\n"
     ]
    },
    {
     "name": "stdout",
     "output_type": "stream",
     "text": [
      "Epoch 118/200, Loss: 84.8002, Train Accuracy: 0.8286, Validation Accuracy: 0.3045, F1 Score: 0.2871\n"
     ]
    },
    {
     "name": "stderr",
     "output_type": "stream",
     "text": [
      "2025/04/07 16:01:50 INFO mlflow.tracking.fluent: Autologging successfully enabled for sklearn.\n",
      "2025/04/07 16:01:50 INFO mlflow.tracking.fluent: Autologging successfully enabled for statsmodels.\n",
      "2025/04/07 16:01:50 WARNING mlflow.spark: With Pyspark >= 3.2, PYSPARK_PIN_THREAD environment variable must be set to false for Spark datasource autologging to work.\n",
      "2025/04/07 16:01:50 INFO mlflow.tracking.fluent: Autologging successfully enabled for pyspark.\n"
     ]
    },
    {
     "name": "stdout",
     "output_type": "stream",
     "text": [
      "Epoch 119/200, Loss: 83.4278, Train Accuracy: 0.8542, Validation Accuracy: 0.3023, F1 Score: 0.2918\n"
     ]
    },
    {
     "name": "stderr",
     "output_type": "stream",
     "text": [
      "2025/04/07 16:01:55 INFO mlflow.tracking.fluent: Autologging successfully enabled for sklearn.\n",
      "2025/04/07 16:01:55 INFO mlflow.tracking.fluent: Autologging successfully enabled for statsmodels.\n",
      "2025/04/07 16:01:55 WARNING mlflow.spark: With Pyspark >= 3.2, PYSPARK_PIN_THREAD environment variable must be set to false for Spark datasource autologging to work.\n",
      "2025/04/07 16:01:55 INFO mlflow.tracking.fluent: Autologging successfully enabled for pyspark.\n"
     ]
    },
    {
     "name": "stdout",
     "output_type": "stream",
     "text": [
      "Epoch 120/200, Loss: 82.4894, Train Accuracy: 0.8702, Validation Accuracy: 0.2591, F1 Score: 0.2437\n"
     ]
    },
    {
     "name": "stderr",
     "output_type": "stream",
     "text": [
      "2025/04/07 16:01:59 INFO mlflow.tracking.fluent: Autologging successfully enabled for sklearn.\n",
      "2025/04/07 16:01:59 INFO mlflow.tracking.fluent: Autologging successfully enabled for statsmodels.\n",
      "2025/04/07 16:01:59 WARNING mlflow.spark: With Pyspark >= 3.2, PYSPARK_PIN_THREAD environment variable must be set to false for Spark datasource autologging to work.\n",
      "2025/04/07 16:01:59 INFO mlflow.tracking.fluent: Autologging successfully enabled for pyspark.\n"
     ]
    },
    {
     "name": "stdout",
     "output_type": "stream",
     "text": [
      "Epoch 121/200, Loss: 82.1669, Train Accuracy: 0.8764, Validation Accuracy: 0.3045, F1 Score: 0.3013\n"
     ]
    },
    {
     "name": "stderr",
     "output_type": "stream",
     "text": [
      "2025/04/07 16:02:04 INFO mlflow.tracking.fluent: Autologging successfully enabled for sklearn.\n",
      "2025/04/07 16:02:04 INFO mlflow.tracking.fluent: Autologging successfully enabled for statsmodels.\n",
      "2025/04/07 16:02:04 WARNING mlflow.spark: With Pyspark >= 3.2, PYSPARK_PIN_THREAD environment variable must be set to false for Spark datasource autologging to work.\n",
      "2025/04/07 16:02:04 INFO mlflow.tracking.fluent: Autologging successfully enabled for pyspark.\n"
     ]
    },
    {
     "name": "stdout",
     "output_type": "stream",
     "text": [
      "Epoch 122/200, Loss: 82.2355, Train Accuracy: 0.8753, Validation Accuracy: 0.3000, F1 Score: 0.2927\n"
     ]
    },
    {
     "name": "stderr",
     "output_type": "stream",
     "text": [
      "2025/04/07 16:02:09 INFO mlflow.tracking.fluent: Autologging successfully enabled for sklearn.\n",
      "2025/04/07 16:02:09 INFO mlflow.tracking.fluent: Autologging successfully enabled for statsmodels.\n",
      "2025/04/07 16:02:09 WARNING mlflow.spark: With Pyspark >= 3.2, PYSPARK_PIN_THREAD environment variable must be set to false for Spark datasource autologging to work.\n",
      "2025/04/07 16:02:09 INFO mlflow.tracking.fluent: Autologging successfully enabled for pyspark.\n"
     ]
    },
    {
     "name": "stdout",
     "output_type": "stream",
     "text": [
      "Epoch 123/200, Loss: 82.5399, Train Accuracy: 0.8713, Validation Accuracy: 0.3045, F1 Score: 0.2959\n"
     ]
    },
    {
     "name": "stderr",
     "output_type": "stream",
     "text": [
      "2025/04/07 16:02:13 INFO mlflow.tracking.fluent: Autologging successfully enabled for sklearn.\n",
      "2025/04/07 16:02:13 INFO mlflow.tracking.fluent: Autologging successfully enabled for statsmodels.\n",
      "2025/04/07 16:02:13 WARNING mlflow.spark: With Pyspark >= 3.2, PYSPARK_PIN_THREAD environment variable must be set to false for Spark datasource autologging to work.\n",
      "2025/04/07 16:02:13 INFO mlflow.tracking.fluent: Autologging successfully enabled for pyspark.\n"
     ]
    },
    {
     "name": "stdout",
     "output_type": "stream",
     "text": [
      "Epoch 124/200, Loss: 81.0689, Train Accuracy: 0.8986, Validation Accuracy: 0.3182, F1 Score: 0.3089\n",
      "Epoch 125/200, Loss: 81.3447, Train Accuracy: 0.8946, Validation Accuracy: 0.3000, F1 Score: 0.3021\n"
     ]
    },
    {
     "name": "stderr",
     "output_type": "stream",
     "text": [
      "2025/04/07 16:02:19 INFO mlflow.tracking.fluent: Autologging successfully enabled for sklearn.\n",
      "2025/04/07 16:02:19 INFO mlflow.tracking.fluent: Autologging successfully enabled for statsmodels.\n",
      "2025/04/07 16:02:19 WARNING mlflow.spark: With Pyspark >= 3.2, PYSPARK_PIN_THREAD environment variable must be set to false for Spark datasource autologging to work.\n",
      "2025/04/07 16:02:19 INFO mlflow.tracking.fluent: Autologging successfully enabled for pyspark.\n",
      "2025/04/07 16:02:23 INFO mlflow.tracking.fluent: Autologging successfully enabled for sklearn.\n",
      "2025/04/07 16:02:23 INFO mlflow.tracking.fluent: Autologging successfully enabled for statsmodels.\n",
      "2025/04/07 16:02:23 WARNING mlflow.spark: With Pyspark >= 3.2, PYSPARK_PIN_THREAD environment variable must be set to false for Spark datasource autologging to work.\n",
      "2025/04/07 16:02:23 INFO mlflow.tracking.fluent: Autologging successfully enabled for pyspark.\n"
     ]
    },
    {
     "name": "stdout",
     "output_type": "stream",
     "text": [
      "Epoch 126/200, Loss: 81.5001, Train Accuracy: 0.8901, Validation Accuracy: 0.3182, F1 Score: 0.2977\n"
     ]
    },
    {
     "name": "stderr",
     "output_type": "stream",
     "text": [
      "2025/04/07 16:02:28 INFO mlflow.tracking.fluent: Autologging successfully enabled for sklearn.\n",
      "2025/04/07 16:02:28 INFO mlflow.tracking.fluent: Autologging successfully enabled for statsmodels.\n",
      "2025/04/07 16:02:28 WARNING mlflow.spark: With Pyspark >= 3.2, PYSPARK_PIN_THREAD environment variable must be set to false for Spark datasource autologging to work.\n",
      "2025/04/07 16:02:28 INFO mlflow.tracking.fluent: Autologging successfully enabled for pyspark.\n"
     ]
    },
    {
     "name": "stdout",
     "output_type": "stream",
     "text": [
      "Epoch 127/200, Loss: 82.2533, Train Accuracy: 0.8787, Validation Accuracy: 0.2795, F1 Score: 0.2836\n"
     ]
    },
    {
     "name": "stderr",
     "output_type": "stream",
     "text": [
      "2025/04/07 16:02:33 INFO mlflow.tracking.fluent: Autologging successfully enabled for sklearn.\n",
      "2025/04/07 16:02:33 INFO mlflow.tracking.fluent: Autologging successfully enabled for statsmodels.\n",
      "2025/04/07 16:02:33 WARNING mlflow.spark: With Pyspark >= 3.2, PYSPARK_PIN_THREAD environment variable must be set to false for Spark datasource autologging to work.\n",
      "2025/04/07 16:02:33 INFO mlflow.tracking.fluent: Autologging successfully enabled for pyspark.\n"
     ]
    },
    {
     "name": "stdout",
     "output_type": "stream",
     "text": [
      "Epoch 128/200, Loss: 81.1835, Train Accuracy: 0.8952, Validation Accuracy: 0.3023, F1 Score: 0.3012\n"
     ]
    },
    {
     "name": "stderr",
     "output_type": "stream",
     "text": [
      "2025/04/07 16:02:38 INFO mlflow.tracking.fluent: Autologging successfully enabled for sklearn.\n",
      "2025/04/07 16:02:38 INFO mlflow.tracking.fluent: Autologging successfully enabled for statsmodels.\n",
      "2025/04/07 16:02:38 WARNING mlflow.spark: With Pyspark >= 3.2, PYSPARK_PIN_THREAD environment variable must be set to false for Spark datasource autologging to work.\n",
      "2025/04/07 16:02:38 INFO mlflow.tracking.fluent: Autologging successfully enabled for pyspark.\n"
     ]
    },
    {
     "name": "stdout",
     "output_type": "stream",
     "text": [
      "Epoch 129/200, Loss: 81.5344, Train Accuracy: 0.8884, Validation Accuracy: 0.3091, F1 Score: 0.2880\n"
     ]
    },
    {
     "name": "stderr",
     "output_type": "stream",
     "text": [
      "2025/04/07 16:02:42 INFO mlflow.tracking.fluent: Autologging successfully enabled for sklearn.\n",
      "2025/04/07 16:02:42 INFO mlflow.tracking.fluent: Autologging successfully enabled for statsmodels.\n",
      "2025/04/07 16:02:42 WARNING mlflow.spark: With Pyspark >= 3.2, PYSPARK_PIN_THREAD environment variable must be set to false for Spark datasource autologging to work.\n",
      "2025/04/07 16:02:42 INFO mlflow.tracking.fluent: Autologging successfully enabled for pyspark.\n"
     ]
    },
    {
     "name": "stdout",
     "output_type": "stream",
     "text": [
      "Epoch 130/200, Loss: 80.7535, Train Accuracy: 0.9032, Validation Accuracy: 0.2977, F1 Score: 0.2974\n"
     ]
    },
    {
     "name": "stderr",
     "output_type": "stream",
     "text": [
      "2025/04/07 16:02:47 INFO mlflow.tracking.fluent: Autologging successfully enabled for sklearn.\n",
      "2025/04/07 16:02:47 INFO mlflow.tracking.fluent: Autologging successfully enabled for statsmodels.\n",
      "2025/04/07 16:02:47 WARNING mlflow.spark: With Pyspark >= 3.2, PYSPARK_PIN_THREAD environment variable must be set to false for Spark datasource autologging to work.\n",
      "2025/04/07 16:02:47 INFO mlflow.tracking.fluent: Autologging successfully enabled for pyspark.\n"
     ]
    },
    {
     "name": "stdout",
     "output_type": "stream",
     "text": [
      "Epoch 131/200, Loss: 80.4429, Train Accuracy: 0.9095, Validation Accuracy: 0.2909, F1 Score: 0.2839\n"
     ]
    },
    {
     "name": "stderr",
     "output_type": "stream",
     "text": [
      "2025/04/07 16:02:52 INFO mlflow.tracking.fluent: Autologging successfully enabled for sklearn.\n",
      "2025/04/07 16:02:52 INFO mlflow.tracking.fluent: Autologging successfully enabled for statsmodels.\n",
      "2025/04/07 16:02:52 WARNING mlflow.spark: With Pyspark >= 3.2, PYSPARK_PIN_THREAD environment variable must be set to false for Spark datasource autologging to work.\n",
      "2025/04/07 16:02:52 INFO mlflow.tracking.fluent: Autologging successfully enabled for pyspark.\n"
     ]
    },
    {
     "name": "stdout",
     "output_type": "stream",
     "text": [
      "Epoch 132/200, Loss: 80.6707, Train Accuracy: 0.9049, Validation Accuracy: 0.3091, F1 Score: 0.3013\n"
     ]
    },
    {
     "name": "stderr",
     "output_type": "stream",
     "text": [
      "2025/04/07 16:02:56 INFO mlflow.tracking.fluent: Autologging successfully enabled for sklearn.\n",
      "2025/04/07 16:02:56 INFO mlflow.tracking.fluent: Autologging successfully enabled for statsmodels.\n",
      "2025/04/07 16:02:56 WARNING mlflow.spark: With Pyspark >= 3.2, PYSPARK_PIN_THREAD environment variable must be set to false for Spark datasource autologging to work.\n",
      "2025/04/07 16:02:56 INFO mlflow.tracking.fluent: Autologging successfully enabled for pyspark.\n"
     ]
    },
    {
     "name": "stdout",
     "output_type": "stream",
     "text": [
      "Epoch 133/200, Loss: 80.3605, Train Accuracy: 0.9106, Validation Accuracy: 0.3000, F1 Score: 0.2829\n",
      "Epoch 134/200, Loss: 80.3119, Train Accuracy: 0.9106, Validation Accuracy: 0.3227, F1 Score: 0.3126\n"
     ]
    },
    {
     "name": "stderr",
     "output_type": "stream",
     "text": [
      "2025/04/07 16:03:02 INFO mlflow.tracking.fluent: Autologging successfully enabled for sklearn.\n",
      "2025/04/07 16:03:02 INFO mlflow.tracking.fluent: Autologging successfully enabled for statsmodels.\n",
      "2025/04/07 16:03:02 WARNING mlflow.spark: With Pyspark >= 3.2, PYSPARK_PIN_THREAD environment variable must be set to false for Spark datasource autologging to work.\n",
      "2025/04/07 16:03:02 INFO mlflow.tracking.fluent: Autologging successfully enabled for pyspark.\n",
      "2025/04/07 16:03:07 INFO mlflow.tracking.fluent: Autologging successfully enabled for sklearn.\n",
      "2025/04/07 16:03:07 INFO mlflow.tracking.fluent: Autologging successfully enabled for statsmodels.\n",
      "2025/04/07 16:03:07 WARNING mlflow.spark: With Pyspark >= 3.2, PYSPARK_PIN_THREAD environment variable must be set to false for Spark datasource autologging to work.\n",
      "2025/04/07 16:03:07 INFO mlflow.tracking.fluent: Autologging successfully enabled for pyspark.\n"
     ]
    },
    {
     "name": "stdout",
     "output_type": "stream",
     "text": [
      "Epoch 135/200, Loss: 80.4967, Train Accuracy: 0.9077, Validation Accuracy: 0.3205, F1 Score: 0.3075\n"
     ]
    },
    {
     "name": "stderr",
     "output_type": "stream",
     "text": [
      "2025/04/07 16:03:11 INFO mlflow.tracking.fluent: Autologging successfully enabled for sklearn.\n",
      "2025/04/07 16:03:11 INFO mlflow.tracking.fluent: Autologging successfully enabled for statsmodels.\n",
      "2025/04/07 16:03:11 WARNING mlflow.spark: With Pyspark >= 3.2, PYSPARK_PIN_THREAD environment variable must be set to false for Spark datasource autologging to work.\n",
      "2025/04/07 16:03:11 INFO mlflow.tracking.fluent: Autologging successfully enabled for pyspark.\n"
     ]
    },
    {
     "name": "stdout",
     "output_type": "stream",
     "text": [
      "Epoch 136/200, Loss: 79.9032, Train Accuracy: 0.9180, Validation Accuracy: 0.3341, F1 Score: 0.3302\n"
     ]
    },
    {
     "name": "stderr",
     "output_type": "stream",
     "text": [
      "2025/04/07 16:03:16 INFO mlflow.tracking.fluent: Autologging successfully enabled for sklearn.\n",
      "2025/04/07 16:03:16 INFO mlflow.tracking.fluent: Autologging successfully enabled for statsmodels.\n",
      "2025/04/07 16:03:16 WARNING mlflow.spark: With Pyspark >= 3.2, PYSPARK_PIN_THREAD environment variable must be set to false for Spark datasource autologging to work.\n",
      "2025/04/07 16:03:16 INFO mlflow.tracking.fluent: Autologging successfully enabled for pyspark.\n"
     ]
    },
    {
     "name": "stdout",
     "output_type": "stream",
     "text": [
      "Epoch 137/200, Loss: 79.9777, Train Accuracy: 0.9169, Validation Accuracy: 0.3182, F1 Score: 0.3050\n"
     ]
    },
    {
     "name": "stderr",
     "output_type": "stream",
     "text": [
      "2025/04/07 16:03:21 INFO mlflow.tracking.fluent: Autologging successfully enabled for sklearn.\n",
      "2025/04/07 16:03:21 INFO mlflow.tracking.fluent: Autologging successfully enabled for statsmodels.\n",
      "2025/04/07 16:03:21 WARNING mlflow.spark: With Pyspark >= 3.2, PYSPARK_PIN_THREAD environment variable must be set to false for Spark datasource autologging to work.\n",
      "2025/04/07 16:03:21 INFO mlflow.tracking.fluent: Autologging successfully enabled for pyspark.\n"
     ]
    },
    {
     "name": "stdout",
     "output_type": "stream",
     "text": [
      "Epoch 138/200, Loss: 79.9849, Train Accuracy: 0.9169, Validation Accuracy: 0.3364, F1 Score: 0.3255\n"
     ]
    },
    {
     "name": "stderr",
     "output_type": "stream",
     "text": [
      "2025/04/07 16:03:25 INFO mlflow.tracking.fluent: Autologging successfully enabled for sklearn.\n",
      "2025/04/07 16:03:25 INFO mlflow.tracking.fluent: Autologging successfully enabled for statsmodels.\n",
      "2025/04/07 16:03:25 WARNING mlflow.spark: With Pyspark >= 3.2, PYSPARK_PIN_THREAD environment variable must be set to false for Spark datasource autologging to work.\n",
      "2025/04/07 16:03:25 INFO mlflow.tracking.fluent: Autologging successfully enabled for pyspark.\n"
     ]
    },
    {
     "name": "stdout",
     "output_type": "stream",
     "text": [
      "Epoch 139/200, Loss: 79.7643, Train Accuracy: 0.9214, Validation Accuracy: 0.3295, F1 Score: 0.3232\n"
     ]
    },
    {
     "name": "stderr",
     "output_type": "stream",
     "text": [
      "2025/04/07 16:03:30 INFO mlflow.tracking.fluent: Autologging successfully enabled for sklearn.\n",
      "2025/04/07 16:03:30 INFO mlflow.tracking.fluent: Autologging successfully enabled for statsmodels.\n",
      "2025/04/07 16:03:30 WARNING mlflow.spark: With Pyspark >= 3.2, PYSPARK_PIN_THREAD environment variable must be set to false for Spark datasource autologging to work.\n",
      "2025/04/07 16:03:30 INFO mlflow.tracking.fluent: Autologging successfully enabled for pyspark.\n"
     ]
    },
    {
     "name": "stdout",
     "output_type": "stream",
     "text": [
      "Epoch 140/200, Loss: 79.7450, Train Accuracy: 0.9220, Validation Accuracy: 0.3273, F1 Score: 0.3212\n"
     ]
    },
    {
     "name": "stderr",
     "output_type": "stream",
     "text": [
      "2025/04/07 16:03:35 INFO mlflow.tracking.fluent: Autologging successfully enabled for sklearn.\n",
      "2025/04/07 16:03:35 INFO mlflow.tracking.fluent: Autologging successfully enabled for statsmodels.\n",
      "2025/04/07 16:03:35 WARNING mlflow.spark: With Pyspark >= 3.2, PYSPARK_PIN_THREAD environment variable must be set to false for Spark datasource autologging to work.\n",
      "2025/04/07 16:03:35 INFO mlflow.tracking.fluent: Autologging successfully enabled for pyspark.\n"
     ]
    },
    {
     "name": "stdout",
     "output_type": "stream",
     "text": [
      "Epoch 141/200, Loss: 79.7681, Train Accuracy: 0.9214, Validation Accuracy: 0.3227, F1 Score: 0.3173\n"
     ]
    },
    {
     "name": "stderr",
     "output_type": "stream",
     "text": [
      "2025/04/07 16:03:40 INFO mlflow.tracking.fluent: Autologging successfully enabled for sklearn.\n",
      "2025/04/07 16:03:40 INFO mlflow.tracking.fluent: Autologging successfully enabled for statsmodels.\n",
      "2025/04/07 16:03:40 WARNING mlflow.spark: With Pyspark >= 3.2, PYSPARK_PIN_THREAD environment variable must be set to false for Spark datasource autologging to work.\n",
      "2025/04/07 16:03:40 INFO mlflow.tracking.fluent: Autologging successfully enabled for pyspark.\n"
     ]
    },
    {
     "name": "stdout",
     "output_type": "stream",
     "text": [
      "Epoch 142/200, Loss: 79.7667, Train Accuracy: 0.9214, Validation Accuracy: 0.3227, F1 Score: 0.3164\n"
     ]
    },
    {
     "name": "stderr",
     "output_type": "stream",
     "text": [
      "2025/04/07 16:03:46 INFO mlflow.tracking.fluent: Autologging successfully enabled for sklearn.\n",
      "2025/04/07 16:03:46 INFO mlflow.tracking.fluent: Autologging successfully enabled for statsmodels.\n",
      "2025/04/07 16:03:46 WARNING mlflow.spark: With Pyspark >= 3.2, PYSPARK_PIN_THREAD environment variable must be set to false for Spark datasource autologging to work.\n",
      "2025/04/07 16:03:46 INFO mlflow.tracking.fluent: Autologging successfully enabled for pyspark.\n"
     ]
    },
    {
     "name": "stdout",
     "output_type": "stream",
     "text": [
      "Epoch 143/200, Loss: 79.7608, Train Accuracy: 0.9214, Validation Accuracy: 0.3182, F1 Score: 0.3155\n"
     ]
    },
    {
     "name": "stderr",
     "output_type": "stream",
     "text": [
      "2025/04/07 16:03:51 INFO mlflow.tracking.fluent: Autologging successfully enabled for sklearn.\n",
      "2025/04/07 16:03:51 INFO mlflow.tracking.fluent: Autologging successfully enabled for statsmodels.\n",
      "2025/04/07 16:03:51 WARNING mlflow.spark: With Pyspark >= 3.2, PYSPARK_PIN_THREAD environment variable must be set to false for Spark datasource autologging to work.\n",
      "2025/04/07 16:03:51 INFO mlflow.tracking.fluent: Autologging successfully enabled for pyspark.\n"
     ]
    },
    {
     "name": "stdout",
     "output_type": "stream",
     "text": [
      "Epoch 144/200, Loss: 79.6788, Train Accuracy: 0.9231, Validation Accuracy: 0.3159, F1 Score: 0.3127\n"
     ]
    },
    {
     "name": "stderr",
     "output_type": "stream",
     "text": [
      "2025/04/07 16:03:56 INFO mlflow.tracking.fluent: Autologging successfully enabled for sklearn.\n",
      "2025/04/07 16:03:56 INFO mlflow.tracking.fluent: Autologging successfully enabled for statsmodels.\n",
      "2025/04/07 16:03:56 WARNING mlflow.spark: With Pyspark >= 3.2, PYSPARK_PIN_THREAD environment variable must be set to false for Spark datasource autologging to work.\n",
      "2025/04/07 16:03:56 INFO mlflow.tracking.fluent: Autologging successfully enabled for pyspark.\n"
     ]
    },
    {
     "name": "stdout",
     "output_type": "stream",
     "text": [
      "Epoch 145/200, Loss: 79.6654, Train Accuracy: 0.9231, Validation Accuracy: 0.3159, F1 Score: 0.3115\n"
     ]
    },
    {
     "name": "stderr",
     "output_type": "stream",
     "text": [
      "2025/04/07 16:04:01 INFO mlflow.tracking.fluent: Autologging successfully enabled for sklearn.\n",
      "2025/04/07 16:04:01 INFO mlflow.tracking.fluent: Autologging successfully enabled for statsmodels.\n",
      "2025/04/07 16:04:01 WARNING mlflow.spark: With Pyspark >= 3.2, PYSPARK_PIN_THREAD environment variable must be set to false for Spark datasource autologging to work.\n",
      "2025/04/07 16:04:01 INFO mlflow.tracking.fluent: Autologging successfully enabled for pyspark.\n"
     ]
    },
    {
     "name": "stdout",
     "output_type": "stream",
     "text": [
      "Epoch 146/200, Loss: 79.6762, Train Accuracy: 0.9231, Validation Accuracy: 0.3136, F1 Score: 0.3104\n"
     ]
    },
    {
     "name": "stderr",
     "output_type": "stream",
     "text": [
      "2025/04/07 16:04:06 INFO mlflow.tracking.fluent: Autologging successfully enabled for sklearn.\n",
      "2025/04/07 16:04:06 INFO mlflow.tracking.fluent: Autologging successfully enabled for statsmodels.\n",
      "2025/04/07 16:04:06 WARNING mlflow.spark: With Pyspark >= 3.2, PYSPARK_PIN_THREAD environment variable must be set to false for Spark datasource autologging to work.\n",
      "2025/04/07 16:04:06 INFO mlflow.tracking.fluent: Autologging successfully enabled for pyspark.\n"
     ]
    },
    {
     "name": "stdout",
     "output_type": "stream",
     "text": [
      "Epoch 147/200, Loss: 79.6934, Train Accuracy: 0.9231, Validation Accuracy: 0.3136, F1 Score: 0.3087\n"
     ]
    },
    {
     "name": "stderr",
     "output_type": "stream",
     "text": [
      "2025/04/07 16:04:11 INFO mlflow.tracking.fluent: Autologging successfully enabled for sklearn.\n",
      "2025/04/07 16:04:11 INFO mlflow.tracking.fluent: Autologging successfully enabled for statsmodels.\n",
      "2025/04/07 16:04:11 WARNING mlflow.spark: With Pyspark >= 3.2, PYSPARK_PIN_THREAD environment variable must be set to false for Spark datasource autologging to work.\n",
      "2025/04/07 16:04:11 INFO mlflow.tracking.fluent: Autologging successfully enabled for pyspark.\n"
     ]
    },
    {
     "name": "stdout",
     "output_type": "stream",
     "text": [
      "Epoch 148/200, Loss: 80.2955, Train Accuracy: 0.9117, Validation Accuracy: 0.2932, F1 Score: 0.2769\n"
     ]
    },
    {
     "name": "stderr",
     "output_type": "stream",
     "text": [
      "2025/04/07 16:04:16 INFO mlflow.tracking.fluent: Autologging successfully enabled for sklearn.\n",
      "2025/04/07 16:04:16 INFO mlflow.tracking.fluent: Autologging successfully enabled for statsmodels.\n",
      "2025/04/07 16:04:16 WARNING mlflow.spark: With Pyspark >= 3.2, PYSPARK_PIN_THREAD environment variable must be set to false for Spark datasource autologging to work.\n",
      "2025/04/07 16:04:16 INFO mlflow.tracking.fluent: Autologging successfully enabled for pyspark.\n"
     ]
    },
    {
     "name": "stdout",
     "output_type": "stream",
     "text": [
      "Epoch 149/200, Loss: 80.4823, Train Accuracy: 0.9083, Validation Accuracy: 0.2909, F1 Score: 0.2820\n"
     ]
    },
    {
     "name": "stderr",
     "output_type": "stream",
     "text": [
      "2025/04/07 16:04:21 INFO mlflow.tracking.fluent: Autologging successfully enabled for sklearn.\n",
      "2025/04/07 16:04:21 INFO mlflow.tracking.fluent: Autologging successfully enabled for statsmodels.\n",
      "2025/04/07 16:04:21 WARNING mlflow.spark: With Pyspark >= 3.2, PYSPARK_PIN_THREAD environment variable must be set to false for Spark datasource autologging to work.\n",
      "2025/04/07 16:04:21 INFO mlflow.tracking.fluent: Autologging successfully enabled for pyspark.\n"
     ]
    },
    {
     "name": "stdout",
     "output_type": "stream",
     "text": [
      "Epoch 150/200, Loss: 80.5910, Train Accuracy: 0.9060, Validation Accuracy: 0.2932, F1 Score: 0.2901\n"
     ]
    },
    {
     "name": "stderr",
     "output_type": "stream",
     "text": [
      "2025/04/07 16:04:26 INFO mlflow.tracking.fluent: Autologging successfully enabled for sklearn.\n",
      "2025/04/07 16:04:26 INFO mlflow.tracking.fluent: Autologging successfully enabled for statsmodels.\n",
      "2025/04/07 16:04:26 WARNING mlflow.spark: With Pyspark >= 3.2, PYSPARK_PIN_THREAD environment variable must be set to false for Spark datasource autologging to work.\n",
      "2025/04/07 16:04:26 INFO mlflow.tracking.fluent: Autologging successfully enabled for pyspark.\n"
     ]
    },
    {
     "name": "stdout",
     "output_type": "stream",
     "text": [
      "Epoch 151/200, Loss: 80.2509, Train Accuracy: 0.9123, Validation Accuracy: 0.2750, F1 Score: 0.2762\n"
     ]
    },
    {
     "name": "stderr",
     "output_type": "stream",
     "text": [
      "2025/04/07 16:04:31 INFO mlflow.tracking.fluent: Autologging successfully enabled for sklearn.\n",
      "2025/04/07 16:04:31 INFO mlflow.tracking.fluent: Autologging successfully enabled for statsmodels.\n",
      "2025/04/07 16:04:31 WARNING mlflow.spark: With Pyspark >= 3.2, PYSPARK_PIN_THREAD environment variable must be set to false for Spark datasource autologging to work.\n",
      "2025/04/07 16:04:31 INFO mlflow.tracking.fluent: Autologging successfully enabled for pyspark.\n"
     ]
    },
    {
     "name": "stdout",
     "output_type": "stream",
     "text": [
      "Epoch 152/200, Loss: 81.1322, Train Accuracy: 0.8964, Validation Accuracy: 0.2955, F1 Score: 0.2797\n",
      "Epoch 153/200, Loss: 81.9600, Train Accuracy: 0.8815, Validation Accuracy: 0.2955, F1 Score: 0.2818\n"
     ]
    },
    {
     "name": "stderr",
     "output_type": "stream",
     "text": [
      "2025/04/07 16:04:36 INFO mlflow.tracking.fluent: Autologging successfully enabled for sklearn.\n",
      "2025/04/07 16:04:36 INFO mlflow.tracking.fluent: Autologging successfully enabled for statsmodels.\n",
      "2025/04/07 16:04:36 WARNING mlflow.spark: With Pyspark >= 3.2, PYSPARK_PIN_THREAD environment variable must be set to false for Spark datasource autologging to work.\n",
      "2025/04/07 16:04:36 INFO mlflow.tracking.fluent: Autologging successfully enabled for pyspark.\n",
      "2025/04/07 16:04:41 INFO mlflow.tracking.fluent: Autologging successfully enabled for sklearn.\n",
      "2025/04/07 16:04:41 INFO mlflow.tracking.fluent: Autologging successfully enabled for statsmodels.\n",
      "2025/04/07 16:04:41 WARNING mlflow.spark: With Pyspark >= 3.2, PYSPARK_PIN_THREAD environment variable must be set to false for Spark datasource autologging to work.\n",
      "2025/04/07 16:04:41 INFO mlflow.tracking.fluent: Autologging successfully enabled for pyspark.\n"
     ]
    },
    {
     "name": "stdout",
     "output_type": "stream",
     "text": [
      "Epoch 154/200, Loss: 81.5741, Train Accuracy: 0.8895, Validation Accuracy: 0.3091, F1 Score: 0.2918\n"
     ]
    },
    {
     "name": "stderr",
     "output_type": "stream",
     "text": [
      "2025/04/07 16:04:46 INFO mlflow.tracking.fluent: Autologging successfully enabled for sklearn.\n",
      "2025/04/07 16:04:46 INFO mlflow.tracking.fluent: Autologging successfully enabled for statsmodels.\n",
      "2025/04/07 16:04:46 WARNING mlflow.spark: With Pyspark >= 3.2, PYSPARK_PIN_THREAD environment variable must be set to false for Spark datasource autologging to work.\n",
      "2025/04/07 16:04:46 INFO mlflow.tracking.fluent: Autologging successfully enabled for pyspark.\n"
     ]
    },
    {
     "name": "stdout",
     "output_type": "stream",
     "text": [
      "Epoch 155/200, Loss: 81.8849, Train Accuracy: 0.8821, Validation Accuracy: 0.3136, F1 Score: 0.3032\n"
     ]
    },
    {
     "name": "stderr",
     "output_type": "stream",
     "text": [
      "2025/04/07 16:04:51 INFO mlflow.tracking.fluent: Autologging successfully enabled for sklearn.\n",
      "2025/04/07 16:04:51 INFO mlflow.tracking.fluent: Autologging successfully enabled for statsmodels.\n",
      "2025/04/07 16:04:51 WARNING mlflow.spark: With Pyspark >= 3.2, PYSPARK_PIN_THREAD environment variable must be set to false for Spark datasource autologging to work.\n",
      "2025/04/07 16:04:51 INFO mlflow.tracking.fluent: Autologging successfully enabled for pyspark.\n"
     ]
    },
    {
     "name": "stdout",
     "output_type": "stream",
     "text": [
      "Epoch 156/200, Loss: 81.4499, Train Accuracy: 0.8907, Validation Accuracy: 0.3205, F1 Score: 0.3136\n"
     ]
    },
    {
     "name": "stderr",
     "output_type": "stream",
     "text": [
      "2025/04/07 16:04:56 INFO mlflow.tracking.fluent: Autologging successfully enabled for sklearn.\n",
      "2025/04/07 16:04:56 INFO mlflow.tracking.fluent: Autologging successfully enabled for statsmodels.\n",
      "2025/04/07 16:04:56 WARNING mlflow.spark: With Pyspark >= 3.2, PYSPARK_PIN_THREAD environment variable must be set to false for Spark datasource autologging to work.\n",
      "2025/04/07 16:04:56 INFO mlflow.tracking.fluent: Autologging successfully enabled for pyspark.\n"
     ]
    },
    {
     "name": "stdout",
     "output_type": "stream",
     "text": [
      "Epoch 157/200, Loss: 81.1777, Train Accuracy: 0.8964, Validation Accuracy: 0.3273, F1 Score: 0.3299\n"
     ]
    },
    {
     "name": "stderr",
     "output_type": "stream",
     "text": [
      "2025/04/07 16:05:01 INFO mlflow.tracking.fluent: Autologging successfully enabled for sklearn.\n",
      "2025/04/07 16:05:01 INFO mlflow.tracking.fluent: Autologging successfully enabled for statsmodels.\n",
      "2025/04/07 16:05:01 WARNING mlflow.spark: With Pyspark >= 3.2, PYSPARK_PIN_THREAD environment variable must be set to false for Spark datasource autologging to work.\n",
      "2025/04/07 16:05:01 INFO mlflow.tracking.fluent: Autologging successfully enabled for pyspark.\n"
     ]
    },
    {
     "name": "stdout",
     "output_type": "stream",
     "text": [
      "Epoch 158/200, Loss: 81.9964, Train Accuracy: 0.8815, Validation Accuracy: 0.3273, F1 Score: 0.3228\n"
     ]
    },
    {
     "name": "stderr",
     "output_type": "stream",
     "text": [
      "2025/04/07 16:05:06 INFO mlflow.tracking.fluent: Autologging successfully enabled for sklearn.\n",
      "2025/04/07 16:05:06 INFO mlflow.tracking.fluent: Autologging successfully enabled for statsmodels.\n",
      "2025/04/07 16:05:06 WARNING mlflow.spark: With Pyspark >= 3.2, PYSPARK_PIN_THREAD environment variable must be set to false for Spark datasource autologging to work.\n",
      "2025/04/07 16:05:06 INFO mlflow.tracking.fluent: Autologging successfully enabled for pyspark.\n"
     ]
    },
    {
     "name": "stdout",
     "output_type": "stream",
     "text": [
      "Epoch 159/200, Loss: 81.9876, Train Accuracy: 0.8815, Validation Accuracy: 0.3023, F1 Score: 0.2934\n"
     ]
    },
    {
     "name": "stderr",
     "output_type": "stream",
     "text": [
      "2025/04/07 16:05:11 INFO mlflow.tracking.fluent: Autologging successfully enabled for sklearn.\n",
      "2025/04/07 16:05:11 INFO mlflow.tracking.fluent: Autologging successfully enabled for statsmodels.\n",
      "2025/04/07 16:05:11 WARNING mlflow.spark: With Pyspark >= 3.2, PYSPARK_PIN_THREAD environment variable must be set to false for Spark datasource autologging to work.\n",
      "2025/04/07 16:05:11 INFO mlflow.tracking.fluent: Autologging successfully enabled for pyspark.\n"
     ]
    },
    {
     "name": "stdout",
     "output_type": "stream",
     "text": [
      "Epoch 160/200, Loss: 81.0579, Train Accuracy: 0.8992, Validation Accuracy: 0.3182, F1 Score: 0.3177\n"
     ]
    },
    {
     "name": "stderr",
     "output_type": "stream",
     "text": [
      "2025/04/07 16:05:15 INFO mlflow.tracking.fluent: Autologging successfully enabled for sklearn.\n",
      "2025/04/07 16:05:15 INFO mlflow.tracking.fluent: Autologging successfully enabled for statsmodels.\n",
      "2025/04/07 16:05:15 WARNING mlflow.spark: With Pyspark >= 3.2, PYSPARK_PIN_THREAD environment variable must be set to false for Spark datasource autologging to work.\n",
      "2025/04/07 16:05:15 INFO mlflow.tracking.fluent: Autologging successfully enabled for pyspark.\n"
     ]
    },
    {
     "name": "stdout",
     "output_type": "stream",
     "text": [
      "Epoch 161/200, Loss: 80.6335, Train Accuracy: 0.9049, Validation Accuracy: 0.3432, F1 Score: 0.3387\n"
     ]
    },
    {
     "name": "stderr",
     "output_type": "stream",
     "text": [
      "2025/04/07 16:05:21 INFO mlflow.tracking.fluent: Autologging successfully enabled for sklearn.\n",
      "2025/04/07 16:05:21 INFO mlflow.tracking.fluent: Autologging successfully enabled for statsmodels.\n",
      "2025/04/07 16:05:21 WARNING mlflow.spark: With Pyspark >= 3.2, PYSPARK_PIN_THREAD environment variable must be set to false for Spark datasource autologging to work.\n",
      "2025/04/07 16:05:21 INFO mlflow.tracking.fluent: Autologging successfully enabled for pyspark.\n"
     ]
    },
    {
     "name": "stdout",
     "output_type": "stream",
     "text": [
      "Epoch 162/200, Loss: 80.9006, Train Accuracy: 0.9009, Validation Accuracy: 0.3091, F1 Score: 0.3014\n",
      "Epoch 163/200, Loss: 81.1055, Train Accuracy: 0.8969, Validation Accuracy: 0.2977, F1 Score: 0.2860\n"
     ]
    },
    {
     "name": "stderr",
     "output_type": "stream",
     "text": [
      "2025/04/07 16:05:26 INFO mlflow.tracking.fluent: Autologging successfully enabled for sklearn.\n",
      "2025/04/07 16:05:26 INFO mlflow.tracking.fluent: Autologging successfully enabled for statsmodels.\n",
      "2025/04/07 16:05:26 WARNING mlflow.spark: With Pyspark >= 3.2, PYSPARK_PIN_THREAD environment variable must be set to false for Spark datasource autologging to work.\n",
      "2025/04/07 16:05:26 INFO mlflow.tracking.fluent: Autologging successfully enabled for pyspark.\n",
      "2025/04/07 16:05:30 INFO mlflow.tracking.fluent: Autologging successfully enabled for sklearn.\n",
      "2025/04/07 16:05:30 INFO mlflow.tracking.fluent: Autologging successfully enabled for statsmodels.\n",
      "2025/04/07 16:05:30 WARNING mlflow.spark: With Pyspark >= 3.2, PYSPARK_PIN_THREAD environment variable must be set to false for Spark datasource autologging to work.\n",
      "2025/04/07 16:05:30 INFO mlflow.tracking.fluent: Autologging successfully enabled for pyspark.\n"
     ]
    },
    {
     "name": "stdout",
     "output_type": "stream",
     "text": [
      "Epoch 164/200, Loss: 80.6532, Train Accuracy: 0.9038, Validation Accuracy: 0.3250, F1 Score: 0.3119\n"
     ]
    },
    {
     "name": "stderr",
     "output_type": "stream",
     "text": [
      "2025/04/07 16:05:36 INFO mlflow.tracking.fluent: Autologging successfully enabled for sklearn.\n",
      "2025/04/07 16:05:36 INFO mlflow.tracking.fluent: Autologging successfully enabled for statsmodels.\n",
      "2025/04/07 16:05:36 WARNING mlflow.spark: With Pyspark >= 3.2, PYSPARK_PIN_THREAD environment variable must be set to false for Spark datasource autologging to work.\n",
      "2025/04/07 16:05:36 INFO mlflow.tracking.fluent: Autologging successfully enabled for pyspark.\n"
     ]
    },
    {
     "name": "stdout",
     "output_type": "stream",
     "text": [
      "Epoch 165/200, Loss: 80.1551, Train Accuracy: 0.9140, Validation Accuracy: 0.3341, F1 Score: 0.3246\n"
     ]
    },
    {
     "name": "stderr",
     "output_type": "stream",
     "text": [
      "2025/04/07 16:05:41 INFO mlflow.tracking.fluent: Autologging successfully enabled for sklearn.\n",
      "2025/04/07 16:05:41 INFO mlflow.tracking.fluent: Autologging successfully enabled for statsmodels.\n",
      "2025/04/07 16:05:41 WARNING mlflow.spark: With Pyspark >= 3.2, PYSPARK_PIN_THREAD environment variable must be set to false for Spark datasource autologging to work.\n",
      "2025/04/07 16:05:41 INFO mlflow.tracking.fluent: Autologging successfully enabled for pyspark.\n"
     ]
    },
    {
     "name": "stdout",
     "output_type": "stream",
     "text": [
      "Epoch 166/200, Loss: 80.1428, Train Accuracy: 0.9146, Validation Accuracy: 0.3341, F1 Score: 0.3236\n"
     ]
    },
    {
     "name": "stderr",
     "output_type": "stream",
     "text": [
      "2025/04/07 16:05:46 INFO mlflow.tracking.fluent: Autologging successfully enabled for sklearn.\n",
      "2025/04/07 16:05:46 INFO mlflow.tracking.fluent: Autologging successfully enabled for statsmodels.\n",
      "2025/04/07 16:05:46 WARNING mlflow.spark: With Pyspark >= 3.2, PYSPARK_PIN_THREAD environment variable must be set to false for Spark datasource autologging to work.\n",
      "2025/04/07 16:05:46 INFO mlflow.tracking.fluent: Autologging successfully enabled for pyspark.\n"
     ]
    },
    {
     "name": "stdout",
     "output_type": "stream",
     "text": [
      "Epoch 167/200, Loss: 80.1094, Train Accuracy: 0.9151, Validation Accuracy: 0.3205, F1 Score: 0.3034\n"
     ]
    },
    {
     "name": "stderr",
     "output_type": "stream",
     "text": [
      "2025/04/07 16:05:51 INFO mlflow.tracking.fluent: Autologging successfully enabled for sklearn.\n",
      "2025/04/07 16:05:51 INFO mlflow.tracking.fluent: Autologging successfully enabled for statsmodels.\n",
      "2025/04/07 16:05:51 WARNING mlflow.spark: With Pyspark >= 3.2, PYSPARK_PIN_THREAD environment variable must be set to false for Spark datasource autologging to work.\n",
      "2025/04/07 16:05:51 INFO mlflow.tracking.fluent: Autologging successfully enabled for pyspark.\n"
     ]
    },
    {
     "name": "stdout",
     "output_type": "stream",
     "text": [
      "Epoch 168/200, Loss: 80.4209, Train Accuracy: 0.9089, Validation Accuracy: 0.2977, F1 Score: 0.2931\n"
     ]
    },
    {
     "name": "stderr",
     "output_type": "stream",
     "text": [
      "2025/04/07 16:05:56 INFO mlflow.tracking.fluent: Autologging successfully enabled for sklearn.\n",
      "2025/04/07 16:05:56 INFO mlflow.tracking.fluent: Autologging successfully enabled for statsmodels.\n",
      "2025/04/07 16:05:56 WARNING mlflow.spark: With Pyspark >= 3.2, PYSPARK_PIN_THREAD environment variable must be set to false for Spark datasource autologging to work.\n",
      "2025/04/07 16:05:56 INFO mlflow.tracking.fluent: Autologging successfully enabled for pyspark.\n"
     ]
    },
    {
     "name": "stdout",
     "output_type": "stream",
     "text": [
      "Epoch 169/200, Loss: 80.1690, Train Accuracy: 0.9146, Validation Accuracy: 0.3136, F1 Score: 0.3105\n"
     ]
    },
    {
     "name": "stderr",
     "output_type": "stream",
     "text": [
      "2025/04/07 16:06:01 INFO mlflow.tracking.fluent: Autologging successfully enabled for sklearn.\n",
      "2025/04/07 16:06:01 INFO mlflow.tracking.fluent: Autologging successfully enabled for statsmodels.\n",
      "2025/04/07 16:06:01 WARNING mlflow.spark: With Pyspark >= 3.2, PYSPARK_PIN_THREAD environment variable must be set to false for Spark datasource autologging to work.\n",
      "2025/04/07 16:06:01 INFO mlflow.tracking.fluent: Autologging successfully enabled for pyspark.\n"
     ]
    },
    {
     "name": "stdout",
     "output_type": "stream",
     "text": [
      "Epoch 170/200, Loss: 79.9756, Train Accuracy: 0.9180, Validation Accuracy: 0.2932, F1 Score: 0.2846\n"
     ]
    },
    {
     "name": "stderr",
     "output_type": "stream",
     "text": [
      "2025/04/07 16:06:06 INFO mlflow.tracking.fluent: Autologging successfully enabled for sklearn.\n",
      "2025/04/07 16:06:06 INFO mlflow.tracking.fluent: Autologging successfully enabled for statsmodels.\n",
      "2025/04/07 16:06:06 WARNING mlflow.spark: With Pyspark >= 3.2, PYSPARK_PIN_THREAD environment variable must be set to false for Spark datasource autologging to work.\n",
      "2025/04/07 16:06:06 INFO mlflow.tracking.fluent: Autologging successfully enabled for pyspark.\n"
     ]
    },
    {
     "name": "stdout",
     "output_type": "stream",
     "text": [
      "Epoch 171/200, Loss: 81.0579, Train Accuracy: 0.8969, Validation Accuracy: 0.2955, F1 Score: 0.2842\n",
      "Epoch 172/200, Loss: 80.3125, Train Accuracy: 0.9117, Validation Accuracy: 0.3250, F1 Score: 0.3121\n"
     ]
    },
    {
     "name": "stderr",
     "output_type": "stream",
     "text": [
      "2025/04/07 16:06:10 INFO mlflow.tracking.fluent: Autologging successfully enabled for sklearn.\n",
      "2025/04/07 16:06:10 INFO mlflow.tracking.fluent: Autologging successfully enabled for statsmodels.\n",
      "2025/04/07 16:06:10 WARNING mlflow.spark: With Pyspark >= 3.2, PYSPARK_PIN_THREAD environment variable must be set to false for Spark datasource autologging to work.\n",
      "2025/04/07 16:06:10 INFO mlflow.tracking.fluent: Autologging successfully enabled for pyspark.\n",
      "2025/04/07 16:06:16 INFO mlflow.tracking.fluent: Autologging successfully enabled for sklearn.\n",
      "2025/04/07 16:06:16 INFO mlflow.tracking.fluent: Autologging successfully enabled for statsmodels.\n",
      "2025/04/07 16:06:16 WARNING mlflow.spark: With Pyspark >= 3.2, PYSPARK_PIN_THREAD environment variable must be set to false for Spark datasource autologging to work.\n",
      "2025/04/07 16:06:16 INFO mlflow.tracking.fluent: Autologging successfully enabled for pyspark.\n"
     ]
    },
    {
     "name": "stdout",
     "output_type": "stream",
     "text": [
      "Epoch 173/200, Loss: 80.5087, Train Accuracy: 0.9083, Validation Accuracy: 0.3136, F1 Score: 0.3102\n"
     ]
    },
    {
     "name": "stderr",
     "output_type": "stream",
     "text": [
      "2025/04/07 16:06:21 INFO mlflow.tracking.fluent: Autologging successfully enabled for sklearn.\n",
      "2025/04/07 16:06:21 INFO mlflow.tracking.fluent: Autologging successfully enabled for statsmodels.\n",
      "2025/04/07 16:06:21 WARNING mlflow.spark: With Pyspark >= 3.2, PYSPARK_PIN_THREAD environment variable must be set to false for Spark datasource autologging to work.\n",
      "2025/04/07 16:06:21 INFO mlflow.tracking.fluent: Autologging successfully enabled for pyspark.\n"
     ]
    },
    {
     "name": "stdout",
     "output_type": "stream",
     "text": [
      "Epoch 174/200, Loss: 81.0507, Train Accuracy: 0.8969, Validation Accuracy: 0.3114, F1 Score: 0.3073\n"
     ]
    },
    {
     "name": "stderr",
     "output_type": "stream",
     "text": [
      "2025/04/07 16:06:25 INFO mlflow.tracking.fluent: Autologging successfully enabled for sklearn.\n",
      "2025/04/07 16:06:26 INFO mlflow.tracking.fluent: Autologging successfully enabled for statsmodels.\n",
      "2025/04/07 16:06:26 WARNING mlflow.spark: With Pyspark >= 3.2, PYSPARK_PIN_THREAD environment variable must be set to false for Spark datasource autologging to work.\n",
      "2025/04/07 16:06:26 INFO mlflow.tracking.fluent: Autologging successfully enabled for pyspark.\n"
     ]
    },
    {
     "name": "stdout",
     "output_type": "stream",
     "text": [
      "Epoch 175/200, Loss: 80.4921, Train Accuracy: 0.9072, Validation Accuracy: 0.3023, F1 Score: 0.2981\n"
     ]
    },
    {
     "name": "stderr",
     "output_type": "stream",
     "text": [
      "2025/04/07 16:06:31 INFO mlflow.tracking.fluent: Autologging successfully enabled for sklearn.\n",
      "2025/04/07 16:06:31 INFO mlflow.tracking.fluent: Autologging successfully enabled for statsmodels.\n",
      "2025/04/07 16:06:31 WARNING mlflow.spark: With Pyspark >= 3.2, PYSPARK_PIN_THREAD environment variable must be set to false for Spark datasource autologging to work.\n",
      "2025/04/07 16:06:31 INFO mlflow.tracking.fluent: Autologging successfully enabled for pyspark.\n"
     ]
    },
    {
     "name": "stdout",
     "output_type": "stream",
     "text": [
      "Epoch 176/200, Loss: 80.2132, Train Accuracy: 0.9146, Validation Accuracy: 0.3250, F1 Score: 0.3114\n"
     ]
    },
    {
     "name": "stderr",
     "output_type": "stream",
     "text": [
      "2025/04/07 16:06:36 INFO mlflow.tracking.fluent: Autologging successfully enabled for sklearn.\n",
      "2025/04/07 16:06:36 INFO mlflow.tracking.fluent: Autologging successfully enabled for statsmodels.\n",
      "2025/04/07 16:06:36 WARNING mlflow.spark: With Pyspark >= 3.2, PYSPARK_PIN_THREAD environment variable must be set to false for Spark datasource autologging to work.\n",
      "2025/04/07 16:06:36 INFO mlflow.tracking.fluent: Autologging successfully enabled for pyspark.\n"
     ]
    },
    {
     "name": "stdout",
     "output_type": "stream",
     "text": [
      "Epoch 177/200, Loss: 80.4687, Train Accuracy: 0.9089, Validation Accuracy: 0.3318, F1 Score: 0.3178\n"
     ]
    },
    {
     "name": "stderr",
     "output_type": "stream",
     "text": [
      "2025/04/07 16:06:41 INFO mlflow.tracking.fluent: Autologging successfully enabled for sklearn.\n",
      "2025/04/07 16:06:41 INFO mlflow.tracking.fluent: Autologging successfully enabled for statsmodels.\n",
      "2025/04/07 16:06:41 WARNING mlflow.spark: With Pyspark >= 3.2, PYSPARK_PIN_THREAD environment variable must be set to false for Spark datasource autologging to work.\n",
      "2025/04/07 16:06:41 INFO mlflow.tracking.fluent: Autologging successfully enabled for pyspark.\n"
     ]
    },
    {
     "name": "stdout",
     "output_type": "stream",
     "text": [
      "Epoch 178/200, Loss: 80.3317, Train Accuracy: 0.9117, Validation Accuracy: 0.3205, F1 Score: 0.3221\n"
     ]
    },
    {
     "name": "stderr",
     "output_type": "stream",
     "text": [
      "2025/04/07 16:06:46 INFO mlflow.tracking.fluent: Autologging successfully enabled for sklearn.\n",
      "2025/04/07 16:06:46 INFO mlflow.tracking.fluent: Autologging successfully enabled for statsmodels.\n",
      "2025/04/07 16:06:46 WARNING mlflow.spark: With Pyspark >= 3.2, PYSPARK_PIN_THREAD environment variable must be set to false for Spark datasource autologging to work.\n",
      "2025/04/07 16:06:46 INFO mlflow.tracking.fluent: Autologging successfully enabled for pyspark.\n"
     ]
    },
    {
     "name": "stdout",
     "output_type": "stream",
     "text": [
      "Epoch 179/200, Loss: 80.6775, Train Accuracy: 0.9043, Validation Accuracy: 0.3114, F1 Score: 0.3087\n"
     ]
    },
    {
     "name": "stderr",
     "output_type": "stream",
     "text": [
      "2025/04/07 16:06:50 INFO mlflow.tracking.fluent: Autologging successfully enabled for sklearn.\n",
      "2025/04/07 16:06:50 INFO mlflow.tracking.fluent: Autologging successfully enabled for statsmodels.\n",
      "2025/04/07 16:06:50 WARNING mlflow.spark: With Pyspark >= 3.2, PYSPARK_PIN_THREAD environment variable must be set to false for Spark datasource autologging to work.\n",
      "2025/04/07 16:06:50 INFO mlflow.tracking.fluent: Autologging successfully enabled for pyspark.\n"
     ]
    },
    {
     "name": "stdout",
     "output_type": "stream",
     "text": [
      "Epoch 180/200, Loss: 80.8784, Train Accuracy: 0.9009, Validation Accuracy: 0.2773, F1 Score: 0.2611\n"
     ]
    },
    {
     "name": "stderr",
     "output_type": "stream",
     "text": [
      "2025/04/07 16:06:56 INFO mlflow.tracking.fluent: Autologging successfully enabled for sklearn.\n",
      "2025/04/07 16:06:56 INFO mlflow.tracking.fluent: Autologging successfully enabled for statsmodels.\n",
      "2025/04/07 16:06:56 WARNING mlflow.spark: With Pyspark >= 3.2, PYSPARK_PIN_THREAD environment variable must be set to false for Spark datasource autologging to work.\n",
      "2025/04/07 16:06:56 INFO mlflow.tracking.fluent: Autologging successfully enabled for pyspark.\n"
     ]
    },
    {
     "name": "stdout",
     "output_type": "stream",
     "text": [
      "Epoch 181/200, Loss: 82.3726, Train Accuracy: 0.8747, Validation Accuracy: 0.3000, F1 Score: 0.2949\n"
     ]
    },
    {
     "name": "stderr",
     "output_type": "stream",
     "text": [
      "2025/04/07 16:07:01 INFO mlflow.tracking.fluent: Autologging successfully enabled for sklearn.\n",
      "2025/04/07 16:07:01 INFO mlflow.tracking.fluent: Autologging successfully enabled for statsmodels.\n",
      "2025/04/07 16:07:01 WARNING mlflow.spark: With Pyspark >= 3.2, PYSPARK_PIN_THREAD environment variable must be set to false for Spark datasource autologging to work.\n",
      "2025/04/07 16:07:01 INFO mlflow.tracking.fluent: Autologging successfully enabled for pyspark.\n"
     ]
    },
    {
     "name": "stdout",
     "output_type": "stream",
     "text": [
      "Epoch 182/200, Loss: 81.0031, Train Accuracy: 0.8992, Validation Accuracy: 0.3023, F1 Score: 0.2966\n"
     ]
    },
    {
     "name": "stderr",
     "output_type": "stream",
     "text": [
      "2025/04/07 16:07:05 INFO mlflow.tracking.fluent: Autologging successfully enabled for sklearn.\n",
      "2025/04/07 16:07:05 INFO mlflow.tracking.fluent: Autologging successfully enabled for statsmodels.\n",
      "2025/04/07 16:07:05 WARNING mlflow.spark: With Pyspark >= 3.2, PYSPARK_PIN_THREAD environment variable must be set to false for Spark datasource autologging to work.\n",
      "2025/04/07 16:07:05 INFO mlflow.tracking.fluent: Autologging successfully enabled for pyspark.\n"
     ]
    },
    {
     "name": "stdout",
     "output_type": "stream",
     "text": [
      "Epoch 183/200, Loss: 80.6896, Train Accuracy: 0.9049, Validation Accuracy: 0.2932, F1 Score: 0.2876\n"
     ]
    },
    {
     "name": "stderr",
     "output_type": "stream",
     "text": [
      "2025/04/07 16:07:11 INFO mlflow.tracking.fluent: Autologging successfully enabled for sklearn.\n",
      "2025/04/07 16:07:11 INFO mlflow.tracking.fluent: Autologging successfully enabled for statsmodels.\n",
      "2025/04/07 16:07:11 WARNING mlflow.spark: With Pyspark >= 3.2, PYSPARK_PIN_THREAD environment variable must be set to false for Spark datasource autologging to work.\n",
      "2025/04/07 16:07:11 INFO mlflow.tracking.fluent: Autologging successfully enabled for pyspark.\n"
     ]
    },
    {
     "name": "stdout",
     "output_type": "stream",
     "text": [
      "Epoch 184/200, Loss: 80.1229, Train Accuracy: 0.9146, Validation Accuracy: 0.2977, F1 Score: 0.2944\n"
     ]
    },
    {
     "name": "stderr",
     "output_type": "stream",
     "text": [
      "2025/04/07 16:07:16 INFO mlflow.tracking.fluent: Autologging successfully enabled for sklearn.\n",
      "2025/04/07 16:07:16 INFO mlflow.tracking.fluent: Autologging successfully enabled for statsmodels.\n",
      "2025/04/07 16:07:16 WARNING mlflow.spark: With Pyspark >= 3.2, PYSPARK_PIN_THREAD environment variable must be set to false for Spark datasource autologging to work.\n",
      "2025/04/07 16:07:16 INFO mlflow.tracking.fluent: Autologging successfully enabled for pyspark.\n"
     ]
    },
    {
     "name": "stdout",
     "output_type": "stream",
     "text": [
      "Epoch 185/200, Loss: 79.8329, Train Accuracy: 0.9203, Validation Accuracy: 0.3000, F1 Score: 0.2966\n"
     ]
    },
    {
     "name": "stderr",
     "output_type": "stream",
     "text": [
      "2025/04/07 16:07:21 INFO mlflow.tracking.fluent: Autologging successfully enabled for sklearn.\n",
      "2025/04/07 16:07:21 INFO mlflow.tracking.fluent: Autologging successfully enabled for statsmodels.\n",
      "2025/04/07 16:07:21 WARNING mlflow.spark: With Pyspark >= 3.2, PYSPARK_PIN_THREAD environment variable must be set to false for Spark datasource autologging to work.\n",
      "2025/04/07 16:07:21 INFO mlflow.tracking.fluent: Autologging successfully enabled for pyspark.\n"
     ]
    },
    {
     "name": "stdout",
     "output_type": "stream",
     "text": [
      "Epoch 186/200, Loss: 79.7603, Train Accuracy: 0.9214, Validation Accuracy: 0.3136, F1 Score: 0.3049\n"
     ]
    },
    {
     "name": "stderr",
     "output_type": "stream",
     "text": [
      "2025/04/07 16:07:26 INFO mlflow.tracking.fluent: Autologging successfully enabled for sklearn.\n",
      "2025/04/07 16:07:26 INFO mlflow.tracking.fluent: Autologging successfully enabled for statsmodels.\n",
      "2025/04/07 16:07:26 WARNING mlflow.spark: With Pyspark >= 3.2, PYSPARK_PIN_THREAD environment variable must be set to false for Spark datasource autologging to work.\n",
      "2025/04/07 16:07:26 INFO mlflow.tracking.fluent: Autologging successfully enabled for pyspark.\n"
     ]
    },
    {
     "name": "stdout",
     "output_type": "stream",
     "text": [
      "Epoch 187/200, Loss: 79.7955, Train Accuracy: 0.9214, Validation Accuracy: 0.3273, F1 Score: 0.3182\n"
     ]
    },
    {
     "name": "stderr",
     "output_type": "stream",
     "text": [
      "2025/04/07 16:07:30 INFO mlflow.tracking.fluent: Autologging successfully enabled for sklearn.\n",
      "2025/04/07 16:07:30 INFO mlflow.tracking.fluent: Autologging successfully enabled for statsmodels.\n",
      "2025/04/07 16:07:30 WARNING mlflow.spark: With Pyspark >= 3.2, PYSPARK_PIN_THREAD environment variable must be set to false for Spark datasource autologging to work.\n",
      "2025/04/07 16:07:30 INFO mlflow.tracking.fluent: Autologging successfully enabled for pyspark.\n"
     ]
    },
    {
     "name": "stdout",
     "output_type": "stream",
     "text": [
      "Epoch 188/200, Loss: 80.2704, Train Accuracy: 0.9123, Validation Accuracy: 0.3318, F1 Score: 0.3250\n"
     ]
    },
    {
     "name": "stderr",
     "output_type": "stream",
     "text": [
      "2025/04/07 16:07:36 INFO mlflow.tracking.fluent: Autologging successfully enabled for sklearn.\n",
      "2025/04/07 16:07:36 INFO mlflow.tracking.fluent: Autologging successfully enabled for statsmodels.\n",
      "2025/04/07 16:07:36 WARNING mlflow.spark: With Pyspark >= 3.2, PYSPARK_PIN_THREAD environment variable must be set to false for Spark datasource autologging to work.\n",
      "2025/04/07 16:07:36 INFO mlflow.tracking.fluent: Autologging successfully enabled for pyspark.\n"
     ]
    },
    {
     "name": "stdout",
     "output_type": "stream",
     "text": [
      "Epoch 189/200, Loss: 80.1409, Train Accuracy: 0.9151, Validation Accuracy: 0.3273, F1 Score: 0.3234\n"
     ]
    },
    {
     "name": "stderr",
     "output_type": "stream",
     "text": [
      "2025/04/07 16:07:41 INFO mlflow.tracking.fluent: Autologging successfully enabled for sklearn.\n",
      "2025/04/07 16:07:41 INFO mlflow.tracking.fluent: Autologging successfully enabled for statsmodels.\n",
      "2025/04/07 16:07:41 WARNING mlflow.spark: With Pyspark >= 3.2, PYSPARK_PIN_THREAD environment variable must be set to false for Spark datasource autologging to work.\n",
      "2025/04/07 16:07:41 INFO mlflow.tracking.fluent: Autologging successfully enabled for pyspark.\n"
     ]
    },
    {
     "name": "stdout",
     "output_type": "stream",
     "text": [
      "Epoch 190/200, Loss: 79.7495, Train Accuracy: 0.9220, Validation Accuracy: 0.3295, F1 Score: 0.3186\n",
      "Epoch 191/200, Loss: 79.7340, Train Accuracy: 0.9220, Validation Accuracy: 0.2886, F1 Score: 0.2802\n"
     ]
    },
    {
     "name": "stderr",
     "output_type": "stream",
     "text": [
      "2025/04/07 16:07:46 INFO mlflow.tracking.fluent: Autologging successfully enabled for sklearn.\n",
      "2025/04/07 16:07:46 INFO mlflow.tracking.fluent: Autologging successfully enabled for statsmodels.\n",
      "2025/04/07 16:07:46 WARNING mlflow.spark: With Pyspark >= 3.2, PYSPARK_PIN_THREAD environment variable must be set to false for Spark datasource autologging to work.\n",
      "2025/04/07 16:07:46 INFO mlflow.tracking.fluent: Autologging successfully enabled for pyspark.\n",
      "2025/04/07 16:07:51 INFO mlflow.tracking.fluent: Autologging successfully enabled for sklearn.\n",
      "2025/04/07 16:07:51 INFO mlflow.tracking.fluent: Autologging successfully enabled for statsmodels.\n",
      "2025/04/07 16:07:51 WARNING mlflow.spark: With Pyspark >= 3.2, PYSPARK_PIN_THREAD environment variable must be set to false for Spark datasource autologging to work.\n",
      "2025/04/07 16:07:51 INFO mlflow.tracking.fluent: Autologging successfully enabled for pyspark.\n"
     ]
    },
    {
     "name": "stdout",
     "output_type": "stream",
     "text": [
      "Epoch 192/200, Loss: 80.5339, Train Accuracy: 0.9083, Validation Accuracy: 0.2909, F1 Score: 0.2893\n"
     ]
    },
    {
     "name": "stderr",
     "output_type": "stream",
     "text": [
      "2025/04/07 16:07:56 INFO mlflow.tracking.fluent: Autologging successfully enabled for sklearn.\n",
      "2025/04/07 16:07:56 INFO mlflow.tracking.fluent: Autologging successfully enabled for statsmodels.\n",
      "2025/04/07 16:07:56 WARNING mlflow.spark: With Pyspark >= 3.2, PYSPARK_PIN_THREAD environment variable must be set to false for Spark datasource autologging to work.\n",
      "2025/04/07 16:07:56 INFO mlflow.tracking.fluent: Autologging successfully enabled for pyspark.\n"
     ]
    },
    {
     "name": "stdout",
     "output_type": "stream",
     "text": [
      "Epoch 193/200, Loss: 80.6600, Train Accuracy: 0.9049, Validation Accuracy: 0.3091, F1 Score: 0.2947\n"
     ]
    },
    {
     "name": "stderr",
     "output_type": "stream",
     "text": [
      "2025/04/07 16:08:01 INFO mlflow.tracking.fluent: Autologging successfully enabled for sklearn.\n",
      "2025/04/07 16:08:01 INFO mlflow.tracking.fluent: Autologging successfully enabled for statsmodels.\n",
      "2025/04/07 16:08:01 WARNING mlflow.spark: With Pyspark >= 3.2, PYSPARK_PIN_THREAD environment variable must be set to false for Spark datasource autologging to work.\n",
      "2025/04/07 16:08:01 INFO mlflow.tracking.fluent: Autologging successfully enabled for pyspark.\n"
     ]
    },
    {
     "name": "stdout",
     "output_type": "stream",
     "text": [
      "Epoch 194/200, Loss: 80.0080, Train Accuracy: 0.9169, Validation Accuracy: 0.3023, F1 Score: 0.2968\n"
     ]
    },
    {
     "name": "stderr",
     "output_type": "stream",
     "text": [
      "2025/04/07 16:08:06 INFO mlflow.tracking.fluent: Autologging successfully enabled for sklearn.\n",
      "2025/04/07 16:08:06 INFO mlflow.tracking.fluent: Autologging successfully enabled for statsmodels.\n",
      "2025/04/07 16:08:06 WARNING mlflow.spark: With Pyspark >= 3.2, PYSPARK_PIN_THREAD environment variable must be set to false for Spark datasource autologging to work.\n",
      "2025/04/07 16:08:06 INFO mlflow.tracking.fluent: Autologging successfully enabled for pyspark.\n"
     ]
    },
    {
     "name": "stdout",
     "output_type": "stream",
     "text": [
      "Epoch 195/200, Loss: 79.8885, Train Accuracy: 0.9191, Validation Accuracy: 0.3364, F1 Score: 0.3235\n"
     ]
    },
    {
     "name": "stderr",
     "output_type": "stream",
     "text": [
      "2025/04/07 16:08:11 INFO mlflow.tracking.fluent: Autologging successfully enabled for sklearn.\n",
      "2025/04/07 16:08:11 INFO mlflow.tracking.fluent: Autologging successfully enabled for statsmodels.\n",
      "2025/04/07 16:08:11 WARNING mlflow.spark: With Pyspark >= 3.2, PYSPARK_PIN_THREAD environment variable must be set to false for Spark datasource autologging to work.\n",
      "2025/04/07 16:08:11 INFO mlflow.tracking.fluent: Autologging successfully enabled for pyspark.\n"
     ]
    },
    {
     "name": "stdout",
     "output_type": "stream",
     "text": [
      "Epoch 196/200, Loss: 80.0217, Train Accuracy: 0.9169, Validation Accuracy: 0.3227, F1 Score: 0.3142\n"
     ]
    },
    {
     "name": "stderr",
     "output_type": "stream",
     "text": [
      "2025/04/07 16:08:17 INFO mlflow.tracking.fluent: Autologging successfully enabled for sklearn.\n",
      "2025/04/07 16:08:17 INFO mlflow.tracking.fluent: Autologging successfully enabled for statsmodels.\n",
      "2025/04/07 16:08:17 WARNING mlflow.spark: With Pyspark >= 3.2, PYSPARK_PIN_THREAD environment variable must be set to false for Spark datasource autologging to work.\n",
      "2025/04/07 16:08:17 INFO mlflow.tracking.fluent: Autologging successfully enabled for pyspark.\n"
     ]
    },
    {
     "name": "stdout",
     "output_type": "stream",
     "text": [
      "Epoch 197/200, Loss: 80.1214, Train Accuracy: 0.9146, Validation Accuracy: 0.3477, F1 Score: 0.3351\n"
     ]
    },
    {
     "name": "stderr",
     "output_type": "stream",
     "text": [
      "2025/04/07 16:08:22 INFO mlflow.tracking.fluent: Autologging successfully enabled for sklearn.\n",
      "2025/04/07 16:08:22 INFO mlflow.tracking.fluent: Autologging successfully enabled for statsmodels.\n",
      "2025/04/07 16:08:22 WARNING mlflow.spark: With Pyspark >= 3.2, PYSPARK_PIN_THREAD environment variable must be set to false for Spark datasource autologging to work.\n",
      "2025/04/07 16:08:22 INFO mlflow.tracking.fluent: Autologging successfully enabled for pyspark.\n"
     ]
    },
    {
     "name": "stdout",
     "output_type": "stream",
     "text": [
      "Epoch 198/200, Loss: 79.8344, Train Accuracy: 0.9203, Validation Accuracy: 0.3295, F1 Score: 0.3206\n"
     ]
    },
    {
     "name": "stderr",
     "output_type": "stream",
     "text": [
      "2025/04/07 16:08:27 INFO mlflow.tracking.fluent: Autologging successfully enabled for sklearn.\n",
      "2025/04/07 16:08:27 INFO mlflow.tracking.fluent: Autologging successfully enabled for statsmodels.\n",
      "2025/04/07 16:08:27 WARNING mlflow.spark: With Pyspark >= 3.2, PYSPARK_PIN_THREAD environment variable must be set to false for Spark datasource autologging to work.\n",
      "2025/04/07 16:08:27 INFO mlflow.tracking.fluent: Autologging successfully enabled for pyspark.\n"
     ]
    },
    {
     "name": "stdout",
     "output_type": "stream",
     "text": [
      "Epoch 199/200, Loss: 79.6667, Train Accuracy: 0.9231, Validation Accuracy: 0.3273, F1 Score: 0.3197\n",
      "Epoch 200/200, Loss: 79.8301, Train Accuracy: 0.9208, Validation Accuracy: 0.3182, F1 Score: 0.2999\n"
     ]
    },
    {
     "data": {
      "image/png": "[encoded data removed]",
      "text/plain": [
       "<Figure size 800x500 with 1 Axes>"
      ]
     },
     "metadata": {},
     "output_type": "display_data"
    }
   ],
   "source": [
    "import numpy as np\n",
    "import torch\n",
    "from collections import Counter\n",
    "\n",
    "# Loop parameters\n",
    "epochs = 100  # Maximum number of epochs\n",
    "patience = 10  # Number of epochs to wait before stopping\n",
    "best_val_accuracy = 0  # Track the best validation accuracy\n",
    "early_stopping_epoch = 0  # Store the epoch where early stopping occurs\n",
    "counter = 0  # Count epochs without improvement\n",
    "\n",
    "# Store accuracies to plot later\n",
    "train_accuracies = []\n",
    "val_accuracies = []\n",
    "\n",
    "for epoch in range(epochs):\n",
    "\n",
    "    # mlflow.autolog()\n",
    "\n",
    "    # Training mode\n",
    "    model.train()\n",
    "    total_loss = 0\n",
    "    correct = 0\n",
    "    total = 0\n",
    "\n",
    "    for images, label in train_loader:\n",
    "        images, label = images.to(device), label.to(device)\n",
    "        optimizer.zero_grad()\n",
    "\n",
    "        # Forward pass\n",
    "        outputs = model(images)\n",
    "        loss = criterion(outputs, label)\n",
    "        loss.backward()\n",
    "        optimizer.step()\n",
    "\n",
    "        # Accumulate statistics\n",
    "        total_loss += loss.item()\n",
    "        _, predicted = torch.max(outputs, 1)\n",
    "        correct += (predicted == label).sum().item()\n",
    "        total += label.size(0)\n",
    "\n",
    "    # Calculate and log training accuracy\n",
    "    train_accuracy = correct / total\n",
    "    train_accuracies.append(train_accuracy)\n",
    "\n",
    "    # mlflow.log_metric(\"train_loss\", total_loss, step=epoch)\n",
    "    # mlflow.log_metric(\"train_accuracy\", train_accuracy, step=epoch)\n",
    "\n",
    "    # Validation phase\n",
    "    model.eval()\n",
    "    predictions, actuals = [], []\n",
    "    with torch.no_grad():\n",
    "        for images, label in val_loader:\n",
    "            images, label = images.to(device), label.to(device)\n",
    "            outputs = model(images)\n",
    "            _, preds = torch.max(outputs, 1)\n",
    "            predictions.extend(preds.cpu().numpy())\n",
    "            actuals.extend(label.cpu().numpy())\n",
    "\n",
    "    # Compute validation accuracy\n",
    "    val_accuracy = np.mean(np.array(predictions) == np.array(actuals))\n",
    "    val_accuracies.append(val_accuracy)\n",
    "    # mlflow.log_metric(\"val_accuracy\", val_accuracy, step=epoch)\n",
    "    f1 = f1_score(actuals, predictions, average='macro')\n",
    "    # mlflow.log_metric(\"val_f1_score\", f1, step=epoch)\n",
    "    print(f\"Epoch {epoch+1}/{epochs}, Loss: {total_loss:.4f}, Train Accuracy: {train_accuracy:.4f}, \"\n",
    "          f\"Validation Accuracy: {val_accuracy:.4f}, F1 Score: {f1:.4f}\")\n",
    "\n",
    "    # Early Stopping Check\n",
    "    if early_stop:\n",
    "      if val_accuracy > best_val_accuracy:\n",
    "          best_val_accuracy = val_accuracy\n",
    "          counter = 0\n",
    "      else:\n",
    "          counter += 1\n",
    "      if counter >= patience:\n",
    "          print(f\"Early stopping at epoch {epoch+1}\")\n",
    "          early_stopping_epoch = epoch + 1\n",
    "          break  # Stop training\n",
    "\n",
    "# Plot the accuracy over the epochs\n",
    "plt.figure(figsize=(8, 5))\n",
    "epochs_range = range(1, len(train_accuracies) + 1)\n",
    "plt.plot(epochs_range, train_accuracies, label=\"Train Accuracy\", color='blue')\n",
    "plt.plot(epochs_range, val_accuracies, label=\"Validation Accuracy\", color='red')\n",
    "plt.xlabel(\"Epochs\")\n",
    "plt.ylabel(\"Accuracy\")\n",
    "plt.title(\"Training vs Validation Accuracy (Early Stopping)\")\n",
    "plt.legend()\n",
    "plt.show()"
   ]
  },
  {
   "cell_type": "code",
   "execution_count": null,
   "metadata": {
    "ExecuteTime": {
     "end_time": "2025-03-27T10:35:04.791372Z",
     "start_time": "2025-03-27T10:35:04.636653Z"
    },
    "colab": {
     "base_uri": "https://localhost:8080/",
     "height": 877
    },
    "executionInfo": {
     "elapsed": 354,
     "status": "ok",
     "timestamp": 1744042112238,
     "user": {
      "displayName": "Hugo WERCK",
      "userId": "02564599842334010125"
     },
     "user_tz": -60
    },
    "id": "WqCYumzWG0eH",
    "outputId": "5b9bcb8a-1efa-4f6e-b2b1-4baac654e7de"
   },
   "outputs": [
    {
     "name": "stdout",
     "output_type": "stream",
     "text": [
      "[[ 5  0  4 14 16  0  4  1  5]\n",
      " [ 1  8  6 11  2  1  6  8  6]\n",
      " [ 2  3 13 10  4  5  2  2  8]\n",
      " [ 2  1  2 33  1  1  4  1  4]\n",
      " [ 3  0  2 10 25  1  2  3  2]\n",
      " [ 1  4 10  8  4 12  3  5  2]\n",
      " [ 1  5  2 18  2  1  9  6  5]\n",
      " [ 3  5  4 11  4  2  5 11  4]\n",
      " [ 0  1  8 13  0  0  0  3 24]]\n"
     ]
    },
    {
     "data": {
      "image/png": "[encoded data removed]",
      "text/plain": [
       "<Figure size 1000x800 with 2 Axes>"
      ]
     },
     "metadata": {},
     "output_type": "display_data"
    }
   ],
   "source": [
    "# Confusion matrix\n",
    "conf_matrix = confusion_matrix(actuals, predictions)\n",
    "print(conf_matrix)\n",
    "# Plot confusion matrix\n",
    "POKEMON_TYPES= train_df['label'].unique()\n",
    "plt.figure(figsize=(10, 8))\n",
    "sns.heatmap(conf_matrix, annot=True, fmt='d', cmap=\"Blues\", xticklabels=POKEMON_TYPES, yticklabels=POKEMON_TYPES)\n",
    "plt.xlabel(\"Predictions\")\n",
    "plt.ylabel(\"True Labels\")\n",
    "plt.title(\"Confusion Matrix\")\n",
    "plt.show()"
   ]
  },
  {
   "cell_type": "markdown",
   "metadata": {
    "id": "6BiC1ONPG0eH"
   },
   "source": [
    "## 8. Prediction on the test data"
   ]
  },
  {
   "cell_type": "code",
   "execution_count": null,
   "metadata": {
    "ExecuteTime": {
     "end_time": "2025-03-27T10:35:08.651684Z",
     "start_time": "2025-03-27T10:35:04.805045Z"
    },
    "colab": {
     "base_uri": "https://localhost:8080/"
    },
    "executionInfo": {
     "elapsed": 7,
     "status": "ok",
     "timestamp": 1744042112246,
     "user": {
      "displayName": "Hugo WERCK",
      "userId": "02564599842334010125"
     },
     "user_tz": -60
    },
    "id": "LmXOJQoMG0eH",
    "outputId": "5b3425ad-2f81-48ba-e4a9-48d545674efe"
   },
   "outputs": [
    {
     "name": "stdout",
     "output_type": "stream",
     "text": [
      "The folder 'Test' does not exist.\n"
     ]
    }
   ],
   "source": [
    "ON_TRAINING = False\n",
    "isolate_every_pokemon()"
   ]
  },
  {
   "cell_type": "code",
   "execution_count": null,
   "metadata": {
    "ExecuteTime": {
     "end_time": "2025-03-27T10:35:13.116064Z",
     "start_time": "2025-03-27T10:35:08.698668Z"
    },
    "colab": {
     "base_uri": "https://localhost:8080/"
    },
    "executionInfo": {
     "elapsed": 50160,
     "status": "ok",
     "timestamp": 1744042162408,
     "user": {
      "displayName": "Hugo WERCK",
      "userId": "02564599842334010125"
     },
     "user_tz": -60
    },
    "id": "FlaiC109G0eH",
    "outputId": "51d15e01-99f3-404f-c2e1-67888ada1c0b"
   },
   "outputs": [
    {
     "name": "stdout",
     "output_type": "stream",
     "text": [
      "Submission file 'submission.csv' has been created successfully!\n"
     ]
    }
   ],
   "source": [
    "import pandas as pd\n",
    "import os\n",
    "import torch\n",
    "from torchvision import transforms\n",
    "from PIL import Image\n",
    "\n",
    "# Define image transformations (same as used during training)\n",
    "transform = transforms.Compose([\n",
    "    transforms.Resize((64, 64)),  # Ensure same size as training images\n",
    "    transforms.ToTensor()\n",
    "])\n",
    "\n",
    "# Path to the folder containing test images\n",
    "test_folder = my_path + \"Test_processed\"\n",
    "\n",
    "# Load test images\n",
    "test_images = [f for f in os.listdir(test_folder) if f.endswith(\".png\")]\n",
    "\n",
    "# Create label-to-index mapping\n",
    "unique_labels = train_df[\"label\"].unique()\n",
    "label_map = {Id: label for Id, label in enumerate(unique_labels)}\n",
    "\n",
    "# Put model in evaluation mode\n",
    "model.eval()\n",
    "\n",
    "# Store results\n",
    "submission_results = []\n",
    "\n",
    "# Disable gradient computation for inference\n",
    "with torch.no_grad():\n",
    "    for img_name in test_images:\n",
    "        img_path = os.path.join(test_folder, img_name)\n",
    "        image = Image.open(img_path).convert(\"RGB\")\n",
    "        image = transform(image).unsqueeze(0).to(device)  # Add batch dimension & move to GPU\n",
    "\n",
    "        # Get model predictions\n",
    "        outputs = model(image)\n",
    "        _, predicted = torch.max(outputs, 1)  # Get predicted class index\n",
    "\n",
    "        # Remove \".png\" extension and store result\n",
    "        img_id = img_name.replace(\".png\", \"\")\n",
    "        submission_results.append([img_id, label_map[predicted.item()]])\n",
    "\n",
    "# Convert results to DataFrame\n",
    "submission_df = pd.DataFrame(submission_results, columns=[\"Id\", \"Label\"])\n",
    "\n",
    "# Save to CSV file\n",
    "submission_df.to_csv(\"../submission_task1.csv\", index=False, header=True)\n",
    "\n",
    "print(\"Submission file 'submission.csv' has been created successfully!\")\n"
   ]
  },
  {
   "cell_type": "markdown",
   "metadata": {
    "id": "lzZIrO4OG0eI"
   },
   "source": [
    "## 9. Some training metrics without using MLFlow"
   ]
  },
  {
   "cell_type": "code",
   "execution_count": null,
   "metadata": {
    "ExecuteTime": {
     "end_time": "2025-03-27T10:35:13.318360Z",
     "start_time": "2025-03-27T10:35:13.164262Z"
    },
    "colab": {
     "base_uri": "https://localhost:8080/"
    },
    "executionInfo": {
     "elapsed": 622,
     "status": "ok",
     "timestamp": 1744042163028,
     "user": {
      "displayName": "Hugo WERCK",
      "userId": "02564599842334010125"
     },
     "user_tz": -60
    },
    "id": "TUV4a60KG0eI",
    "outputId": "f1a73c1d-3d1c-4693-d41b-a362f61710b6"
   },
   "outputs": [
    {
     "name": "stdout",
     "output_type": "stream",
     "text": [
      "Training Set Metrics:\n",
      "               precision    recall  f1-score   support\n",
      "\n",
      "           0     0.9588    0.8359    0.8932       195\n",
      "           1     0.9712    0.6923    0.8084       195\n",
      "           2     0.8985    0.9077    0.9031       195\n",
      "           3     0.7866    0.9641    0.8664       195\n",
      "           4     0.9330    0.9949    0.9630       196\n",
      "           5     0.9511    0.8974    0.9235       195\n",
      "           6     0.9427    0.9282    0.9354       195\n",
      "           7     0.9538    0.9538    0.9538       195\n",
      "           8     0.8312    0.9846    0.9014       195\n",
      "\n",
      "    accuracy                         0.9066      1756\n",
      "   macro avg     0.9141    0.9066    0.9053      1756\n",
      "weighted avg     0.9141    0.9066    0.9054      1756\n",
      "\n"
     ]
    }
   ],
   "source": [
    "from sklearn.metrics import classification_report\n",
    "\n",
    "# Put model in evaluation mode\n",
    "model.eval()\n",
    "\n",
    "# Store actual and predicted labels\n",
    "train_predictions = []\n",
    "train_actuals = []\n",
    "\n",
    "with torch.no_grad():\n",
    "    for images, labels in train_loader:\n",
    "        images, labels = images.to(device), labels.to(device)\n",
    "        outputs = model(images)\n",
    "        _, preds = torch.max(outputs, 1)\n",
    "\n",
    "        train_predictions.extend(preds.cpu().numpy())\n",
    "        train_actuals.extend(labels.cpu().numpy())\n",
    "\n",
    "# Compute classification report\n",
    "train_report = classification_report(train_actuals, train_predictions, digits=4)\n",
    "print(\"Training Set Metrics:\\n\", train_report)\n"
   ]
  },
  {
   "cell_type": "code",
   "execution_count": null,
   "metadata": {
    "ExecuteTime": {
     "end_time": "2025-03-27T10:35:13.425266Z",
     "start_time": "2025-03-27T10:35:13.365623Z"
    },
    "colab": {
     "base_uri": "https://localhost:8080/"
    },
    "executionInfo": {
     "elapsed": 204,
     "status": "ok",
     "timestamp": 1744042163230,
     "user": {
      "displayName": "Hugo WERCK",
      "userId": "02564599842334010125"
     },
     "user_tz": -60
    },
    "id": "PKckBiFPG0eI",
    "outputId": "24f01da1-47b5-46a6-9723-87bc1a273b97"
   },
   "outputs": [
    {
     "name": "stdout",
     "output_type": "stream",
     "text": [
      "Validation Set Metrics:\n",
      "               precision    recall  f1-score   support\n",
      "\n",
      "           0     0.2778    0.1020    0.1493        49\n",
      "           1     0.2963    0.1633    0.2105        49\n",
      "           2     0.2549    0.2653    0.2600        49\n",
      "           3     0.2578    0.6735    0.3729        49\n",
      "           4     0.4310    0.5208    0.4717        48\n",
      "           5     0.5217    0.2449    0.3333        49\n",
      "           6     0.2571    0.1837    0.2143        49\n",
      "           7     0.2750    0.2245    0.2472        49\n",
      "           8     0.4000    0.4898    0.4404        49\n",
      "\n",
      "    accuracy                         0.3182       440\n",
      "   macro avg     0.3302    0.3186    0.2999       440\n",
      "weighted avg     0.3300    0.3182    0.2996       440\n",
      "\n"
     ]
    }
   ],
   "source": [
    "# Store actual and predicted labels\n",
    "val_predictions = []\n",
    "val_actuals = []\n",
    "\n",
    "with torch.no_grad():\n",
    "    for images, labels in val_loader:\n",
    "        images, labels = images.to(device), labels.to(device)\n",
    "        outputs = model(images)\n",
    "        _, preds = torch.max(outputs, 1)\n",
    "\n",
    "        val_predictions.extend(preds.cpu().numpy())\n",
    "        val_actuals.extend(labels.cpu().numpy())\n",
    "\n",
    "# Compute classification report\n",
    "val_report = classification_report(val_actuals, val_predictions, digits=4)\n",
    "print(\"Validation Set Metrics:\\n\", val_report)\n"
   ]
  }
 ],
 "metadata": {
  "colab": {
   "provenance": [],
   "toc_visible": true
  },
  "kaggle": {
   "accelerator": "none",
   "dataSources": [
    {
     "databundleVersionId": 11468928,
     "sourceId": 96499,
     "sourceType": "competition"
    }
   ],
   "isGpuEnabled": false,
   "isInternetEnabled": false,
   "language": "python",
   "sourceType": "notebook"
  },
  "kernelspec": {
   "display_name": "mpdw",
   "language": "python",
   "name": "mpdw"
  },
  "language_info": {
   "codemirror_mode": {
    "name": "ipython",
    "version": 3
   },
   "file_extension": ".py",
   "mimetype": "text/x-python",
   "name": "python",
   "nbconvert_exporter": "python",
   "pygments_lexer": "ipython3",
   "version": "3.9.21"
  }
 },
 "nbformat": 4,
 "nbformat_minor": 0
}
